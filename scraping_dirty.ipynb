{
  "nbformat": 4,
  "nbformat_minor": 0,
  "metadata": {
    "colab": {
      "name": "scraping_dirty.ipynb",
      "provenance": [],
      "collapsed_sections": [],
      "authorship_tag": "ABX9TyOxZTnQZqFHpYVls9/sngsq",
      "include_colab_link": true
    },
    "kernelspec": {
      "name": "python3",
      "display_name": "Python 3"
    },
    "language_info": {
      "name": "python"
    }
  },
  "cells": [
    {
      "cell_type": "markdown",
      "metadata": {
        "id": "view-in-github",
        "colab_type": "text"
      },
      "source": [
        "<a href=\"https://colab.research.google.com/github/NohmanAudi/Indeed_Job_Posts/blob/main/scraping_dirty.ipynb\" target=\"_parent\"><img src=\"https://colab.research.google.com/assets/colab-badge.svg\" alt=\"Open In Colab\"/></a>"
      ]
    },
    {
      "cell_type": "code",
      "source": [
        "#Scraping code source which contained basic functions with limited extractions: https://medium.com/codex/web-scraping-with-beautifulsoup-66a3a2b3b60\n",
        "import requests\n",
        "import bs4\n",
        "from bs4 import BeautifulSoup\n",
        "import pandas as pd"
      ],
      "metadata": {
        "id": "8gx5f-TinMWg"
      },
      "execution_count": 1,
      "outputs": []
    },
    {
      "cell_type": "code",
      "source": [
        "headers = {\"User-Agent\": \"Mozilla/5.0 (Windows NT 10.0; Win64; x64) AppleWebKit/537.36 (KHTML, like Gecko) Chrome/70.0.3538.77 Safari/537.36\"}\n",
        "link=\"https://de.indeed.com/jobs?q=Data+Analyst&l=Berlin&start=10\"\n",
        "\n",
        "\"\"\" Sending HTTP Request\"\"\"\n",
        "r=requests.get(link,headers=headers)\n",
        "\n",
        "\"\"\"Check response status Code\"\"\"\n",
        "r.status_code"
      ],
      "metadata": {
        "colab": {
          "base_uri": "https://localhost:8080/"
        },
        "id": "Uv2nSZrAqUaJ",
        "outputId": "77fbf909-b8c8-4553-9da7-096418c785f4"
      },
      "execution_count": 2,
      "outputs": [
        {
          "output_type": "execute_result",
          "data": {
            "text/plain": [
              "200"
            ]
          },
          "metadata": {},
          "execution_count": 2
        }
      ]
    },
    {
      "cell_type": "code",
      "source": [
        "\"\"\"URL Template\"\"\"\n",
        "url_temp= \"https://de.indeed.com/jobs?q={}&l={}&start={}\"\n",
        "base_link=\"https://de.indeed.com\"\n",
        "\n",
        "\"\"\"This function takes the URL template, designation and city as inputs.\n",
        "It navigates through the top 200 search results and scans all the <a> tags and returns a list of \n",
        "all the href attributes.\"\"\"\n",
        "\n",
        "def get_href(url_temp,position,city):\n",
        "    results_per_city=200\n",
        "    href_list=[]\n",
        "    for start in range(0,results_per_city+10,10):\n",
        "        url=url_temp.format(position,city,start)\n",
        "        r=requests.get(url,headers=headers)\n",
        "        soup=BeautifulSoup(r.text,\"html.parser\")    \n",
        "       \n",
        "        for i in soup.find_all('a'):\n",
        "            # if tag has attribute of class\n",
        "            if i.has_attr( \"href\" ):\n",
        "                k=i['href']\n",
        "                href_list.append(base_link+k)\n",
        "    \n",
        "    return href_list"
      ],
      "metadata": {
        "id": "_hSELZlXqba2"
      },
      "execution_count": 3,
      "outputs": []
    },
    {
      "cell_type": "code",
      "source": [
        "\"\"\"This function takes the list of all the href attributes as input, \n",
        "finds the URLs with the mentioned strings and returns a list of those URLs.\"\"\"\n",
        "\n",
        "def get_job_links(href_list):\n",
        "    job_links=[]\n",
        "    for a in href_list:\n",
        "        if a.find('/rc/clk')!=-1:\n",
        "            job_links.append(a)\n",
        "        elif a.find('/company/')!=-1:\n",
        "            job_links.append(a)\n",
        "    return job_links"
      ],
      "metadata": {
        "id": "cK7_vhoIqgCC"
      },
      "execution_count": 4,
      "outputs": []
    },
    {
      "cell_type": "code",
      "source": [
        "\"\"\"This function takes the list of the URLs of the job postings and the city and does the following:\n",
        "1. Send HTTP request to each of the URL.\n",
        "2. Creates a soup object with html parsing.\n",
        "3. Extracts title, company name, location and job description from each of the webpage and returns a dataframe.\n",
        "4. start with mock section names and their headers following expected logical order as observered on the site\"\"\"\n",
        "\n",
        "def get_job_df(job_links,city):\n",
        "    df=pd.DataFrame(columns=[ \"date\", \"job_location\", \"job_title\", \"company\", \"company_alt\",\"b_offer\", \"offer\", \"b_tasks\", \"tasks\",\n",
        "                         \"b_requirement\", \"requirement\", \"b_additional\", \"additional\", \"job_description\"])\n",
        "    \n",
        "    for i in job_links:\n",
        "        req=requests.get(i,headers=headers)\n",
        "        soup_req=BeautifulSoup(req.text,\"html.parser\")\n",
        "        try:\n",
        "            title=soup_req.find('h1',{'class': 'icl-u-xs-mb--xs icl-u-xs-mt--none jobsearch-JobInfoHeader-title'}).text\n",
        "        except:\n",
        "            continue\n",
        "        try:\n",
        "            company=soup_req.find('div',{'class':'icl-u-lg-mr--sm icl-u-xs-mr--xs'}).find_next().text #this worked for one company, trying for all\n",
        "        except:\n",
        "            continue\n",
        "        \n",
        "        company_alt=soup_req.find('div',{'class':'jobsearch-JobMetadataFooter'}).find_next().text #grabbing comapny name from footer\n",
        "\n",
        "\n",
        "        try:\n",
        "            location=soup_req.find('div',{'class':'jobsearch-InlineCompanyRating icl-u-xs-mt--xs jobsearch-DesktopStickyContainer-companyrating'}).text\n",
        "        except:\n",
        "            location=city\n",
        "        \n",
        "        sections = [(x, x.find_previous('b')) for x in soup_req.find(\"div\", {'class':'jobsearch-jobDescriptionText'}).find_all('ul')]\n",
        "        b_offer = b_tasks = b_requirement = b_additional = offer = tasks = requirement = additional = None\n",
        "\n",
        "        if len(sections) == 4:\n",
        "          offer, tasks, requirement, additional = [x[0] for x in sections[:4]]\n",
        "          b_offer, b_tasks, b_requirement, b_additional = [x[1] for x in sections[:4]]\n",
        "\n",
        "        elif len(sections) == 3:\n",
        "            offer, tasks, requirement = [x[0] for x in sections[:3]]\n",
        "            b_offer, b_tasks, b_requirement = [x[1] for x in sections[:3]]\n",
        "\n",
        "        try:\n",
        "            desc=soup_req.find('div',{'class':'jobsearch-jobDescriptionText'}).text\n",
        "        except:\n",
        "            continue\n",
        "        date=soup_req.find('div',{'class':'jobsearch-JobMetadataFooter'}).find_next().find_next().text #this works\n",
        "\n",
        "        df = df.append({\"job_location\":city, \"job_title\":title, \"company\":company, \"job_description\":desc, \"company_alt\": company_alt, \"date\": date,\n",
        "                \"b_offer\": b_offer, \"b_tasks\" : b_tasks, \"b_requirement\" : b_requirement, \"b_additional\": b_additional,\n",
        "                \"offer\": offer, \"tasks\" : tasks, \"requirement\" : requirement, \"additional\": additional},\n",
        "                       ignore_index=True)\n",
        "    \n",
        "    return df"
      ],
      "metadata": {
        "id": "grrxtQ1VqjZ0"
      },
      "execution_count": 5,
      "outputs": []
    },
    {
      "cell_type": "code",
      "source": [
        "\"\"\"Calling all the above functions inside this function which takes the URL template, designation and city as inputs.\"\"\"\n",
        "\n",
        "def get_job_postings(url_temp,position,city):\n",
        "    \n",
        "    href_list= get_href(url_temp,position,city)\n",
        "    \n",
        "    job_links= get_job_links(href_list)\n",
        "    \n",
        "    job_df= get_job_df(job_links,city)\n",
        "    \n",
        "    return job_df"
      ],
      "metadata": {
        "id": "kb2vuGDmqwy9"
      },
      "execution_count": 6,
      "outputs": []
    },
    {
      "cell_type": "code",
      "source": [
        "data_analyst_df = get_job_postings(url_temp,position='Data+Analyst',city='Berlin')"
      ],
      "metadata": {
        "id": "I65UqHkJq3LL"
      },
      "execution_count": 7,
      "outputs": []
    },
    {
      "cell_type": "code",
      "source": [
        "data_analyst_df.head()"
      ],
      "metadata": {
        "colab": {
          "base_uri": "https://localhost:8080/",
          "height": 545
        },
        "id": "vhz9V9c0rEC-",
        "outputId": "62825c13-5e75-4f05-8b3a-18250ccc728c"
      },
      "execution_count": 8,
      "outputs": [
        {
          "output_type": "execute_result",
          "data": {
            "text/plain": [
              "                                                date job_location  \\\n",
              "0  .css-fjuv6g{box-sizing:border-box;background:n...       Berlin   \n",
              "1  .css-fjuv6g{box-sizing:border-box;background:n...       Berlin   \n",
              "2                                       vor 23 Tagen       Berlin   \n",
              "3                                      vor 30+ Tagen       Berlin   \n",
              "4                                          vor 1 Tag       Berlin   \n",
              "\n",
              "                                 job_title  \\\n",
              "0  Business Data Analyst – Level 1 (m/f/d)   \n",
              "1                        Data Analyst (gn)   \n",
              "2            Intern (f/m/d) - Data Analyst   \n",
              "3              Data Analyst Intern (f/m/d)   \n",
              "4                     Data Analyst (m/f/d)   \n",
              "\n",
              "                                             company    company_alt  \\\n",
              "0  ICE International Copyright Enterprise Germany...    vor 9 Tagen   \n",
              "1                                              eduki   vor 30 Tagen   \n",
              "2                                                SAP            SAP   \n",
              "3                                      Delivery Hero  Delivery Hero   \n",
              "4                                      ToolTime GmbH  ToolTime GmbH   \n",
              "\n",
              "                       b_offer  \\\n",
              "0  [You are responsible for: ]   \n",
              "1                [Us for You!]   \n",
              "2                         None   \n",
              "3             [ Your mission:]   \n",
              "4                         None   \n",
              "\n",
              "                                               offer  \\\n",
              "0  [\\n, [Data extraction based on customer and in...   \n",
              "1  [[We want to offer you a product with which yo...   \n",
              "2                                               None   \n",
              "3  [\\n, [[ Engage within the team and key stakeho...   \n",
              "4  [[[\\nSupport the management team by tracking a...   \n",
              "\n",
              "                    b_tasks  \\\n",
              "0  [Minimum Requirements: ]   \n",
              "1             [You for us!]   \n",
              "2                      None   \n",
              "3    [ Your heroic skills:]   \n",
              "4                      None   \n",
              "\n",
              "                                               tasks     b_requirement  \\\n",
              "0  [\\n, [You’re keen to delve into the world of c...  [We offer You: ]   \n",
              "1  [[You will help us to foster a data-driven min...     [That's you!]   \n",
              "2                                               None              None   \n",
              "3  [\\n, [[ You are freshly graduated or about to ...  [ Nice to have:]   \n",
              "4  [[[\\nProven experience as data analyst or busi...              None   \n",
              "\n",
              "                                         requirement  \\\n",
              "0  [\\n, [Competitive salary], \\n, [Diverse work e...   \n",
              "1  [[You deliver good knowledge of statistics, a ...   \n",
              "2                                               None   \n",
              "3  [\\n, [[ Understanding of big data tools (e.g R...   \n",
              "4  [[[\\nA modern office space as well as the abil...   \n",
              "\n",
              "                   b_additional  \\\n",
              "0  [Application Requirements: ]   \n",
              "1                          None   \n",
              "2                          None   \n",
              "3         [ Why Delivery Hero?]   \n",
              "4                          None   \n",
              "\n",
              "                                          additional  \\\n",
              "0                        [\\n, [Your current CV], \\n]   \n",
              "1                                               None   \n",
              "2                                               None   \n",
              "3  [\\n, [[ English is our working language and ou...   \n",
              "4                                               None   \n",
              "\n",
              "                                     job_description  \n",
              "0  \\nWhat is ICE?ICE is the result of a big visio...  \n",
              "1  Company© eduki*About us*eduki was founded in 2...  \n",
              "2  \\n\\nWe help the world run better\\n\\n Our compa...  \n",
              "3  \\n\\n\\nWant to be a Hero? Join the #1 GLOBAL LE...  \n",
              "4  DESCRIPTION\\nAbout us\\n\\nToolTime is a fast-gr...  "
            ],
            "text/html": [
              "\n",
              "  <div id=\"df-7f4f4c1d-7913-4596-a794-b6950f0908dc\">\n",
              "    <div class=\"colab-df-container\">\n",
              "      <div>\n",
              "<style scoped>\n",
              "    .dataframe tbody tr th:only-of-type {\n",
              "        vertical-align: middle;\n",
              "    }\n",
              "\n",
              "    .dataframe tbody tr th {\n",
              "        vertical-align: top;\n",
              "    }\n",
              "\n",
              "    .dataframe thead th {\n",
              "        text-align: right;\n",
              "    }\n",
              "</style>\n",
              "<table border=\"1\" class=\"dataframe\">\n",
              "  <thead>\n",
              "    <tr style=\"text-align: right;\">\n",
              "      <th></th>\n",
              "      <th>date</th>\n",
              "      <th>job_location</th>\n",
              "      <th>job_title</th>\n",
              "      <th>company</th>\n",
              "      <th>company_alt</th>\n",
              "      <th>b_offer</th>\n",
              "      <th>offer</th>\n",
              "      <th>b_tasks</th>\n",
              "      <th>tasks</th>\n",
              "      <th>b_requirement</th>\n",
              "      <th>requirement</th>\n",
              "      <th>b_additional</th>\n",
              "      <th>additional</th>\n",
              "      <th>job_description</th>\n",
              "    </tr>\n",
              "  </thead>\n",
              "  <tbody>\n",
              "    <tr>\n",
              "      <th>0</th>\n",
              "      <td>.css-fjuv6g{box-sizing:border-box;background:n...</td>\n",
              "      <td>Berlin</td>\n",
              "      <td>Business Data Analyst – Level 1 (m/f/d)</td>\n",
              "      <td>ICE International Copyright Enterprise Germany...</td>\n",
              "      <td>vor 9 Tagen</td>\n",
              "      <td>[You are responsible for: ]</td>\n",
              "      <td>[\\n, [Data extraction based on customer and in...</td>\n",
              "      <td>[Minimum Requirements: ]</td>\n",
              "      <td>[\\n, [You’re keen to delve into the world of c...</td>\n",
              "      <td>[We offer You: ]</td>\n",
              "      <td>[\\n, [Competitive salary], \\n, [Diverse work e...</td>\n",
              "      <td>[Application Requirements: ]</td>\n",
              "      <td>[\\n, [Your current CV], \\n]</td>\n",
              "      <td>\\nWhat is ICE?ICE is the result of a big visio...</td>\n",
              "    </tr>\n",
              "    <tr>\n",
              "      <th>1</th>\n",
              "      <td>.css-fjuv6g{box-sizing:border-box;background:n...</td>\n",
              "      <td>Berlin</td>\n",
              "      <td>Data Analyst (gn)</td>\n",
              "      <td>eduki</td>\n",
              "      <td>vor 30 Tagen</td>\n",
              "      <td>[Us for You!]</td>\n",
              "      <td>[[We want to offer you a product with which yo...</td>\n",
              "      <td>[You for us!]</td>\n",
              "      <td>[[You will help us to foster a data-driven min...</td>\n",
              "      <td>[That's you!]</td>\n",
              "      <td>[[You deliver good knowledge of statistics, a ...</td>\n",
              "      <td>None</td>\n",
              "      <td>None</td>\n",
              "      <td>Company© eduki*About us*eduki was founded in 2...</td>\n",
              "    </tr>\n",
              "    <tr>\n",
              "      <th>2</th>\n",
              "      <td>vor 23 Tagen</td>\n",
              "      <td>Berlin</td>\n",
              "      <td>Intern (f/m/d) - Data Analyst</td>\n",
              "      <td>SAP</td>\n",
              "      <td>SAP</td>\n",
              "      <td>None</td>\n",
              "      <td>None</td>\n",
              "      <td>None</td>\n",
              "      <td>None</td>\n",
              "      <td>None</td>\n",
              "      <td>None</td>\n",
              "      <td>None</td>\n",
              "      <td>None</td>\n",
              "      <td>\\n\\nWe help the world run better\\n\\n Our compa...</td>\n",
              "    </tr>\n",
              "    <tr>\n",
              "      <th>3</th>\n",
              "      <td>vor 30+ Tagen</td>\n",
              "      <td>Berlin</td>\n",
              "      <td>Data Analyst Intern (f/m/d)</td>\n",
              "      <td>Delivery Hero</td>\n",
              "      <td>Delivery Hero</td>\n",
              "      <td>[ Your mission:]</td>\n",
              "      <td>[\\n, [[ Engage within the team and key stakeho...</td>\n",
              "      <td>[ Your heroic skills:]</td>\n",
              "      <td>[\\n, [[ You are freshly graduated or about to ...</td>\n",
              "      <td>[ Nice to have:]</td>\n",
              "      <td>[\\n, [[ Understanding of big data tools (e.g R...</td>\n",
              "      <td>[ Why Delivery Hero?]</td>\n",
              "      <td>[\\n, [[ English is our working language and ou...</td>\n",
              "      <td>\\n\\n\\nWant to be a Hero? Join the #1 GLOBAL LE...</td>\n",
              "    </tr>\n",
              "    <tr>\n",
              "      <th>4</th>\n",
              "      <td>vor 1 Tag</td>\n",
              "      <td>Berlin</td>\n",
              "      <td>Data Analyst (m/f/d)</td>\n",
              "      <td>ToolTime GmbH</td>\n",
              "      <td>ToolTime GmbH</td>\n",
              "      <td>None</td>\n",
              "      <td>[[[\\nSupport the management team by tracking a...</td>\n",
              "      <td>None</td>\n",
              "      <td>[[[\\nProven experience as data analyst or busi...</td>\n",
              "      <td>None</td>\n",
              "      <td>[[[\\nA modern office space as well as the abil...</td>\n",
              "      <td>None</td>\n",
              "      <td>None</td>\n",
              "      <td>DESCRIPTION\\nAbout us\\n\\nToolTime is a fast-gr...</td>\n",
              "    </tr>\n",
              "  </tbody>\n",
              "</table>\n",
              "</div>\n",
              "      <button class=\"colab-df-convert\" onclick=\"convertToInteractive('df-7f4f4c1d-7913-4596-a794-b6950f0908dc')\"\n",
              "              title=\"Convert this dataframe to an interactive table.\"\n",
              "              style=\"display:none;\">\n",
              "        \n",
              "  <svg xmlns=\"http://www.w3.org/2000/svg\" height=\"24px\"viewBox=\"0 0 24 24\"\n",
              "       width=\"24px\">\n",
              "    <path d=\"M0 0h24v24H0V0z\" fill=\"none\"/>\n",
              "    <path d=\"M18.56 5.44l.94 2.06.94-2.06 2.06-.94-2.06-.94-.94-2.06-.94 2.06-2.06.94zm-11 1L8.5 8.5l.94-2.06 2.06-.94-2.06-.94L8.5 2.5l-.94 2.06-2.06.94zm10 10l.94 2.06.94-2.06 2.06-.94-2.06-.94-.94-2.06-.94 2.06-2.06.94z\"/><path d=\"M17.41 7.96l-1.37-1.37c-.4-.4-.92-.59-1.43-.59-.52 0-1.04.2-1.43.59L10.3 9.45l-7.72 7.72c-.78.78-.78 2.05 0 2.83L4 21.41c.39.39.9.59 1.41.59.51 0 1.02-.2 1.41-.59l7.78-7.78 2.81-2.81c.8-.78.8-2.07 0-2.86zM5.41 20L4 18.59l7.72-7.72 1.47 1.35L5.41 20z\"/>\n",
              "  </svg>\n",
              "      </button>\n",
              "      \n",
              "  <style>\n",
              "    .colab-df-container {\n",
              "      display:flex;\n",
              "      flex-wrap:wrap;\n",
              "      gap: 12px;\n",
              "    }\n",
              "\n",
              "    .colab-df-convert {\n",
              "      background-color: #E8F0FE;\n",
              "      border: none;\n",
              "      border-radius: 50%;\n",
              "      cursor: pointer;\n",
              "      display: none;\n",
              "      fill: #1967D2;\n",
              "      height: 32px;\n",
              "      padding: 0 0 0 0;\n",
              "      width: 32px;\n",
              "    }\n",
              "\n",
              "    .colab-df-convert:hover {\n",
              "      background-color: #E2EBFA;\n",
              "      box-shadow: 0px 1px 2px rgba(60, 64, 67, 0.3), 0px 1px 3px 1px rgba(60, 64, 67, 0.15);\n",
              "      fill: #174EA6;\n",
              "    }\n",
              "\n",
              "    [theme=dark] .colab-df-convert {\n",
              "      background-color: #3B4455;\n",
              "      fill: #D2E3FC;\n",
              "    }\n",
              "\n",
              "    [theme=dark] .colab-df-convert:hover {\n",
              "      background-color: #434B5C;\n",
              "      box-shadow: 0px 1px 3px 1px rgba(0, 0, 0, 0.15);\n",
              "      filter: drop-shadow(0px 1px 2px rgba(0, 0, 0, 0.3));\n",
              "      fill: #FFFFFF;\n",
              "    }\n",
              "  </style>\n",
              "\n",
              "      <script>\n",
              "        const buttonEl =\n",
              "          document.querySelector('#df-7f4f4c1d-7913-4596-a794-b6950f0908dc button.colab-df-convert');\n",
              "        buttonEl.style.display =\n",
              "          google.colab.kernel.accessAllowed ? 'block' : 'none';\n",
              "\n",
              "        async function convertToInteractive(key) {\n",
              "          const element = document.querySelector('#df-7f4f4c1d-7913-4596-a794-b6950f0908dc');\n",
              "          const dataTable =\n",
              "            await google.colab.kernel.invokeFunction('convertToInteractive',\n",
              "                                                     [key], {});\n",
              "          if (!dataTable) return;\n",
              "\n",
              "          const docLinkHtml = 'Like what you see? Visit the ' +\n",
              "            '<a target=\"_blank\" href=https://colab.research.google.com/notebooks/data_table.ipynb>data table notebook</a>'\n",
              "            + ' to learn more about interactive tables.';\n",
              "          element.innerHTML = '';\n",
              "          dataTable['output_type'] = 'display_data';\n",
              "          await google.colab.output.renderOutput(dataTable, element);\n",
              "          const docLink = document.createElement('div');\n",
              "          docLink.innerHTML = docLinkHtml;\n",
              "          element.appendChild(docLink);\n",
              "        }\n",
              "      </script>\n",
              "    </div>\n",
              "  </div>\n",
              "  "
            ]
          },
          "metadata": {},
          "execution_count": 8
        }
      ]
    },
    {
      "cell_type": "code",
      "source": [
        "#investigating records where we got actual value\n",
        "df = data_analyst_df[data_analyst_df.b_tasks.isna() == False]\n",
        "df.head()"
      ],
      "metadata": {
        "colab": {
          "base_uri": "https://localhost:8080/",
          "height": 615
        },
        "id": "Sdq3UVeAX4g7",
        "outputId": "51d32fa7-7529-436b-8e28-fe7663064afe"
      },
      "execution_count": 9,
      "outputs": [
        {
          "output_type": "execute_result",
          "data": {
            "text/plain": [
              "                                                date job_location  \\\n",
              "0  .css-fjuv6g{box-sizing:border-box;background:n...       Berlin   \n",
              "1  .css-fjuv6g{box-sizing:border-box;background:n...       Berlin   \n",
              "3                                      vor 30+ Tagen       Berlin   \n",
              "5                                      vor 30+ Tagen       Berlin   \n",
              "7                                      vor 30+ Tagen       Berlin   \n",
              "\n",
              "                                 job_title  \\\n",
              "0  Business Data Analyst – Level 1 (m/f/d)   \n",
              "1                        Data Analyst (gn)   \n",
              "3              Data Analyst Intern (f/m/d)   \n",
              "5                     Data Analyst (f/m/d)   \n",
              "7                     Data Analyst (m/f/d)   \n",
              "\n",
              "                                             company    company_alt  \\\n",
              "0  ICE International Copyright Enterprise Germany...    vor 9 Tagen   \n",
              "1                                              eduki   vor 30 Tagen   \n",
              "3                                      Delivery Hero  Delivery Hero   \n",
              "5             BMG RIGHTS MANAGEMENT GmbH - Corporate    Bertelsmann   \n",
              "7                                            Audible        Audible   \n",
              "\n",
              "                            b_offer  \\\n",
              "0       [You are responsible for: ]   \n",
              "1                     [Us for You!]   \n",
              "3                  [ Your mission:]   \n",
              "5     [[], \\nYour Responsibilities]   \n",
              "7  [As a Data Analyst, you will...]   \n",
              "\n",
              "                                               offer  \\\n",
              "0  [\\n, [Data extraction based on customer and in...   \n",
              "1  [[We want to offer you a product with which yo...   \n",
              "3  [\\n, [[ Engage within the team and key stakeho...   \n",
              "5  [[\\nDeliver reporting and self-service dashboa...   \n",
              "7  [\\n, [Build and maintain basic data artifacts ...   \n",
              "\n",
              "                            b_tasks  \\\n",
              "0          [Minimum Requirements: ]   \n",
              "1                     [You for us!]   \n",
              "3            [ Your heroic skills:]   \n",
              "5              [[], \\nYour Profile]   \n",
              "7  [As a Data Analyst, you will...]   \n",
              "\n",
              "                                               tasks  \\\n",
              "0  [\\n, [You’re keen to delve into the world of c...   \n",
              "1  [[You will help us to foster a data-driven min...   \n",
              "3  [\\n, [[ You are freshly graduated or about to ...   \n",
              "5  [[\\nStrong SQL skills, accompanied with an und...   \n",
              "7  [\\n, [ Quantitative degree (Economics, Mathema...   \n",
              "\n",
              "                                b_requirement  \\\n",
              "0                            [We offer You: ]   \n",
              "1                               [That's you!]   \n",
              "3                            [ Nice to have:]   \n",
              "5  [[], \\nNow let’s see what’s in it for you]   \n",
              "7            [As a Data Analyst, you will...]   \n",
              "\n",
              "                                         requirement  \\\n",
              "0  [\\n, [Competitive salary], \\n, [Diverse work e...   \n",
              "1  [[You deliver good knowledge of statistics, a ...   \n",
              "3  [\\n, [[ Understanding of big data tools (e.g R...   \n",
              "5  [[[\\nThe unique BMG culture, empowering and dr...   \n",
              "7  [\\n, [ Understand how to use one or more indus...   \n",
              "\n",
              "                                 b_additional  \\\n",
              "0                [Application Requirements: ]   \n",
              "1                                        None   \n",
              "3                       [ Why Delivery Hero?]   \n",
              "5  [[], \\nNow let’s see what’s in it for you]   \n",
              "7                                        None   \n",
              "\n",
              "                                          additional  \\\n",
              "0                        [\\n, [Your current CV], \\n]   \n",
              "1                                               None   \n",
              "3  [\\n, [[ English is our working language and ou...   \n",
              "5  [[[\\nA 21st century working environment, colla...   \n",
              "7                                               None   \n",
              "\n",
              "                                     job_description  \n",
              "0  \\nWhat is ICE?ICE is the result of a big visio...  \n",
              "1  Company© eduki*About us*eduki was founded in 2...  \n",
              "3  \\n\\n\\nWant to be a Hero? Join the #1 GLOBAL LE...  \n",
              "5  We are looking for a Data Analyst (f/m/d) to j...  \n",
              "7  \\n\\n  Good storytelling starts with great list...  "
            ],
            "text/html": [
              "\n",
              "  <div id=\"df-7b4afa2c-1e66-465b-b4e5-3234de502b90\">\n",
              "    <div class=\"colab-df-container\">\n",
              "      <div>\n",
              "<style scoped>\n",
              "    .dataframe tbody tr th:only-of-type {\n",
              "        vertical-align: middle;\n",
              "    }\n",
              "\n",
              "    .dataframe tbody tr th {\n",
              "        vertical-align: top;\n",
              "    }\n",
              "\n",
              "    .dataframe thead th {\n",
              "        text-align: right;\n",
              "    }\n",
              "</style>\n",
              "<table border=\"1\" class=\"dataframe\">\n",
              "  <thead>\n",
              "    <tr style=\"text-align: right;\">\n",
              "      <th></th>\n",
              "      <th>date</th>\n",
              "      <th>job_location</th>\n",
              "      <th>job_title</th>\n",
              "      <th>company</th>\n",
              "      <th>company_alt</th>\n",
              "      <th>b_offer</th>\n",
              "      <th>offer</th>\n",
              "      <th>b_tasks</th>\n",
              "      <th>tasks</th>\n",
              "      <th>b_requirement</th>\n",
              "      <th>requirement</th>\n",
              "      <th>b_additional</th>\n",
              "      <th>additional</th>\n",
              "      <th>job_description</th>\n",
              "    </tr>\n",
              "  </thead>\n",
              "  <tbody>\n",
              "    <tr>\n",
              "      <th>0</th>\n",
              "      <td>.css-fjuv6g{box-sizing:border-box;background:n...</td>\n",
              "      <td>Berlin</td>\n",
              "      <td>Business Data Analyst – Level 1 (m/f/d)</td>\n",
              "      <td>ICE International Copyright Enterprise Germany...</td>\n",
              "      <td>vor 9 Tagen</td>\n",
              "      <td>[You are responsible for: ]</td>\n",
              "      <td>[\\n, [Data extraction based on customer and in...</td>\n",
              "      <td>[Minimum Requirements: ]</td>\n",
              "      <td>[\\n, [You’re keen to delve into the world of c...</td>\n",
              "      <td>[We offer You: ]</td>\n",
              "      <td>[\\n, [Competitive salary], \\n, [Diverse work e...</td>\n",
              "      <td>[Application Requirements: ]</td>\n",
              "      <td>[\\n, [Your current CV], \\n]</td>\n",
              "      <td>\\nWhat is ICE?ICE is the result of a big visio...</td>\n",
              "    </tr>\n",
              "    <tr>\n",
              "      <th>1</th>\n",
              "      <td>.css-fjuv6g{box-sizing:border-box;background:n...</td>\n",
              "      <td>Berlin</td>\n",
              "      <td>Data Analyst (gn)</td>\n",
              "      <td>eduki</td>\n",
              "      <td>vor 30 Tagen</td>\n",
              "      <td>[Us for You!]</td>\n",
              "      <td>[[We want to offer you a product with which yo...</td>\n",
              "      <td>[You for us!]</td>\n",
              "      <td>[[You will help us to foster a data-driven min...</td>\n",
              "      <td>[That's you!]</td>\n",
              "      <td>[[You deliver good knowledge of statistics, a ...</td>\n",
              "      <td>None</td>\n",
              "      <td>None</td>\n",
              "      <td>Company© eduki*About us*eduki was founded in 2...</td>\n",
              "    </tr>\n",
              "    <tr>\n",
              "      <th>3</th>\n",
              "      <td>vor 30+ Tagen</td>\n",
              "      <td>Berlin</td>\n",
              "      <td>Data Analyst Intern (f/m/d)</td>\n",
              "      <td>Delivery Hero</td>\n",
              "      <td>Delivery Hero</td>\n",
              "      <td>[ Your mission:]</td>\n",
              "      <td>[\\n, [[ Engage within the team and key stakeho...</td>\n",
              "      <td>[ Your heroic skills:]</td>\n",
              "      <td>[\\n, [[ You are freshly graduated or about to ...</td>\n",
              "      <td>[ Nice to have:]</td>\n",
              "      <td>[\\n, [[ Understanding of big data tools (e.g R...</td>\n",
              "      <td>[ Why Delivery Hero?]</td>\n",
              "      <td>[\\n, [[ English is our working language and ou...</td>\n",
              "      <td>\\n\\n\\nWant to be a Hero? Join the #1 GLOBAL LE...</td>\n",
              "    </tr>\n",
              "    <tr>\n",
              "      <th>5</th>\n",
              "      <td>vor 30+ Tagen</td>\n",
              "      <td>Berlin</td>\n",
              "      <td>Data Analyst (f/m/d)</td>\n",
              "      <td>BMG RIGHTS MANAGEMENT GmbH - Corporate</td>\n",
              "      <td>Bertelsmann</td>\n",
              "      <td>[[], \\nYour Responsibilities]</td>\n",
              "      <td>[[\\nDeliver reporting and self-service dashboa...</td>\n",
              "      <td>[[], \\nYour Profile]</td>\n",
              "      <td>[[\\nStrong SQL skills, accompanied with an und...</td>\n",
              "      <td>[[], \\nNow let’s see what’s in it for you]</td>\n",
              "      <td>[[[\\nThe unique BMG culture, empowering and dr...</td>\n",
              "      <td>[[], \\nNow let’s see what’s in it for you]</td>\n",
              "      <td>[[[\\nA 21st century working environment, colla...</td>\n",
              "      <td>We are looking for a Data Analyst (f/m/d) to j...</td>\n",
              "    </tr>\n",
              "    <tr>\n",
              "      <th>7</th>\n",
              "      <td>vor 30+ Tagen</td>\n",
              "      <td>Berlin</td>\n",
              "      <td>Data Analyst (m/f/d)</td>\n",
              "      <td>Audible</td>\n",
              "      <td>Audible</td>\n",
              "      <td>[As a Data Analyst, you will...]</td>\n",
              "      <td>[\\n, [Build and maintain basic data artifacts ...</td>\n",
              "      <td>[As a Data Analyst, you will...]</td>\n",
              "      <td>[\\n, [ Quantitative degree (Economics, Mathema...</td>\n",
              "      <td>[As a Data Analyst, you will...]</td>\n",
              "      <td>[\\n, [ Understand how to use one or more indus...</td>\n",
              "      <td>None</td>\n",
              "      <td>None</td>\n",
              "      <td>\\n\\n  Good storytelling starts with great list...</td>\n",
              "    </tr>\n",
              "  </tbody>\n",
              "</table>\n",
              "</div>\n",
              "      <button class=\"colab-df-convert\" onclick=\"convertToInteractive('df-7b4afa2c-1e66-465b-b4e5-3234de502b90')\"\n",
              "              title=\"Convert this dataframe to an interactive table.\"\n",
              "              style=\"display:none;\">\n",
              "        \n",
              "  <svg xmlns=\"http://www.w3.org/2000/svg\" height=\"24px\"viewBox=\"0 0 24 24\"\n",
              "       width=\"24px\">\n",
              "    <path d=\"M0 0h24v24H0V0z\" fill=\"none\"/>\n",
              "    <path d=\"M18.56 5.44l.94 2.06.94-2.06 2.06-.94-2.06-.94-.94-2.06-.94 2.06-2.06.94zm-11 1L8.5 8.5l.94-2.06 2.06-.94-2.06-.94L8.5 2.5l-.94 2.06-2.06.94zm10 10l.94 2.06.94-2.06 2.06-.94-2.06-.94-.94-2.06-.94 2.06-2.06.94z\"/><path d=\"M17.41 7.96l-1.37-1.37c-.4-.4-.92-.59-1.43-.59-.52 0-1.04.2-1.43.59L10.3 9.45l-7.72 7.72c-.78.78-.78 2.05 0 2.83L4 21.41c.39.39.9.59 1.41.59.51 0 1.02-.2 1.41-.59l7.78-7.78 2.81-2.81c.8-.78.8-2.07 0-2.86zM5.41 20L4 18.59l7.72-7.72 1.47 1.35L5.41 20z\"/>\n",
              "  </svg>\n",
              "      </button>\n",
              "      \n",
              "  <style>\n",
              "    .colab-df-container {\n",
              "      display:flex;\n",
              "      flex-wrap:wrap;\n",
              "      gap: 12px;\n",
              "    }\n",
              "\n",
              "    .colab-df-convert {\n",
              "      background-color: #E8F0FE;\n",
              "      border: none;\n",
              "      border-radius: 50%;\n",
              "      cursor: pointer;\n",
              "      display: none;\n",
              "      fill: #1967D2;\n",
              "      height: 32px;\n",
              "      padding: 0 0 0 0;\n",
              "      width: 32px;\n",
              "    }\n",
              "\n",
              "    .colab-df-convert:hover {\n",
              "      background-color: #E2EBFA;\n",
              "      box-shadow: 0px 1px 2px rgba(60, 64, 67, 0.3), 0px 1px 3px 1px rgba(60, 64, 67, 0.15);\n",
              "      fill: #174EA6;\n",
              "    }\n",
              "\n",
              "    [theme=dark] .colab-df-convert {\n",
              "      background-color: #3B4455;\n",
              "      fill: #D2E3FC;\n",
              "    }\n",
              "\n",
              "    [theme=dark] .colab-df-convert:hover {\n",
              "      background-color: #434B5C;\n",
              "      box-shadow: 0px 1px 3px 1px rgba(0, 0, 0, 0.15);\n",
              "      filter: drop-shadow(0px 1px 2px rgba(0, 0, 0, 0.3));\n",
              "      fill: #FFFFFF;\n",
              "    }\n",
              "  </style>\n",
              "\n",
              "      <script>\n",
              "        const buttonEl =\n",
              "          document.querySelector('#df-7b4afa2c-1e66-465b-b4e5-3234de502b90 button.colab-df-convert');\n",
              "        buttonEl.style.display =\n",
              "          google.colab.kernel.accessAllowed ? 'block' : 'none';\n",
              "\n",
              "        async function convertToInteractive(key) {\n",
              "          const element = document.querySelector('#df-7b4afa2c-1e66-465b-b4e5-3234de502b90');\n",
              "          const dataTable =\n",
              "            await google.colab.kernel.invokeFunction('convertToInteractive',\n",
              "                                                     [key], {});\n",
              "          if (!dataTable) return;\n",
              "\n",
              "          const docLinkHtml = 'Like what you see? Visit the ' +\n",
              "            '<a target=\"_blank\" href=https://colab.research.google.com/notebooks/data_table.ipynb>data table notebook</a>'\n",
              "            + ' to learn more about interactive tables.';\n",
              "          element.innerHTML = '';\n",
              "          dataTable['output_type'] = 'display_data';\n",
              "          await google.colab.output.renderOutput(dataTable, element);\n",
              "          const docLink = document.createElement('div');\n",
              "          docLink.innerHTML = docLinkHtml;\n",
              "          element.appendChild(docLink);\n",
              "        }\n",
              "      </script>\n",
              "    </div>\n",
              "  </div>\n",
              "  "
            ]
          },
          "metadata": {},
          "execution_count": 9
        }
      ]
    },
    {
      "cell_type": "code",
      "source": [
        "#checking which columns contain none value >> only the additional and b_offer\n",
        "df.isna().any()"
      ],
      "metadata": {
        "id": "sxeGntDVtgMX",
        "colab": {
          "base_uri": "https://localhost:8080/"
        },
        "outputId": "600d5f77-a6c8-4cfc-e199-c8ea43d7abba"
      },
      "execution_count": 10,
      "outputs": [
        {
          "output_type": "execute_result",
          "data": {
            "text/plain": [
              "date               False\n",
              "job_location       False\n",
              "job_title          False\n",
              "company            False\n",
              "company_alt        False\n",
              "b_offer             True\n",
              "offer              False\n",
              "b_tasks            False\n",
              "tasks              False\n",
              "b_requirement      False\n",
              "requirement        False\n",
              "b_additional        True\n",
              "additional          True\n",
              "job_description    False\n",
              "dtype: bool"
            ]
          },
          "metadata": {},
          "execution_count": 10
        }
      ]
    },
    {
      "cell_type": "code",
      "source": [
        "#check values in b_tasks for vocabs\n",
        "vocabs = df.b_tasks.apply(lambda x: x.text.strip())"
      ],
      "metadata": {
        "id": "xRU35isot2Lx"
      },
      "execution_count": 11,
      "outputs": []
    },
    {
      "cell_type": "code",
      "source": [
        "exp_keywords = 'Require|WHAT W|Skill|skill|exper|Exper|Profil|profil'\n",
        "vocabs[vocabs.str.contains(exp_keywords) == True]"
      ],
      "metadata": {
        "id": "_hdx8FzbwPDp",
        "colab": {
          "base_uri": "https://localhost:8080/"
        },
        "outputId": "b3c6c1f5-0f69-473d-9e11-f84cbd339008"
      },
      "execution_count": 12,
      "outputs": [
        {
          "output_type": "execute_result",
          "data": {
            "text/plain": [
              "0                      Minimum Requirements:\n",
              "3                        Your heroic skills:\n",
              "5                               Your Profile\n",
              "15     Hiermit bewegen Sie uns - Ihr Profil:\n",
              "17                Your Skills and Experience\n",
              "                       ...                  \n",
              "293                      Your heroic skills:\n",
              "295                              Dein Profil\n",
              "306                             Your Profile\n",
              "308         Beneficial skills and experience\n",
              "311                            Requirements:\n",
              "Name: b_tasks, Length: 72, dtype: object"
            ]
          },
          "metadata": {},
          "execution_count": 12
        }
      ]
    },
    {
      "cell_type": "code",
      "source": [
        "#get df index when b_tasks section contains experience keywords building a sample of requirement keywords\n",
        "vocab_idx = vocabs[vocabs.str.contains(exp_keywords) == True].index\n",
        "vocab_idx"
      ],
      "metadata": {
        "id": "czy_dne5x6O4",
        "colab": {
          "base_uri": "https://localhost:8080/"
        },
        "outputId": "df028526-4546-49f9-e1a0-9990eb070851"
      },
      "execution_count": 13,
      "outputs": [
        {
          "output_type": "execute_result",
          "data": {
            "text/plain": [
              "Int64Index([  0,   3,   5,  15,  17,  20,  21,  30,  35,  39,  44,  49,  50,\n",
              "             51,  54,  59,  61,  63,  78,  83, 101, 106, 111, 115, 117, 123,\n",
              "            129, 130, 131, 133, 134, 136, 137, 139, 140, 141, 151, 152, 161,\n",
              "            162, 170, 181, 182, 184, 188, 189, 197, 201, 210, 214, 225, 226,\n",
              "            228, 229, 233, 235, 238, 243, 244, 245, 251, 261, 265, 271, 282,\n",
              "            289, 290, 293, 295, 306, 308, 311],\n",
              "           dtype='int64')"
            ]
          },
          "metadata": {},
          "execution_count": 13
        }
      ]
    },
    {
      "cell_type": "code",
      "source": [
        "len(vocab_idx)"
      ],
      "metadata": {
        "id": "rwGMIhAA2YRs",
        "colab": {
          "base_uri": "https://localhost:8080/"
        },
        "outputId": "470cee15-2ed9-45ad-f0f8-50b29fbc6393"
      },
      "execution_count": 14,
      "outputs": [
        {
          "output_type": "execute_result",
          "data": {
            "text/plain": [
              "72"
            ]
          },
          "metadata": {},
          "execution_count": 14
        }
      ]
    },
    {
      "cell_type": "code",
      "source": [
        "exp_vocabs = df.loc[vocab_idx.values].tasks.apply(lambda x: x.text.strip())"
      ],
      "metadata": {
        "id": "GNfAEjJ3w06v"
      },
      "execution_count": 15,
      "outputs": []
    },
    {
      "cell_type": "code",
      "source": [
        "from nltk.tokenize import sent_tokenize, word_tokenize\n",
        "from nltk import ngrams, FreqDist\n",
        "import nltk\n",
        "from nltk.corpus import stopwords\n",
        "nltk.download('stopwords')\n",
        "nltk.download('punkt')\n",
        "nltk.download('stopwords')\n",
        "\n",
        "english_stopwords = stopwords.words('english')\n",
        "\n",
        "clean_exp = exp_vocabs.str.lower().str.split().apply(lambda words: [word for word in words if word not in english_stopwords])"
      ],
      "metadata": {
        "id": "yipg_JsD3998",
        "colab": {
          "base_uri": "https://localhost:8080/"
        },
        "outputId": "f2574147-9177-4939-ec47-f6dd2f8ac8a4"
      },
      "execution_count": 16,
      "outputs": [
        {
          "output_type": "stream",
          "name": "stdout",
          "text": [
            "[nltk_data] Downloading package stopwords to /root/nltk_data...\n",
            "[nltk_data]   Unzipping corpora/stopwords.zip.\n",
            "[nltk_data] Downloading package punkt to /root/nltk_data...\n",
            "[nltk_data]   Unzipping tokenizers/punkt.zip.\n",
            "[nltk_data] Downloading package stopwords to /root/nltk_data...\n",
            "[nltk_data]   Package stopwords is already up-to-date!\n"
          ]
        }
      ]
    },
    {
      "cell_type": "code",
      "source": [
        "df1 = pd.DataFrame(clean_exp.values.tolist())\n",
        "df1.stack().value_counts()[:20].index"
      ],
      "metadata": {
        "colab": {
          "base_uri": "https://localhost:8080/"
        },
        "id": "W3qkn4Ovzhey",
        "outputId": "e6d69bd8-19ee-4cf1-aa80-279202af364c"
      },
      "execution_count": 17,
      "outputs": [
        {
          "output_type": "execute_result",
          "data": {
            "text/plain": [
              "Index(['experience', 'data', 'skills', 'knowledge', 'business', 'strong',\n",
              "       'und', 'years', 'sql', 'working', 'work', 'ability', 'plus',\n",
              "       'communication', 'degree', 'analytics', 'tools', 'field', 'good',\n",
              "       'team'],\n",
              "      dtype='object')"
            ]
          },
          "metadata": {},
          "execution_count": 17
        }
      ]
    },
    {
      "cell_type": "markdown",
      "source": [
        "Looking at keywords that are not particularly relevant to position to generalize. Thus, not taking words like (business, analytics, sql) into consideration, also those that are relevant to many sections like (work, team).\n",
        "left with ('experience', 'knowledge', 'skills',\n",
        "       'strong', 'ability', 'years', 'degree', 'plus, 'good')"
      ],
      "metadata": {
        "id": "NuMRZ1q6g8pc"
      }
    },
    {
      "cell_type": "markdown",
      "source": [
        "Moving on to a new notebook to get a clean df that takes keywords into consideration while scraping"
      ],
      "metadata": {
        "id": "VZxcEGnGjY8X"
      }
    }
  ]
}