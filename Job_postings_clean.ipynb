{
  "nbformat": 4,
  "nbformat_minor": 0,
  "metadata": {
    "colab": {
      "name": "Job_postings_clean.ipynb",
      "provenance": [],
      "collapsed_sections": [],
      "authorship_tag": "ABX9TyNvDPzvH5JOOiJobxkDrjtS",
      "include_colab_link": true
    },
    "kernelspec": {
      "name": "python3",
      "display_name": "Python 3"
    },
    "language_info": {
      "name": "python"
    }
  },
  "cells": [
    {
      "cell_type": "markdown",
      "metadata": {
        "id": "view-in-github",
        "colab_type": "text"
      },
      "source": [
        "<a href=\"https://colab.research.google.com/github/NohmanAudi/Indeed_Job_Posts/blob/main/Job_postings_clean.ipynb\" target=\"_parent\"><img src=\"https://colab.research.google.com/assets/colab-badge.svg\" alt=\"Open In Colab\"/></a>"
      ]
    },
    {
      "cell_type": "code",
      "source": [
        "#Scraping code source: https://medium.com/codex/web-scraping-with-beautifulsoup-66a3a2b3b60\n",
        "import requests\n",
        "import bs4\n",
        "from bs4 import BeautifulSoup\n",
        "import pandas as pd\n",
        "import numpy as np\n",
        "from datetime import timedelta, datetime"
      ],
      "metadata": {
        "id": "8gx5f-TinMWg"
      },
      "execution_count": 234,
      "outputs": []
    },
    {
      "cell_type": "code",
      "source": [
        "headers = {\"User-Agent\": \"Mozilla/5.0 (Windows NT 10.0; Win64; x64) AppleWebKit/537.36 (KHTML, like Gecko) Chrome/70.0.3538.77 Safari/537.36\"}\n",
        "link=\"https://de.indeed.com/jobs?q=Data+Analyst&l=Berlin&start=10\"\n",
        "\n",
        "\"\"\" Sending HTTP Request\"\"\"\n",
        "r=requests.get(link,headers=headers)\n",
        "\n",
        "\"\"\"Check response status Code\"\"\"\n",
        "r.status_code"
      ],
      "metadata": {
        "colab": {
          "base_uri": "https://localhost:8080/"
        },
        "id": "Uv2nSZrAqUaJ",
        "outputId": "027403cf-5e0d-47bc-dc4a-1577c818a2e8"
      },
      "execution_count": 235,
      "outputs": [
        {
          "output_type": "execute_result",
          "data": {
            "text/plain": [
              "200"
            ]
          },
          "metadata": {},
          "execution_count": 235
        }
      ]
    },
    {
      "cell_type": "code",
      "source": [
        "\"\"\"URL Template\"\"\"\n",
        "url_temp= \"https://de.indeed.com/jobs?q={}&l={}&fromage=30&start={}\" #### changing url_temp to specify the postend time to 30 days as indeed doesn't show specific date beyond\n",
        "base_link=\"https://de.indeed.com\"\n",
        "\n",
        "\"\"\"This function takes the URL template, designation and city as inputs.\n",
        "It navigates through the top 200 search results and scans all the <a> tags and returns a list of \n",
        "all the href attributes.\"\"\"\n",
        "\n",
        "def get_href(url_temp,position,city):\n",
        "    results_per_city=200\n",
        "    href_list=[]\n",
        "    for start in range(0,results_per_city+10,10):\n",
        "        url=url_temp.format(position,city,start)\n",
        "        r=requests.get(url,headers=headers)\n",
        "        soup=BeautifulSoup(r.text,\"html.parser\")    \n",
        "       \n",
        "        for i in soup.find_all('a'):\n",
        "            # if tag has attribute of class\n",
        "            if i.has_attr( \"href\" ):\n",
        "                k=i['href']\n",
        "                href_list.append(base_link+k)\n",
        "    \n",
        "    return href_list"
      ],
      "metadata": {
        "id": "_hSELZlXqba2"
      },
      "execution_count": 236,
      "outputs": []
    },
    {
      "cell_type": "code",
      "source": [
        "\"\"\"This function takes the list of all the href attributes as input, \n",
        "finds the URLs with the mentioned strings and returns a list of those URLs.\"\"\"\n",
        "\n",
        "def get_job_links(href_list):\n",
        "    job_links=[]\n",
        "    for a in href_list:\n",
        "        if a.find('/rc/clk')!=-1:\n",
        "            job_links.append(a)\n",
        "        elif a.find('/company/')!=-1:\n",
        "            job_links.append(a)\n",
        "    return job_links"
      ],
      "metadata": {
        "id": "cK7_vhoIqgCC"
      },
      "execution_count": 237,
      "outputs": []
    },
    {
      "cell_type": "code",
      "source": [
        "re_reqmnt = ['experience', 'knowledge', 'skills', 'strong', 'ability', 'years', 'good']\n",
        "\n",
        "def get_requirement(soup_req):\n",
        "  sections = pd.Series([x.text.strip() for x in soup_req.find(\"div\", {'class':'jobsearch-jobDescriptionText'}).find_all('ul')])\n",
        "  see = sections.str.lower().str.split().apply(lambda words: [\" \".join(word for word in words if word in re_reqmnt)])\n",
        "  see_idx = see.apply(lambda x: x[0]).replace(\"\", np.nan).dropna().index\n",
        "  qualifications = sections[see_idx].reset_index(drop=True).sort_values(ascending=False)\n",
        "\n",
        "  if len(qualifications) > 1:\n",
        "    qual = qualifications[0]\n",
        "    add_qual = qualifications[1]\n",
        "  elif len(qualifications) == 1:\n",
        "    qual = qualifications[0]\n",
        "    add_qual = np.nan\n",
        "  else:\n",
        "    qual = np.nan\n",
        "    add_qual = np.nan\n",
        "  \n",
        "  return(qual, add_qual)\n"
      ],
      "metadata": {
        "id": "l0HE3q-J6phR"
      },
      "execution_count": 238,
      "outputs": []
    },
    {
      "cell_type": "code",
      "source": [
        "\"\"\"This function takes the list of the URLs of the job postings and the city and does the following:\n",
        "1. Send HTTP request to each of the URL.\n",
        "2. Creates a soup object with html parsing.\n",
        "3. Extracts title, company name, location and job description from each of the webpage and returns a dataframe.\"\"\"\n",
        "\n",
        "\n",
        "def get_job_df(job_links,city):\n",
        "    df=pd.DataFrame(columns=[\"date\", \"job_location\", \"job_title\", \"company\", \"company_alt\",\"requirement\", \"add_req\", \"job_description\"])\n",
        "    \n",
        "    for i in job_links:\n",
        "        req=requests.get(i,headers=headers)\n",
        "        soup_req=BeautifulSoup(req.text,\"html.parser\")\n",
        "        try:\n",
        "            title=soup_req.find('h1',{'class': 'icl-u-xs-mb--xs icl-u-xs-mt--none jobsearch-JobInfoHeader-title'}).text\n",
        "        except:\n",
        "            continue\n",
        "        try:\n",
        "            company=soup_req.find('div',{'class':'icl-u-lg-mr--sm icl-u-xs-mr--xs'}).find_next().text #this worked for one company, trying for all\n",
        "        except:\n",
        "            continue\n",
        "        \n",
        "        company_alt=soup_req.find('div',{'class':'jobsearch-JobMetadataFooter'}).find_next().text #grabbing comapny name from footer\n",
        "\n",
        "\n",
        "        try:\n",
        "            location=soup_req.find('div',{'class':'jobsearch-InlineCompanyRating icl-u-xs-mt--xs jobsearch-DesktopStickyContainer-companyrating'}).text\n",
        "        except:\n",
        "            location=city\n",
        "        \n",
        "        try:\n",
        "            requirement, add_req = get_requirement(soup_req)\n",
        "        except:\n",
        "          continue\n",
        "\n",
        "        try:\n",
        "            desc=soup_req.find('div',{'class':'jobsearch-jobDescriptionText'}).text\n",
        "        except:\n",
        "            continue\n",
        "        date=soup_req.find('div',{'class':'jobsearch-JobMetadataFooter'}).find_next().find_next().text #this works\n",
        "\n",
        "        df = df.append({\"job_location\":city, \"job_title\":title, \"company\":company, \"job_description\":desc, \"company_alt\": company_alt, \"date\": date,\n",
        "                \"requirement\": requirement, \"add_req\": add_req}, ignore_index=True)\n",
        "\n",
        "\n",
        "    \n",
        "    return df"
      ],
      "metadata": {
        "id": "grrxtQ1VqjZ0"
      },
      "execution_count": 239,
      "outputs": []
    },
    {
      "cell_type": "code",
      "source": [
        "\"\"\"Calling all the above functions inside this function which takes the URL template, designation and city as inputs.\"\"\"\n",
        "\n",
        "def get_job_postings(url_temp,position,city):\n",
        "    \n",
        "    href_list= get_href(url_temp,position,city)\n",
        "    \n",
        "    job_links= get_job_links(href_list)\n",
        "    \n",
        "    job_df= get_job_df(job_links,city)\n",
        "    \n",
        "    return job_df"
      ],
      "metadata": {
        "id": "kb2vuGDmqwy9"
      },
      "execution_count": 240,
      "outputs": []
    },
    {
      "cell_type": "code",
      "source": [
        "data = get_job_postings(url_temp,position='Data+Analyst',city='Berlin')"
      ],
      "metadata": {
        "id": "I65UqHkJq3LL",
        "colab": {
          "base_uri": "https://localhost:8080/"
        },
        "outputId": "f127fe98-e9b2-4f3c-b9c7-c4bb9f7c6c44"
      },
      "execution_count": 241,
      "outputs": [
        {
          "output_type": "stream",
          "name": "stderr",
          "text": [
            "/usr/local/lib/python3.7/dist-packages/ipykernel_launcher.py:4: DeprecationWarning: The default dtype for empty Series will be 'object' instead of 'float64' in a future version. Specify a dtype explicitly to silence this warning.\n",
            "  after removing the cwd from sys.path.\n"
          ]
        }
      ]
    },
    {
      "cell_type": "code",
      "source": [
        "data.to_csv('job_data.csv')"
      ],
      "metadata": {
        "id": "vhz9V9c0rEC-"
      },
      "execution_count": 242,
      "outputs": []
    },
    {
      "cell_type": "code",
      "source": [
        "data_analyst_df = pd.read_csv('/content/job_data.csv', index_col=0)\n",
        "data_analyst_df.head()"
      ],
      "metadata": {
        "colab": {
          "base_uri": "https://localhost:8080/",
          "height": 424
        },
        "id": "mAOClyGuKda-",
        "outputId": "37e28a18-6a41-45ad-b1f3-0d5bb9ecbba9"
      },
      "execution_count": 243,
      "outputs": [
        {
          "output_type": "execute_result",
          "data": {
            "text/plain": [
              "                                                date job_location  \\\n",
              "0  .css-fjuv6g{box-sizing:border-box;background:n...       Berlin   \n",
              "1  .css-fjuv6g{box-sizing:border-box;background:n...       Berlin   \n",
              "2  .css-fjuv6g{box-sizing:border-box;background:n...       Berlin   \n",
              "3                                        vor 8 Tagen       Berlin   \n",
              "4                                        vor 2 Tagen       Berlin   \n",
              "\n",
              "                                   job_title  \\\n",
              "0    Business Data Analyst – Level 1 (m/f/d)   \n",
              "1               Product Data Analyst (m/f/d)   \n",
              "2                Senior Data Analyst (m/f/x)   \n",
              "3        Claims & Risk Analyst, EMEA (m/w/d)   \n",
              "4  Senior Data Analyst - Global Data (f/m/d)   \n",
              "\n",
              "                                             company    company_alt  \\\n",
              "0  ICE International Copyright Enterprise Germany...   vor 23 Tagen   \n",
              "1                                       COMATCH GmbH    vor 8 Tagen   \n",
              "2                                       Getsafe GmbH   vor 28 Tagen   \n",
              "3                                              Tesla          Tesla   \n",
              "4                                      Delivery Hero  Delivery Hero   \n",
              "\n",
              "                                         requirement  \\\n",
              "0  You’re keen to delve into the world of coding,...   \n",
              "1  You have significant experience (3+ years) in ...   \n",
              "2  You will develop further our BI and reporting ...   \n",
              "3  4 to 6 years of multi-line insurance/claims ma...   \n",
              "4  Want to be a Hero? Join the #1 GLOBAL LEADER i...   \n",
              "\n",
              "                                             add_req  \\\n",
              "0                                                NaN   \n",
              "1  Top Employer Award - awarded several times by ...   \n",
              "2  You have 4+ years of experience in Business In...   \n",
              "3                                                NaN   \n",
              "4  More than 4 years experience as a BI/Data Anal...   \n",
              "\n",
              "                                     job_description  \n",
              "0  \\nWhat is ICE?ICE is the result of a big visio...  \n",
              "1  \\nYour missionAs COMATCH and Malt, we are now ...  \n",
              "2  Getsafe is one of the fastest growing tech com...  \n",
              "3  \\n\\n\\n\\n\\nThe Role\\n\\n\\n\\n Tesla’s Global Risk...  \n",
              "4  Want to be a Hero? Join the #1 GLOBAL LEADER i...  "
            ],
            "text/html": [
              "\n",
              "  <div id=\"df-eca45867-8ebf-4a1e-922e-3cb0f0ab0325\">\n",
              "    <div class=\"colab-df-container\">\n",
              "      <div>\n",
              "<style scoped>\n",
              "    .dataframe tbody tr th:only-of-type {\n",
              "        vertical-align: middle;\n",
              "    }\n",
              "\n",
              "    .dataframe tbody tr th {\n",
              "        vertical-align: top;\n",
              "    }\n",
              "\n",
              "    .dataframe thead th {\n",
              "        text-align: right;\n",
              "    }\n",
              "</style>\n",
              "<table border=\"1\" class=\"dataframe\">\n",
              "  <thead>\n",
              "    <tr style=\"text-align: right;\">\n",
              "      <th></th>\n",
              "      <th>date</th>\n",
              "      <th>job_location</th>\n",
              "      <th>job_title</th>\n",
              "      <th>company</th>\n",
              "      <th>company_alt</th>\n",
              "      <th>requirement</th>\n",
              "      <th>add_req</th>\n",
              "      <th>job_description</th>\n",
              "    </tr>\n",
              "  </thead>\n",
              "  <tbody>\n",
              "    <tr>\n",
              "      <th>0</th>\n",
              "      <td>.css-fjuv6g{box-sizing:border-box;background:n...</td>\n",
              "      <td>Berlin</td>\n",
              "      <td>Business Data Analyst – Level 1 (m/f/d)</td>\n",
              "      <td>ICE International Copyright Enterprise Germany...</td>\n",
              "      <td>vor 23 Tagen</td>\n",
              "      <td>You’re keen to delve into the world of coding,...</td>\n",
              "      <td>NaN</td>\n",
              "      <td>\\nWhat is ICE?ICE is the result of a big visio...</td>\n",
              "    </tr>\n",
              "    <tr>\n",
              "      <th>1</th>\n",
              "      <td>.css-fjuv6g{box-sizing:border-box;background:n...</td>\n",
              "      <td>Berlin</td>\n",
              "      <td>Product Data Analyst (m/f/d)</td>\n",
              "      <td>COMATCH GmbH</td>\n",
              "      <td>vor 8 Tagen</td>\n",
              "      <td>You have significant experience (3+ years) in ...</td>\n",
              "      <td>Top Employer Award - awarded several times by ...</td>\n",
              "      <td>\\nYour missionAs COMATCH and Malt, we are now ...</td>\n",
              "    </tr>\n",
              "    <tr>\n",
              "      <th>2</th>\n",
              "      <td>.css-fjuv6g{box-sizing:border-box;background:n...</td>\n",
              "      <td>Berlin</td>\n",
              "      <td>Senior Data Analyst (m/f/x)</td>\n",
              "      <td>Getsafe GmbH</td>\n",
              "      <td>vor 28 Tagen</td>\n",
              "      <td>You will develop further our BI and reporting ...</td>\n",
              "      <td>You have 4+ years of experience in Business In...</td>\n",
              "      <td>Getsafe is one of the fastest growing tech com...</td>\n",
              "    </tr>\n",
              "    <tr>\n",
              "      <th>3</th>\n",
              "      <td>vor 8 Tagen</td>\n",
              "      <td>Berlin</td>\n",
              "      <td>Claims &amp; Risk Analyst, EMEA (m/w/d)</td>\n",
              "      <td>Tesla</td>\n",
              "      <td>Tesla</td>\n",
              "      <td>4 to 6 years of multi-line insurance/claims ma...</td>\n",
              "      <td>NaN</td>\n",
              "      <td>\\n\\n\\n\\n\\nThe Role\\n\\n\\n\\n Tesla’s Global Risk...</td>\n",
              "    </tr>\n",
              "    <tr>\n",
              "      <th>4</th>\n",
              "      <td>vor 2 Tagen</td>\n",
              "      <td>Berlin</td>\n",
              "      <td>Senior Data Analyst - Global Data (f/m/d)</td>\n",
              "      <td>Delivery Hero</td>\n",
              "      <td>Delivery Hero</td>\n",
              "      <td>Want to be a Hero? Join the #1 GLOBAL LEADER i...</td>\n",
              "      <td>More than 4 years experience as a BI/Data Anal...</td>\n",
              "      <td>Want to be a Hero? Join the #1 GLOBAL LEADER i...</td>\n",
              "    </tr>\n",
              "  </tbody>\n",
              "</table>\n",
              "</div>\n",
              "      <button class=\"colab-df-convert\" onclick=\"convertToInteractive('df-eca45867-8ebf-4a1e-922e-3cb0f0ab0325')\"\n",
              "              title=\"Convert this dataframe to an interactive table.\"\n",
              "              style=\"display:none;\">\n",
              "        \n",
              "  <svg xmlns=\"http://www.w3.org/2000/svg\" height=\"24px\"viewBox=\"0 0 24 24\"\n",
              "       width=\"24px\">\n",
              "    <path d=\"M0 0h24v24H0V0z\" fill=\"none\"/>\n",
              "    <path d=\"M18.56 5.44l.94 2.06.94-2.06 2.06-.94-2.06-.94-.94-2.06-.94 2.06-2.06.94zm-11 1L8.5 8.5l.94-2.06 2.06-.94-2.06-.94L8.5 2.5l-.94 2.06-2.06.94zm10 10l.94 2.06.94-2.06 2.06-.94-2.06-.94-.94-2.06-.94 2.06-2.06.94z\"/><path d=\"M17.41 7.96l-1.37-1.37c-.4-.4-.92-.59-1.43-.59-.52 0-1.04.2-1.43.59L10.3 9.45l-7.72 7.72c-.78.78-.78 2.05 0 2.83L4 21.41c.39.39.9.59 1.41.59.51 0 1.02-.2 1.41-.59l7.78-7.78 2.81-2.81c.8-.78.8-2.07 0-2.86zM5.41 20L4 18.59l7.72-7.72 1.47 1.35L5.41 20z\"/>\n",
              "  </svg>\n",
              "      </button>\n",
              "      \n",
              "  <style>\n",
              "    .colab-df-container {\n",
              "      display:flex;\n",
              "      flex-wrap:wrap;\n",
              "      gap: 12px;\n",
              "    }\n",
              "\n",
              "    .colab-df-convert {\n",
              "      background-color: #E8F0FE;\n",
              "      border: none;\n",
              "      border-radius: 50%;\n",
              "      cursor: pointer;\n",
              "      display: none;\n",
              "      fill: #1967D2;\n",
              "      height: 32px;\n",
              "      padding: 0 0 0 0;\n",
              "      width: 32px;\n",
              "    }\n",
              "\n",
              "    .colab-df-convert:hover {\n",
              "      background-color: #E2EBFA;\n",
              "      box-shadow: 0px 1px 2px rgba(60, 64, 67, 0.3), 0px 1px 3px 1px rgba(60, 64, 67, 0.15);\n",
              "      fill: #174EA6;\n",
              "    }\n",
              "\n",
              "    [theme=dark] .colab-df-convert {\n",
              "      background-color: #3B4455;\n",
              "      fill: #D2E3FC;\n",
              "    }\n",
              "\n",
              "    [theme=dark] .colab-df-convert:hover {\n",
              "      background-color: #434B5C;\n",
              "      box-shadow: 0px 1px 3px 1px rgba(0, 0, 0, 0.15);\n",
              "      filter: drop-shadow(0px 1px 2px rgba(0, 0, 0, 0.3));\n",
              "      fill: #FFFFFF;\n",
              "    }\n",
              "  </style>\n",
              "\n",
              "      <script>\n",
              "        const buttonEl =\n",
              "          document.querySelector('#df-eca45867-8ebf-4a1e-922e-3cb0f0ab0325 button.colab-df-convert');\n",
              "        buttonEl.style.display =\n",
              "          google.colab.kernel.accessAllowed ? 'block' : 'none';\n",
              "\n",
              "        async function convertToInteractive(key) {\n",
              "          const element = document.querySelector('#df-eca45867-8ebf-4a1e-922e-3cb0f0ab0325');\n",
              "          const dataTable =\n",
              "            await google.colab.kernel.invokeFunction('convertToInteractive',\n",
              "                                                     [key], {});\n",
              "          if (!dataTable) return;\n",
              "\n",
              "          const docLinkHtml = 'Like what you see? Visit the ' +\n",
              "            '<a target=\"_blank\" href=https://colab.research.google.com/notebooks/data_table.ipynb>data table notebook</a>'\n",
              "            + ' to learn more about interactive tables.';\n",
              "          element.innerHTML = '';\n",
              "          dataTable['output_type'] = 'display_data';\n",
              "          await google.colab.output.renderOutput(dataTable, element);\n",
              "          const docLink = document.createElement('div');\n",
              "          docLink.innerHTML = docLinkHtml;\n",
              "          element.appendChild(docLink);\n",
              "        }\n",
              "      </script>\n",
              "    </div>\n",
              "  </div>\n",
              "  "
            ]
          },
          "metadata": {},
          "execution_count": 243
        }
      ]
    },
    {
      "cell_type": "code",
      "source": [
        "data_analyst_df.shape"
      ],
      "metadata": {
        "colab": {
          "base_uri": "https://localhost:8080/"
        },
        "id": "p93RiST-TFKN",
        "outputId": "8be20b63-0ae5-4d21-cee3-f4dd258f1fbf"
      },
      "execution_count": 244,
      "outputs": [
        {
          "output_type": "execute_result",
          "data": {
            "text/plain": [
              "(192, 8)"
            ]
          },
          "metadata": {},
          "execution_count": 244
        }
      ]
    },
    {
      "cell_type": "code",
      "source": [
        "!pip install langdetect #Language detection library ported from Google's language-detection.\n",
        "from langdetect import detect"
      ],
      "metadata": {
        "colab": {
          "base_uri": "https://localhost:8080/"
        },
        "id": "TZLXBcsu8J8x",
        "outputId": "b93e2f44-944b-4405-c4e7-97867bb40529"
      },
      "execution_count": 245,
      "outputs": [
        {
          "output_type": "stream",
          "name": "stdout",
          "text": [
            "Looking in indexes: https://pypi.org/simple, https://us-python.pkg.dev/colab-wheels/public/simple/\n",
            "Requirement already satisfied: langdetect in /usr/local/lib/python3.7/dist-packages (1.0.9)\n",
            "Requirement already satisfied: six in /usr/local/lib/python3.7/dist-packages (from langdetect) (1.15.0)\n"
          ]
        }
      ]
    },
    {
      "cell_type": "code",
      "source": [
        "#detecting records with German language and dropping them\n",
        "idx_ger_records = data_analyst_df[data_analyst_df.job_description.apply(lambda x: detect(x)) == 'de'].index\n",
        "data_analyst_df.drop(index=idx_ger_records, inplace=True)"
      ],
      "metadata": {
        "id": "toAnkHIs8bc_"
      },
      "execution_count": 246,
      "outputs": []
    },
    {
      "cell_type": "code",
      "source": [
        "data_analyst_df.date.str.startswith('.css').value_counts()"
      ],
      "metadata": {
        "colab": {
          "base_uri": "https://localhost:8080/"
        },
        "id": "6zCKfbv8u8AE",
        "outputId": "220ba482-7dd5-4ca1-f02a-1dfe18596eb4"
      },
      "execution_count": 247,
      "outputs": [
        {
          "output_type": "execute_result",
          "data": {
            "text/plain": [
              "False    137\n",
              "True      19\n",
              "Name: date, dtype: int64"
            ]
          },
          "metadata": {},
          "execution_count": 247
        }
      ]
    },
    {
      "cell_type": "code",
      "source": [
        "data_analyst_df.date.isna().value_counts()"
      ],
      "metadata": {
        "colab": {
          "base_uri": "https://localhost:8080/"
        },
        "id": "bxk0B4WyP_x-",
        "outputId": "ffdca155-929b-4419-e438-a4f8cea952cd"
      },
      "execution_count": 248,
      "outputs": [
        {
          "output_type": "execute_result",
          "data": {
            "text/plain": [
              "False    156\n",
              "Name: date, dtype: int64"
            ]
          },
          "metadata": {},
          "execution_count": 248
        }
      ]
    },
    {
      "cell_type": "code",
      "source": [
        "#index_rep = data_analyst_df[data_analyst_df.date == \"Diesen Job melden\"].date.index #bad values for old de.indeed format\n",
        "data_analyst_df.date.fillna('.css', inplace=True) #found one record at one attempt to have NaN. Filling it with .css to preserve the structure\n",
        "index_rep = data_analyst_df[data_analyst_df.date.str.startswith('.css')].index #bad values for new de.indeed format"
      ],
      "metadata": {
        "id": "0hflOoWTQNZ7"
      },
      "execution_count": 249,
      "outputs": []
    },
    {
      "cell_type": "code",
      "source": [
        "#footers had it wrong sometimes, replaced with company_alt that had the right date which exist in the footer as well\n",
        "\n",
        "actual_date = data_analyst_df.loc[index_rep].company_alt\n",
        "fake_date = data_analyst_df.loc[index_rep].date\n",
        "data_analyst_df.date.replace(fake_date.values, actual_date.values, inplace=True)"
      ],
      "metadata": {
        "id": "57MpZIbRvNHx"
      },
      "execution_count": 250,
      "outputs": []
    },
    {
      "cell_type": "code",
      "source": [
        "data_analyst_df.date.value_counts()"
      ],
      "metadata": {
        "id": "OVLj4U4zwzKE",
        "colab": {
          "base_uri": "https://localhost:8080/"
        },
        "outputId": "9a8a41c8-5113-42c0-f9f5-0cceba26714e"
      },
      "execution_count": 251,
      "outputs": [
        {
          "output_type": "execute_result",
          "data": {
            "text/plain": [
              "vor 24 Tagen         24\n",
              "vor 8 Tagen          15\n",
              "vor 21 Tagen          9\n",
              "vor 16 Tagen          8\n",
              "vor 23 Tagen          7\n",
              "vor 5 Tagen           7\n",
              "vor 22 Tagen          7\n",
              "vor 17 Tagen          7\n",
              "vor 18 Tagen          7\n",
              "vor 4 Tagen           7\n",
              "vor 25 Tagen          7\n",
              "vor 3 Tagen           6\n",
              "vor 15 Tagen          6\n",
              "vor 7 Tagen           6\n",
              "vor 19 Tagen          4\n",
              "vor 10 Tagen          4\n",
              "vor 1 Tag             4\n",
              "vor 28 Tagen          3\n",
              "vor 29 Tagen          3\n",
              "vor 26 Tagen          3\n",
              "vor 14 Tagen          3\n",
              "vor 2 Tagen           3\n",
              "vor 9 Tagen           2\n",
              "vor 11 Tagen          1\n",
              "Heute                 1\n",
              "vor 12 Tagen          1\n",
              "Gerade geschaltet     1\n",
              "Name: date, dtype: int64"
            ]
          },
          "metadata": {},
          "execution_count": 251
        }
      ]
    },
    {
      "cell_type": "code",
      "source": [
        "data_analyst_df.company.value_counts()"
      ],
      "metadata": {
        "id": "rQ2tJxcqxYzv",
        "colab": {
          "base_uri": "https://localhost:8080/"
        },
        "outputId": "10eedc56-e29f-4ecf-f60d-cf52cac3eba4"
      },
      "execution_count": 252,
      "outputs": [
        {
          "output_type": "execute_result",
          "data": {
            "text/plain": [
              "Delivery Hero       11\n",
              "Zalando              8\n",
              "COMATCH GmbH         5\n",
              "Deutsche Bank        5\n",
              "Wayfair              4\n",
              "                    ..\n",
              "HelloFresh           1\n",
              "Back Market          1\n",
              "SAP                  1\n",
              "ProVeg Nederland     1\n",
              "Adjust               1\n",
              "Name: company, Length: 106, dtype: int64"
            ]
          },
          "metadata": {},
          "execution_count": 252
        }
      ]
    },
    {
      "cell_type": "code",
      "source": [
        "ind = data_analyst_df[data_analyst_df.company == \"\"].company.index"
      ],
      "metadata": {
        "id": "5Zs5EbX6z86o"
      },
      "execution_count": 253,
      "outputs": []
    },
    {
      "cell_type": "code",
      "source": [
        "#This time getting the company from the footer\n",
        "actual = data_analyst_df.loc[ind].company_alt\n",
        "fake = data_analyst_df.loc[ind].company\n",
        "data_analyst_df.company.replace(fake.values, actual.values, inplace=True)"
      ],
      "metadata": {
        "id": "2wwL2rpC0rAF"
      },
      "execution_count": 254,
      "outputs": []
    },
    {
      "cell_type": "code",
      "source": [
        "data_analyst_df.drop(columns='company_alt', inplace=True) #dropping company_alt after extracting actual date and company values"
      ],
      "metadata": {
        "id": "IT3oZo8N0c8g"
      },
      "execution_count": 255,
      "outputs": []
    },
    {
      "cell_type": "code",
      "source": [
        "data_analyst_df.company.value_counts()"
      ],
      "metadata": {
        "id": "9I12mkV-1D7D",
        "colab": {
          "base_uri": "https://localhost:8080/"
        },
        "outputId": "ab863dca-a9da-4694-9e8e-1441008ae590"
      },
      "execution_count": 256,
      "outputs": [
        {
          "output_type": "execute_result",
          "data": {
            "text/plain": [
              "Delivery Hero       11\n",
              "Zalando              8\n",
              "COMATCH GmbH         5\n",
              "Deutsche Bank        5\n",
              "Wayfair              4\n",
              "                    ..\n",
              "HelloFresh           1\n",
              "Back Market          1\n",
              "SAP                  1\n",
              "ProVeg Nederland     1\n",
              "Adjust               1\n",
              "Name: company, Length: 106, dtype: int64"
            ]
          },
          "metadata": {},
          "execution_count": 256
        }
      ]
    },
    {
      "cell_type": "code",
      "source": [
        "data_analyst_df.head()"
      ],
      "metadata": {
        "colab": {
          "base_uri": "https://localhost:8080/",
          "height": 337
        },
        "id": "f4bZCvgKgj8u",
        "outputId": "40aa0f73-1b21-44c7-9596-4bc14778b578"
      },
      "execution_count": 257,
      "outputs": [
        {
          "output_type": "execute_result",
          "data": {
            "text/plain": [
              "           date job_location                                  job_title  \\\n",
              "0  vor 24 Tagen       Berlin    Business Data Analyst – Level 1 (m/f/d)   \n",
              "1  vor 24 Tagen       Berlin               Product Data Analyst (m/f/d)   \n",
              "2  vor 24 Tagen       Berlin                Senior Data Analyst (m/f/x)   \n",
              "3   vor 8 Tagen       Berlin        Claims & Risk Analyst, EMEA (m/w/d)   \n",
              "4   vor 2 Tagen       Berlin  Senior Data Analyst - Global Data (f/m/d)   \n",
              "\n",
              "                                             company  \\\n",
              "0  ICE International Copyright Enterprise Germany...   \n",
              "1                                       COMATCH GmbH   \n",
              "2                                       Getsafe GmbH   \n",
              "3                                              Tesla   \n",
              "4                                      Delivery Hero   \n",
              "\n",
              "                                         requirement  \\\n",
              "0  You’re keen to delve into the world of coding,...   \n",
              "1  You have significant experience (3+ years) in ...   \n",
              "2  You will develop further our BI and reporting ...   \n",
              "3  4 to 6 years of multi-line insurance/claims ma...   \n",
              "4  Want to be a Hero? Join the #1 GLOBAL LEADER i...   \n",
              "\n",
              "                                             add_req  \\\n",
              "0                                                NaN   \n",
              "1  Top Employer Award - awarded several times by ...   \n",
              "2  You have 4+ years of experience in Business In...   \n",
              "3                                                NaN   \n",
              "4  More than 4 years experience as a BI/Data Anal...   \n",
              "\n",
              "                                     job_description  \n",
              "0  \\nWhat is ICE?ICE is the result of a big visio...  \n",
              "1  \\nYour missionAs COMATCH and Malt, we are now ...  \n",
              "2  Getsafe is one of the fastest growing tech com...  \n",
              "3  \\n\\n\\n\\n\\nThe Role\\n\\n\\n\\n Tesla’s Global Risk...  \n",
              "4  Want to be a Hero? Join the #1 GLOBAL LEADER i...  "
            ],
            "text/html": [
              "\n",
              "  <div id=\"df-039f0273-1a77-4418-b6d3-14a8697bb2ee\">\n",
              "    <div class=\"colab-df-container\">\n",
              "      <div>\n",
              "<style scoped>\n",
              "    .dataframe tbody tr th:only-of-type {\n",
              "        vertical-align: middle;\n",
              "    }\n",
              "\n",
              "    .dataframe tbody tr th {\n",
              "        vertical-align: top;\n",
              "    }\n",
              "\n",
              "    .dataframe thead th {\n",
              "        text-align: right;\n",
              "    }\n",
              "</style>\n",
              "<table border=\"1\" class=\"dataframe\">\n",
              "  <thead>\n",
              "    <tr style=\"text-align: right;\">\n",
              "      <th></th>\n",
              "      <th>date</th>\n",
              "      <th>job_location</th>\n",
              "      <th>job_title</th>\n",
              "      <th>company</th>\n",
              "      <th>requirement</th>\n",
              "      <th>add_req</th>\n",
              "      <th>job_description</th>\n",
              "    </tr>\n",
              "  </thead>\n",
              "  <tbody>\n",
              "    <tr>\n",
              "      <th>0</th>\n",
              "      <td>vor 24 Tagen</td>\n",
              "      <td>Berlin</td>\n",
              "      <td>Business Data Analyst – Level 1 (m/f/d)</td>\n",
              "      <td>ICE International Copyright Enterprise Germany...</td>\n",
              "      <td>You’re keen to delve into the world of coding,...</td>\n",
              "      <td>NaN</td>\n",
              "      <td>\\nWhat is ICE?ICE is the result of a big visio...</td>\n",
              "    </tr>\n",
              "    <tr>\n",
              "      <th>1</th>\n",
              "      <td>vor 24 Tagen</td>\n",
              "      <td>Berlin</td>\n",
              "      <td>Product Data Analyst (m/f/d)</td>\n",
              "      <td>COMATCH GmbH</td>\n",
              "      <td>You have significant experience (3+ years) in ...</td>\n",
              "      <td>Top Employer Award - awarded several times by ...</td>\n",
              "      <td>\\nYour missionAs COMATCH and Malt, we are now ...</td>\n",
              "    </tr>\n",
              "    <tr>\n",
              "      <th>2</th>\n",
              "      <td>vor 24 Tagen</td>\n",
              "      <td>Berlin</td>\n",
              "      <td>Senior Data Analyst (m/f/x)</td>\n",
              "      <td>Getsafe GmbH</td>\n",
              "      <td>You will develop further our BI and reporting ...</td>\n",
              "      <td>You have 4+ years of experience in Business In...</td>\n",
              "      <td>Getsafe is one of the fastest growing tech com...</td>\n",
              "    </tr>\n",
              "    <tr>\n",
              "      <th>3</th>\n",
              "      <td>vor 8 Tagen</td>\n",
              "      <td>Berlin</td>\n",
              "      <td>Claims &amp; Risk Analyst, EMEA (m/w/d)</td>\n",
              "      <td>Tesla</td>\n",
              "      <td>4 to 6 years of multi-line insurance/claims ma...</td>\n",
              "      <td>NaN</td>\n",
              "      <td>\\n\\n\\n\\n\\nThe Role\\n\\n\\n\\n Tesla’s Global Risk...</td>\n",
              "    </tr>\n",
              "    <tr>\n",
              "      <th>4</th>\n",
              "      <td>vor 2 Tagen</td>\n",
              "      <td>Berlin</td>\n",
              "      <td>Senior Data Analyst - Global Data (f/m/d)</td>\n",
              "      <td>Delivery Hero</td>\n",
              "      <td>Want to be a Hero? Join the #1 GLOBAL LEADER i...</td>\n",
              "      <td>More than 4 years experience as a BI/Data Anal...</td>\n",
              "      <td>Want to be a Hero? Join the #1 GLOBAL LEADER i...</td>\n",
              "    </tr>\n",
              "  </tbody>\n",
              "</table>\n",
              "</div>\n",
              "      <button class=\"colab-df-convert\" onclick=\"convertToInteractive('df-039f0273-1a77-4418-b6d3-14a8697bb2ee')\"\n",
              "              title=\"Convert this dataframe to an interactive table.\"\n",
              "              style=\"display:none;\">\n",
              "        \n",
              "  <svg xmlns=\"http://www.w3.org/2000/svg\" height=\"24px\"viewBox=\"0 0 24 24\"\n",
              "       width=\"24px\">\n",
              "    <path d=\"M0 0h24v24H0V0z\" fill=\"none\"/>\n",
              "    <path d=\"M18.56 5.44l.94 2.06.94-2.06 2.06-.94-2.06-.94-.94-2.06-.94 2.06-2.06.94zm-11 1L8.5 8.5l.94-2.06 2.06-.94-2.06-.94L8.5 2.5l-.94 2.06-2.06.94zm10 10l.94 2.06.94-2.06 2.06-.94-2.06-.94-.94-2.06-.94 2.06-2.06.94z\"/><path d=\"M17.41 7.96l-1.37-1.37c-.4-.4-.92-.59-1.43-.59-.52 0-1.04.2-1.43.59L10.3 9.45l-7.72 7.72c-.78.78-.78 2.05 0 2.83L4 21.41c.39.39.9.59 1.41.59.51 0 1.02-.2 1.41-.59l7.78-7.78 2.81-2.81c.8-.78.8-2.07 0-2.86zM5.41 20L4 18.59l7.72-7.72 1.47 1.35L5.41 20z\"/>\n",
              "  </svg>\n",
              "      </button>\n",
              "      \n",
              "  <style>\n",
              "    .colab-df-container {\n",
              "      display:flex;\n",
              "      flex-wrap:wrap;\n",
              "      gap: 12px;\n",
              "    }\n",
              "\n",
              "    .colab-df-convert {\n",
              "      background-color: #E8F0FE;\n",
              "      border: none;\n",
              "      border-radius: 50%;\n",
              "      cursor: pointer;\n",
              "      display: none;\n",
              "      fill: #1967D2;\n",
              "      height: 32px;\n",
              "      padding: 0 0 0 0;\n",
              "      width: 32px;\n",
              "    }\n",
              "\n",
              "    .colab-df-convert:hover {\n",
              "      background-color: #E2EBFA;\n",
              "      box-shadow: 0px 1px 2px rgba(60, 64, 67, 0.3), 0px 1px 3px 1px rgba(60, 64, 67, 0.15);\n",
              "      fill: #174EA6;\n",
              "    }\n",
              "\n",
              "    [theme=dark] .colab-df-convert {\n",
              "      background-color: #3B4455;\n",
              "      fill: #D2E3FC;\n",
              "    }\n",
              "\n",
              "    [theme=dark] .colab-df-convert:hover {\n",
              "      background-color: #434B5C;\n",
              "      box-shadow: 0px 1px 3px 1px rgba(0, 0, 0, 0.15);\n",
              "      filter: drop-shadow(0px 1px 2px rgba(0, 0, 0, 0.3));\n",
              "      fill: #FFFFFF;\n",
              "    }\n",
              "  </style>\n",
              "\n",
              "      <script>\n",
              "        const buttonEl =\n",
              "          document.querySelector('#df-039f0273-1a77-4418-b6d3-14a8697bb2ee button.colab-df-convert');\n",
              "        buttonEl.style.display =\n",
              "          google.colab.kernel.accessAllowed ? 'block' : 'none';\n",
              "\n",
              "        async function convertToInteractive(key) {\n",
              "          const element = document.querySelector('#df-039f0273-1a77-4418-b6d3-14a8697bb2ee');\n",
              "          const dataTable =\n",
              "            await google.colab.kernel.invokeFunction('convertToInteractive',\n",
              "                                                     [key], {});\n",
              "          if (!dataTable) return;\n",
              "\n",
              "          const docLinkHtml = 'Like what you see? Visit the ' +\n",
              "            '<a target=\"_blank\" href=https://colab.research.google.com/notebooks/data_table.ipynb>data table notebook</a>'\n",
              "            + ' to learn more about interactive tables.';\n",
              "          element.innerHTML = '';\n",
              "          dataTable['output_type'] = 'display_data';\n",
              "          await google.colab.output.renderOutput(dataTable, element);\n",
              "          const docLink = document.createElement('div');\n",
              "          docLink.innerHTML = docLinkHtml;\n",
              "          element.appendChild(docLink);\n",
              "        }\n",
              "      </script>\n",
              "    </div>\n",
              "  </div>\n",
              "  "
            ]
          },
          "metadata": {},
          "execution_count": 257
        }
      ]
    },
    {
      "cell_type": "code",
      "source": [
        "#date posted to actual date\n",
        "data_analyst_df.date.replace(['Heute', 'Gerade geschaltet'], 0, inplace=True) #replacing date \"Heute\": today and \"Gerade geschaltet\":Just posted, with 0\n",
        "data_analyst_df.date.replace(regex=[r'\\D+'], value=\"\", inplace=True) #remove non digits\n",
        "data_analyst_df.date = data_analyst_df.date.astype(int).apply(lambda x: datetime.now().date()-timedelta(x)) #calculating the actual date"
      ],
      "metadata": {
        "id": "pvQ0XLV31280"
      },
      "execution_count": 258,
      "outputs": []
    },
    {
      "cell_type": "code",
      "source": [
        "data_analyst_df.head()"
      ],
      "metadata": {
        "colab": {
          "base_uri": "https://localhost:8080/",
          "height": 337
        },
        "id": "Gr5VT5ZiTuOO",
        "outputId": "9e26f97a-f046-48c9-88c5-333849da199e"
      },
      "execution_count": 259,
      "outputs": [
        {
          "output_type": "execute_result",
          "data": {
            "text/plain": [
              "         date job_location                                  job_title  \\\n",
              "0  2022-05-04       Berlin    Business Data Analyst – Level 1 (m/f/d)   \n",
              "1  2022-05-04       Berlin               Product Data Analyst (m/f/d)   \n",
              "2  2022-05-04       Berlin                Senior Data Analyst (m/f/x)   \n",
              "3  2022-05-20       Berlin        Claims & Risk Analyst, EMEA (m/w/d)   \n",
              "4  2022-05-26       Berlin  Senior Data Analyst - Global Data (f/m/d)   \n",
              "\n",
              "                                             company  \\\n",
              "0  ICE International Copyright Enterprise Germany...   \n",
              "1                                       COMATCH GmbH   \n",
              "2                                       Getsafe GmbH   \n",
              "3                                              Tesla   \n",
              "4                                      Delivery Hero   \n",
              "\n",
              "                                         requirement  \\\n",
              "0  You’re keen to delve into the world of coding,...   \n",
              "1  You have significant experience (3+ years) in ...   \n",
              "2  You will develop further our BI and reporting ...   \n",
              "3  4 to 6 years of multi-line insurance/claims ma...   \n",
              "4  Want to be a Hero? Join the #1 GLOBAL LEADER i...   \n",
              "\n",
              "                                             add_req  \\\n",
              "0                                                NaN   \n",
              "1  Top Employer Award - awarded several times by ...   \n",
              "2  You have 4+ years of experience in Business In...   \n",
              "3                                                NaN   \n",
              "4  More than 4 years experience as a BI/Data Anal...   \n",
              "\n",
              "                                     job_description  \n",
              "0  \\nWhat is ICE?ICE is the result of a big visio...  \n",
              "1  \\nYour missionAs COMATCH and Malt, we are now ...  \n",
              "2  Getsafe is one of the fastest growing tech com...  \n",
              "3  \\n\\n\\n\\n\\nThe Role\\n\\n\\n\\n Tesla’s Global Risk...  \n",
              "4  Want to be a Hero? Join the #1 GLOBAL LEADER i...  "
            ],
            "text/html": [
              "\n",
              "  <div id=\"df-d5e28965-d4b8-4f9a-a63e-a23c0ae06890\">\n",
              "    <div class=\"colab-df-container\">\n",
              "      <div>\n",
              "<style scoped>\n",
              "    .dataframe tbody tr th:only-of-type {\n",
              "        vertical-align: middle;\n",
              "    }\n",
              "\n",
              "    .dataframe tbody tr th {\n",
              "        vertical-align: top;\n",
              "    }\n",
              "\n",
              "    .dataframe thead th {\n",
              "        text-align: right;\n",
              "    }\n",
              "</style>\n",
              "<table border=\"1\" class=\"dataframe\">\n",
              "  <thead>\n",
              "    <tr style=\"text-align: right;\">\n",
              "      <th></th>\n",
              "      <th>date</th>\n",
              "      <th>job_location</th>\n",
              "      <th>job_title</th>\n",
              "      <th>company</th>\n",
              "      <th>requirement</th>\n",
              "      <th>add_req</th>\n",
              "      <th>job_description</th>\n",
              "    </tr>\n",
              "  </thead>\n",
              "  <tbody>\n",
              "    <tr>\n",
              "      <th>0</th>\n",
              "      <td>2022-05-04</td>\n",
              "      <td>Berlin</td>\n",
              "      <td>Business Data Analyst – Level 1 (m/f/d)</td>\n",
              "      <td>ICE International Copyright Enterprise Germany...</td>\n",
              "      <td>You’re keen to delve into the world of coding,...</td>\n",
              "      <td>NaN</td>\n",
              "      <td>\\nWhat is ICE?ICE is the result of a big visio...</td>\n",
              "    </tr>\n",
              "    <tr>\n",
              "      <th>1</th>\n",
              "      <td>2022-05-04</td>\n",
              "      <td>Berlin</td>\n",
              "      <td>Product Data Analyst (m/f/d)</td>\n",
              "      <td>COMATCH GmbH</td>\n",
              "      <td>You have significant experience (3+ years) in ...</td>\n",
              "      <td>Top Employer Award - awarded several times by ...</td>\n",
              "      <td>\\nYour missionAs COMATCH and Malt, we are now ...</td>\n",
              "    </tr>\n",
              "    <tr>\n",
              "      <th>2</th>\n",
              "      <td>2022-05-04</td>\n",
              "      <td>Berlin</td>\n",
              "      <td>Senior Data Analyst (m/f/x)</td>\n",
              "      <td>Getsafe GmbH</td>\n",
              "      <td>You will develop further our BI and reporting ...</td>\n",
              "      <td>You have 4+ years of experience in Business In...</td>\n",
              "      <td>Getsafe is one of the fastest growing tech com...</td>\n",
              "    </tr>\n",
              "    <tr>\n",
              "      <th>3</th>\n",
              "      <td>2022-05-20</td>\n",
              "      <td>Berlin</td>\n",
              "      <td>Claims &amp; Risk Analyst, EMEA (m/w/d)</td>\n",
              "      <td>Tesla</td>\n",
              "      <td>4 to 6 years of multi-line insurance/claims ma...</td>\n",
              "      <td>NaN</td>\n",
              "      <td>\\n\\n\\n\\n\\nThe Role\\n\\n\\n\\n Tesla’s Global Risk...</td>\n",
              "    </tr>\n",
              "    <tr>\n",
              "      <th>4</th>\n",
              "      <td>2022-05-26</td>\n",
              "      <td>Berlin</td>\n",
              "      <td>Senior Data Analyst - Global Data (f/m/d)</td>\n",
              "      <td>Delivery Hero</td>\n",
              "      <td>Want to be a Hero? Join the #1 GLOBAL LEADER i...</td>\n",
              "      <td>More than 4 years experience as a BI/Data Anal...</td>\n",
              "      <td>Want to be a Hero? Join the #1 GLOBAL LEADER i...</td>\n",
              "    </tr>\n",
              "  </tbody>\n",
              "</table>\n",
              "</div>\n",
              "      <button class=\"colab-df-convert\" onclick=\"convertToInteractive('df-d5e28965-d4b8-4f9a-a63e-a23c0ae06890')\"\n",
              "              title=\"Convert this dataframe to an interactive table.\"\n",
              "              style=\"display:none;\">\n",
              "        \n",
              "  <svg xmlns=\"http://www.w3.org/2000/svg\" height=\"24px\"viewBox=\"0 0 24 24\"\n",
              "       width=\"24px\">\n",
              "    <path d=\"M0 0h24v24H0V0z\" fill=\"none\"/>\n",
              "    <path d=\"M18.56 5.44l.94 2.06.94-2.06 2.06-.94-2.06-.94-.94-2.06-.94 2.06-2.06.94zm-11 1L8.5 8.5l.94-2.06 2.06-.94-2.06-.94L8.5 2.5l-.94 2.06-2.06.94zm10 10l.94 2.06.94-2.06 2.06-.94-2.06-.94-.94-2.06-.94 2.06-2.06.94z\"/><path d=\"M17.41 7.96l-1.37-1.37c-.4-.4-.92-.59-1.43-.59-.52 0-1.04.2-1.43.59L10.3 9.45l-7.72 7.72c-.78.78-.78 2.05 0 2.83L4 21.41c.39.39.9.59 1.41.59.51 0 1.02-.2 1.41-.59l7.78-7.78 2.81-2.81c.8-.78.8-2.07 0-2.86zM5.41 20L4 18.59l7.72-7.72 1.47 1.35L5.41 20z\"/>\n",
              "  </svg>\n",
              "      </button>\n",
              "      \n",
              "  <style>\n",
              "    .colab-df-container {\n",
              "      display:flex;\n",
              "      flex-wrap:wrap;\n",
              "      gap: 12px;\n",
              "    }\n",
              "\n",
              "    .colab-df-convert {\n",
              "      background-color: #E8F0FE;\n",
              "      border: none;\n",
              "      border-radius: 50%;\n",
              "      cursor: pointer;\n",
              "      display: none;\n",
              "      fill: #1967D2;\n",
              "      height: 32px;\n",
              "      padding: 0 0 0 0;\n",
              "      width: 32px;\n",
              "    }\n",
              "\n",
              "    .colab-df-convert:hover {\n",
              "      background-color: #E2EBFA;\n",
              "      box-shadow: 0px 1px 2px rgba(60, 64, 67, 0.3), 0px 1px 3px 1px rgba(60, 64, 67, 0.15);\n",
              "      fill: #174EA6;\n",
              "    }\n",
              "\n",
              "    [theme=dark] .colab-df-convert {\n",
              "      background-color: #3B4455;\n",
              "      fill: #D2E3FC;\n",
              "    }\n",
              "\n",
              "    [theme=dark] .colab-df-convert:hover {\n",
              "      background-color: #434B5C;\n",
              "      box-shadow: 0px 1px 3px 1px rgba(0, 0, 0, 0.15);\n",
              "      filter: drop-shadow(0px 1px 2px rgba(0, 0, 0, 0.3));\n",
              "      fill: #FFFFFF;\n",
              "    }\n",
              "  </style>\n",
              "\n",
              "      <script>\n",
              "        const buttonEl =\n",
              "          document.querySelector('#df-d5e28965-d4b8-4f9a-a63e-a23c0ae06890 button.colab-df-convert');\n",
              "        buttonEl.style.display =\n",
              "          google.colab.kernel.accessAllowed ? 'block' : 'none';\n",
              "\n",
              "        async function convertToInteractive(key) {\n",
              "          const element = document.querySelector('#df-d5e28965-d4b8-4f9a-a63e-a23c0ae06890');\n",
              "          const dataTable =\n",
              "            await google.colab.kernel.invokeFunction('convertToInteractive',\n",
              "                                                     [key], {});\n",
              "          if (!dataTable) return;\n",
              "\n",
              "          const docLinkHtml = 'Like what you see? Visit the ' +\n",
              "            '<a target=\"_blank\" href=https://colab.research.google.com/notebooks/data_table.ipynb>data table notebook</a>'\n",
              "            + ' to learn more about interactive tables.';\n",
              "          element.innerHTML = '';\n",
              "          dataTable['output_type'] = 'display_data';\n",
              "          await google.colab.output.renderOutput(dataTable, element);\n",
              "          const docLink = document.createElement('div');\n",
              "          docLink.innerHTML = docLinkHtml;\n",
              "          element.appendChild(docLink);\n",
              "        }\n",
              "      </script>\n",
              "    </div>\n",
              "  </div>\n",
              "  "
            ]
          },
          "metadata": {},
          "execution_count": 259
        }
      ]
    },
    {
      "cell_type": "code",
      "source": [
        "#records in requirement with missings values\n",
        "data_req_na = data_analyst_df[data_analyst_df.requirement.isna()]\n",
        "data_req_na"
      ],
      "metadata": {
        "colab": {
          "base_uri": "https://localhost:8080/",
          "height": 250
        },
        "id": "RgofpECX3Uz1",
        "outputId": "a49bc3aa-d04c-4d31-8822-46e270226297"
      },
      "execution_count": 262,
      "outputs": [
        {
          "output_type": "execute_result",
          "data": {
            "text/plain": [
              "           date job_location  \\\n",
              "62   2022-05-20       Berlin   \n",
              "106  2022-05-07       Berlin   \n",
              "141  2022-05-17       Berlin   \n",
              "154  2022-05-04       Berlin   \n",
              "158  2022-05-18       Berlin   \n",
              "\n",
              "                                             job_title  \\\n",
              "62   Pricing Analyst / Pricing Analyst Manager (m/w/d)   \n",
              "106                               Senior Data Engineer   \n",
              "141                              UI Developer - Berlin   \n",
              "154                          ERP Functional Consultant   \n",
              "158                             Senior Scala Developer   \n",
              "\n",
              "                        company requirement add_req  \\\n",
              "62                          Oda         NaN     NaN   \n",
              "106  Oxygen Digital Recruitment         NaN     NaN   \n",
              "141                         ION         NaN     NaN   \n",
              "154     Arrow Electronics, Inc.         NaN     NaN   \n",
              "158                      Luxoft         NaN     NaN   \n",
              "\n",
              "                                       job_description  \n",
              "62   Oda is a company on the move. We built Norway’...  \n",
              "106  \\n\\nWe're working with a great Green-Energy co...  \n",
              "141  \\n\\n\\nThe Role:\\n\\n\\n\\n Do you want to join th...  \n",
              "154  Position:\\nERP Functional Consultant\\n\\nJob De...  \n",
              "158  \\n\\n\\n\\n\\n\\n\\nProject Description\\n\\nLooking f...  "
            ],
            "text/html": [
              "\n",
              "  <div id=\"df-15c82cb7-588f-4de9-9b35-58eb85a86061\">\n",
              "    <div class=\"colab-df-container\">\n",
              "      <div>\n",
              "<style scoped>\n",
              "    .dataframe tbody tr th:only-of-type {\n",
              "        vertical-align: middle;\n",
              "    }\n",
              "\n",
              "    .dataframe tbody tr th {\n",
              "        vertical-align: top;\n",
              "    }\n",
              "\n",
              "    .dataframe thead th {\n",
              "        text-align: right;\n",
              "    }\n",
              "</style>\n",
              "<table border=\"1\" class=\"dataframe\">\n",
              "  <thead>\n",
              "    <tr style=\"text-align: right;\">\n",
              "      <th></th>\n",
              "      <th>date</th>\n",
              "      <th>job_location</th>\n",
              "      <th>job_title</th>\n",
              "      <th>company</th>\n",
              "      <th>requirement</th>\n",
              "      <th>add_req</th>\n",
              "      <th>job_description</th>\n",
              "    </tr>\n",
              "  </thead>\n",
              "  <tbody>\n",
              "    <tr>\n",
              "      <th>62</th>\n",
              "      <td>2022-05-20</td>\n",
              "      <td>Berlin</td>\n",
              "      <td>Pricing Analyst / Pricing Analyst Manager (m/w/d)</td>\n",
              "      <td>Oda</td>\n",
              "      <td>NaN</td>\n",
              "      <td>NaN</td>\n",
              "      <td>Oda is a company on the move. We built Norway’...</td>\n",
              "    </tr>\n",
              "    <tr>\n",
              "      <th>106</th>\n",
              "      <td>2022-05-07</td>\n",
              "      <td>Berlin</td>\n",
              "      <td>Senior Data Engineer</td>\n",
              "      <td>Oxygen Digital Recruitment</td>\n",
              "      <td>NaN</td>\n",
              "      <td>NaN</td>\n",
              "      <td>\\n\\nWe're working with a great Green-Energy co...</td>\n",
              "    </tr>\n",
              "    <tr>\n",
              "      <th>141</th>\n",
              "      <td>2022-05-17</td>\n",
              "      <td>Berlin</td>\n",
              "      <td>UI Developer - Berlin</td>\n",
              "      <td>ION</td>\n",
              "      <td>NaN</td>\n",
              "      <td>NaN</td>\n",
              "      <td>\\n\\n\\nThe Role:\\n\\n\\n\\n Do you want to join th...</td>\n",
              "    </tr>\n",
              "    <tr>\n",
              "      <th>154</th>\n",
              "      <td>2022-05-04</td>\n",
              "      <td>Berlin</td>\n",
              "      <td>ERP Functional Consultant</td>\n",
              "      <td>Arrow Electronics, Inc.</td>\n",
              "      <td>NaN</td>\n",
              "      <td>NaN</td>\n",
              "      <td>Position:\\nERP Functional Consultant\\n\\nJob De...</td>\n",
              "    </tr>\n",
              "    <tr>\n",
              "      <th>158</th>\n",
              "      <td>2022-05-18</td>\n",
              "      <td>Berlin</td>\n",
              "      <td>Senior Scala Developer</td>\n",
              "      <td>Luxoft</td>\n",
              "      <td>NaN</td>\n",
              "      <td>NaN</td>\n",
              "      <td>\\n\\n\\n\\n\\n\\n\\nProject Description\\n\\nLooking f...</td>\n",
              "    </tr>\n",
              "  </tbody>\n",
              "</table>\n",
              "</div>\n",
              "      <button class=\"colab-df-convert\" onclick=\"convertToInteractive('df-15c82cb7-588f-4de9-9b35-58eb85a86061')\"\n",
              "              title=\"Convert this dataframe to an interactive table.\"\n",
              "              style=\"display:none;\">\n",
              "        \n",
              "  <svg xmlns=\"http://www.w3.org/2000/svg\" height=\"24px\"viewBox=\"0 0 24 24\"\n",
              "       width=\"24px\">\n",
              "    <path d=\"M0 0h24v24H0V0z\" fill=\"none\"/>\n",
              "    <path d=\"M18.56 5.44l.94 2.06.94-2.06 2.06-.94-2.06-.94-.94-2.06-.94 2.06-2.06.94zm-11 1L8.5 8.5l.94-2.06 2.06-.94-2.06-.94L8.5 2.5l-.94 2.06-2.06.94zm10 10l.94 2.06.94-2.06 2.06-.94-2.06-.94-.94-2.06-.94 2.06-2.06.94z\"/><path d=\"M17.41 7.96l-1.37-1.37c-.4-.4-.92-.59-1.43-.59-.52 0-1.04.2-1.43.59L10.3 9.45l-7.72 7.72c-.78.78-.78 2.05 0 2.83L4 21.41c.39.39.9.59 1.41.59.51 0 1.02-.2 1.41-.59l7.78-7.78 2.81-2.81c.8-.78.8-2.07 0-2.86zM5.41 20L4 18.59l7.72-7.72 1.47 1.35L5.41 20z\"/>\n",
              "  </svg>\n",
              "      </button>\n",
              "      \n",
              "  <style>\n",
              "    .colab-df-container {\n",
              "      display:flex;\n",
              "      flex-wrap:wrap;\n",
              "      gap: 12px;\n",
              "    }\n",
              "\n",
              "    .colab-df-convert {\n",
              "      background-color: #E8F0FE;\n",
              "      border: none;\n",
              "      border-radius: 50%;\n",
              "      cursor: pointer;\n",
              "      display: none;\n",
              "      fill: #1967D2;\n",
              "      height: 32px;\n",
              "      padding: 0 0 0 0;\n",
              "      width: 32px;\n",
              "    }\n",
              "\n",
              "    .colab-df-convert:hover {\n",
              "      background-color: #E2EBFA;\n",
              "      box-shadow: 0px 1px 2px rgba(60, 64, 67, 0.3), 0px 1px 3px 1px rgba(60, 64, 67, 0.15);\n",
              "      fill: #174EA6;\n",
              "    }\n",
              "\n",
              "    [theme=dark] .colab-df-convert {\n",
              "      background-color: #3B4455;\n",
              "      fill: #D2E3FC;\n",
              "    }\n",
              "\n",
              "    [theme=dark] .colab-df-convert:hover {\n",
              "      background-color: #434B5C;\n",
              "      box-shadow: 0px 1px 3px 1px rgba(0, 0, 0, 0.15);\n",
              "      filter: drop-shadow(0px 1px 2px rgba(0, 0, 0, 0.3));\n",
              "      fill: #FFFFFF;\n",
              "    }\n",
              "  </style>\n",
              "\n",
              "      <script>\n",
              "        const buttonEl =\n",
              "          document.querySelector('#df-15c82cb7-588f-4de9-9b35-58eb85a86061 button.colab-df-convert');\n",
              "        buttonEl.style.display =\n",
              "          google.colab.kernel.accessAllowed ? 'block' : 'none';\n",
              "\n",
              "        async function convertToInteractive(key) {\n",
              "          const element = document.querySelector('#df-15c82cb7-588f-4de9-9b35-58eb85a86061');\n",
              "          const dataTable =\n",
              "            await google.colab.kernel.invokeFunction('convertToInteractive',\n",
              "                                                     [key], {});\n",
              "          if (!dataTable) return;\n",
              "\n",
              "          const docLinkHtml = 'Like what you see? Visit the ' +\n",
              "            '<a target=\"_blank\" href=https://colab.research.google.com/notebooks/data_table.ipynb>data table notebook</a>'\n",
              "            + ' to learn more about interactive tables.';\n",
              "          element.innerHTML = '';\n",
              "          dataTable['output_type'] = 'display_data';\n",
              "          await google.colab.output.renderOutput(dataTable, element);\n",
              "          const docLink = document.createElement('div');\n",
              "          docLink.innerHTML = docLinkHtml;\n",
              "          element.appendChild(docLink);\n",
              "        }\n",
              "      </script>\n",
              "    </div>\n",
              "  </div>\n",
              "  "
            ]
          },
          "metadata": {},
          "execution_count": 262
        }
      ]
    },
    {
      "cell_type": "code",
      "source": [
        "#split the job description by blank lines and see where it leads from there\n",
        "#data_req_na.job_description.values[0].split('\\n\\n')"
      ],
      "metadata": {
        "id": "Zh51aA6A3dLo"
      },
      "execution_count": 261,
      "outputs": []
    },
    {
      "cell_type": "markdown",
      "source": [
        "Getting some css in the date field.\n",
        "Needs a fix! SOLVED ✔"
      ],
      "metadata": {
        "id": "IvQkJFw-lZS9"
      }
    },
    {
      "cell_type": "markdown",
      "source": [
        "Convert date from date posted to actual date SOLVED ✔"
      ],
      "metadata": {
        "id": "RS3WTqMNUlit"
      }
    },
    {
      "cell_type": "markdown",
      "source": [
        "Information extraction from job description\n",
        "\n",
        "NLP/ FEATURE EXTRACTION/ CLUSTERING???"
      ],
      "metadata": {
        "id": "eOkBEskY3y0D"
      }
    },
    {
      "cell_type": "markdown",
      "source": [
        "**Refactoring**\n",
        "\n",
        "*   Refactor get_job_df function. Move sections logic to get_requirement. Solved ✔\n",
        "\n",
        "*   Refactor company and date fixes by using functions\n",
        "\n"
      ],
      "metadata": {
        "id": "V7NqJvm8wlam"
      }
    },
    {
      "cell_type": "markdown",
      "source": [
        "Add feature, company rating from (glassdoor? indeed? kununu?)"
      ],
      "metadata": {
        "id": "5yuFw3hefGxj"
      }
    },
    {
      "cell_type": "markdown",
      "source": [
        "Add experience level feature?"
      ],
      "metadata": {
        "id": "559ZXXv2pmi6"
      }
    },
    {
      "cell_type": "markdown",
      "source": [
        "check which companies add years of experience that unmatch the experience level in the job post #HR accountability?"
      ],
      "metadata": {
        "id": "s9Gs7I3SpshM"
      }
    },
    {
      "cell_type": "code",
      "source": [
        ""
      ],
      "metadata": {
        "id": "bmfo7kaXrJEe"
      },
      "execution_count": 261,
      "outputs": []
    }
  ]
}