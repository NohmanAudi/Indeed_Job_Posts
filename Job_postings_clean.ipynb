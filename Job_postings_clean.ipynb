{
  "nbformat": 4,
  "nbformat_minor": 0,
  "metadata": {
    "colab": {
      "name": "Job_postings_clean.ipynb",
      "provenance": [],
      "collapsed_sections": [],
      "authorship_tag": "ABX9TyM7Tv1coSx9xQYLfii+dnWo",
      "include_colab_link": true
    },
    "kernelspec": {
      "name": "python3",
      "display_name": "Python 3"
    },
    "language_info": {
      "name": "python"
    }
  },
  "cells": [
    {
      "cell_type": "markdown",
      "metadata": {
        "id": "view-in-github",
        "colab_type": "text"
      },
      "source": [
        "<a href=\"https://colab.research.google.com/github/NohmanAudi/Indeed_Job_Posts/blob/main/Job_postings_clean.ipynb\" target=\"_parent\"><img src=\"https://colab.research.google.com/assets/colab-badge.svg\" alt=\"Open In Colab\"/></a>"
      ]
    },
    {
      "cell_type": "code",
      "source": [
        "#Scraping code source: https://medium.com/codex/web-scraping-with-beautifulsoup-66a3a2b3b60\n",
        "import requests\n",
        "import bs4\n",
        "from bs4 import BeautifulSoup\n",
        "import pandas as pd\n",
        "import numpy as np\n",
        "from datetime import timedelta, datetime"
      ],
      "metadata": {
        "id": "8gx5f-TinMWg"
      },
      "execution_count": 1,
      "outputs": []
    },
    {
      "cell_type": "code",
      "source": [
        "headers = {\"User-Agent\": \"Mozilla/5.0 (Windows NT 10.0; Win64; x64) AppleWebKit/537.36 (KHTML, like Gecko) Chrome/70.0.3538.77 Safari/537.36\"}\n",
        "link=\"https://de.indeed.com/jobs?q=Data+Analyst&l=Berlin&start=10\"\n",
        "\n",
        "\"\"\" Sending HTTP Request\"\"\"\n",
        "r=requests.get(link,headers=headers)\n",
        "\n",
        "\"\"\"Check response status Code\"\"\"\n",
        "r.status_code"
      ],
      "metadata": {
        "colab": {
          "base_uri": "https://localhost:8080/"
        },
        "id": "Uv2nSZrAqUaJ",
        "outputId": "e0b41354-000a-4506-a602-90661d9c2e62"
      },
      "execution_count": 2,
      "outputs": [
        {
          "output_type": "execute_result",
          "data": {
            "text/plain": [
              "200"
            ]
          },
          "metadata": {},
          "execution_count": 2
        }
      ]
    },
    {
      "cell_type": "code",
      "source": [
        "\"\"\"URL Template\"\"\"\n",
        "url_temp= \"https://de.indeed.com/jobs?q={}&l={}&fromage=30&start={}\" #### changing url_temp to specify the postend time to 30 days as indeed doesn't show specific date beyond\n",
        "base_link=\"https://de.indeed.com\"\n",
        "\n",
        "\"\"\"This function takes the URL template, designation and city as inputs.\n",
        "It navigates through the top 200 search results and scans all the <a> tags and returns a list of \n",
        "all the href attributes.\"\"\"\n",
        "\n",
        "def get_href(url_temp,position,city):\n",
        "    results_per_city=200\n",
        "    href_list=[]\n",
        "    for start in range(0,results_per_city+10,10):\n",
        "        url=url_temp.format(position,city,start)\n",
        "        r=requests.get(url,headers=headers)\n",
        "        soup=BeautifulSoup(r.text,\"html.parser\")    \n",
        "       \n",
        "        for i in soup.find_all('a'):\n",
        "            # if tag has attribute of class\n",
        "            if i.has_attr( \"href\" ):\n",
        "                k=i['href']\n",
        "                href_list.append(base_link+k)\n",
        "    \n",
        "    return href_list"
      ],
      "metadata": {
        "id": "_hSELZlXqba2"
      },
      "execution_count": 3,
      "outputs": []
    },
    {
      "cell_type": "code",
      "source": [
        "\"\"\"This function takes the list of all the href attributes as input, \n",
        "finds the URLs with the mentioned strings and returns a list of those URLs.\"\"\"\n",
        "\n",
        "def get_job_links(href_list):\n",
        "    job_links=[]\n",
        "    for a in href_list:\n",
        "        if a.find('/rc/clk')!=-1:\n",
        "            job_links.append(a)\n",
        "        elif a.find('/company/')!=-1:\n",
        "            job_links.append(a)\n",
        "    return job_links"
      ],
      "metadata": {
        "id": "cK7_vhoIqgCC"
      },
      "execution_count": 4,
      "outputs": []
    },
    {
      "cell_type": "code",
      "source": [
        "\"\"\" This function looks for all ul elements in the soup request corresponding to a list section,\n",
        "Extracts the section to a pandas series, check if a section contains the keywords,\n",
        "then sort them depending on how many keyowrds they contain,\n",
        "and returns the first one or two\n",
        "\"\"\"\n",
        "\n",
        "re_reqmnt = ['experience', 'knowledge', 'skills', 'strong', 'ability', 'years', 'good']\n",
        "\n",
        "def get_requirement(soup_req):\n",
        "  description = soup_req.find(\"div\", {'class':'jobsearch-jobDescriptionText'}).find_all('ul')\n",
        "  sections = pd.Series([x.text.strip() for x in description])\n",
        "  see = sections.str.lower().str.split()\n",
        "  see = see.apply(lambda words: [\" \".join(word for word in words if word in re_reqmnt)])\n",
        "  see_idx = see.apply(lambda x: x[0]).replace(\"\", np.nan).dropna().index\n",
        "  qualifications = sections[see_idx].reset_index(drop=True).sort_values(ascending=False)\n",
        "\n",
        "  if len(qualifications) > 1:\n",
        "    qual = qualifications[0]\n",
        "    add_qual = qualifications[1]\n",
        "  elif len(qualifications) == 1:\n",
        "    qual = qualifications[0]\n",
        "    add_qual = np.nan\n",
        "  else:\n",
        "    qual = np.nan\n",
        "    add_qual = np.nan\n",
        "  \n",
        "  return(qual, add_qual)\n"
      ],
      "metadata": {
        "id": "l0HE3q-J6phR"
      },
      "execution_count": 5,
      "outputs": []
    },
    {
      "cell_type": "code",
      "source": [
        "\"\"\"This function takes the list of the URLs of the job postings and the city and does the following:\n",
        "1. Send HTTP request to each of the URL.\n",
        "2. Creates a soup object with html parsing.\n",
        "3. Extracts title, company name, location and job description from each of the webpage and returns a dataframe.\"\"\"\n",
        "\n",
        "\n",
        "def get_job_df(job_links,city):\n",
        "    df=pd.DataFrame(columns=[\"date\", \"job_location\", \"job_title\", \"company\", \"Company_rating\", \"company_alt\",\"requirement\", \"add_req\", \"job_description\"])\n",
        "    \n",
        "    for i in job_links:\n",
        "        req=requests.get(i,headers=headers)\n",
        "        soup_req=BeautifulSoup(req.text,\"html.parser\")\n",
        "        try:\n",
        "            title=soup_req.find('h1',{'class': 'icl-u-xs-mb--xs icl-u-xs-mt--none jobsearch-JobInfoHeader-title'}).text\n",
        "        except:\n",
        "            continue\n",
        "        try:\n",
        "            company=soup_req.find('div',{'class':'icl-u-lg-mr--sm icl-u-xs-mr--xs'}).find_next().text #this worked for one company, trying for all\n",
        "        except:\n",
        "            continue\n",
        "        \n",
        "        company_alt=soup_req.find('div',{'class':'jobsearch-JobMetadataFooter'}).find_next().text #grabbing comapny name from footer\n",
        "\n",
        "        try:\n",
        "          Company_rating=soup_req.find(itemprop=\"ratingValue\").get(\"content\")\n",
        "        except:\n",
        "          continue\n",
        "\n",
        "        try:\n",
        "            location=soup_req.find('div',{'class':'jobsearch-InlineCompanyRating icl-u-xs-mt--xs jobsearch-DesktopStickyContainer-companyrating'}).text\n",
        "        except:\n",
        "            location=city\n",
        "        \n",
        "        try:\n",
        "            requirement, add_req = get_requirement(soup_req)\n",
        "        except:\n",
        "          continue\n",
        "\n",
        "        try:\n",
        "            desc=soup_req.find('div',{'class':'jobsearch-jobDescriptionText'}).text\n",
        "        except:\n",
        "            continue\n",
        "        date=soup_req.find('div',{'class':'jobsearch-JobMetadataFooter'}).find_next().find_next().text #this works\n",
        "\n",
        "        df = df.append({\"job_location\":city, \"job_title\":title, \"company\":company, \"Company_rating\":Company_rating,\n",
        "                        \"job_description\":desc, \"company_alt\": company_alt, \"date\": date,\n",
        "                \"requirement\": requirement, \"add_req\": add_req}, ignore_index=True)\n",
        "\n",
        "\n",
        "    \n",
        "    return df"
      ],
      "metadata": {
        "id": "grrxtQ1VqjZ0"
      },
      "execution_count": 6,
      "outputs": []
    },
    {
      "cell_type": "code",
      "source": [
        "\"\"\"Calling all the above functions inside this function which takes the URL template, designation and city as inputs.\"\"\"\n",
        "\n",
        "def get_job_postings(url_temp,position,city):\n",
        "    \n",
        "    href_list= get_href(url_temp,position,city)\n",
        "    \n",
        "    job_links= get_job_links(href_list)\n",
        "    \n",
        "    job_df= get_job_df(job_links,city)\n",
        "    \n",
        "    return job_df"
      ],
      "metadata": {
        "id": "kb2vuGDmqwy9"
      },
      "execution_count": 7,
      "outputs": []
    },
    {
      "cell_type": "code",
      "source": [
        "data = get_job_postings(url_temp,position='Data+Analyst',city='Berlin')"
      ],
      "metadata": {
        "id": "I65UqHkJq3LL",
        "colab": {
          "base_uri": "https://localhost:8080/"
        },
        "outputId": "36f27214-ab02-4c97-a0b1-557a8ca61b39"
      },
      "execution_count": 8,
      "outputs": [
        {
          "output_type": "stream",
          "name": "stderr",
          "text": [
            "/usr/local/lib/python3.7/dist-packages/ipykernel_launcher.py:11: DeprecationWarning: The default dtype for empty Series will be 'object' instead of 'float64' in a future version. Specify a dtype explicitly to silence this warning.\n",
            "  # This is added back by InteractiveShellApp.init_path()\n"
          ]
        }
      ]
    },
    {
      "cell_type": "code",
      "source": [
        "data.to_csv('job_data.csv')"
      ],
      "metadata": {
        "id": "vhz9V9c0rEC-"
      },
      "execution_count": 9,
      "outputs": []
    },
    {
      "cell_type": "code",
      "source": [
        "data_analyst_df = pd.read_csv('/content/job_data.csv', index_col=0)\n",
        "data_analyst_df.head()"
      ],
      "metadata": {
        "colab": {
          "base_uri": "https://localhost:8080/",
          "height": 424
        },
        "id": "mAOClyGuKda-",
        "outputId": "bd6eb16d-1e3b-44f7-e660-828848a5eb27"
      },
      "execution_count": 10,
      "outputs": [
        {
          "output_type": "execute_result",
          "data": {
            "text/plain": [
              "           date job_location                                  job_title  \\\n",
              "0  vor 21 Tagen       Berlin           IT Business Analyst – ServiceMax   \n",
              "1  vor 15 Tagen       Berlin                       Data Analyst (m/f/d)   \n",
              "2  vor 19 Tagen       Berlin           Data Analyst - Marketing (m/f/x)   \n",
              "3   vor 5 Tagen       Berlin              EMEA Sales Operations Analyst   \n",
              "4   vor 7 Tagen       Berlin  Senior Data Analyst - Global Data (f/m/d)   \n",
              "\n",
              "                          company  Company_rating            company_alt  \\\n",
              "0                Johnson Controls             3.7       Johnson Controls   \n",
              "1                         Zalando             3.1                Zalando   \n",
              "2           reBuy reCommerce GmbH             3.0  reBuy reCommerce GmbH   \n",
              "3  AWS EMEA SARL (Germany Branch)             3.5             Amazon.com   \n",
              "4                   Delivery Hero             3.7          Delivery Hero   \n",
              "\n",
              "                                         requirement  \\\n",
              "0  Min. 3 years working experience with Salesforc...   \n",
              "1  An analytical & entrepreneurial mindset with p...   \n",
              "2  More than 2 years of experience in analytics, ...   \n",
              "3                                                NaN   \n",
              "4  Want to be a Hero? Join the #1 GLOBAL LEADER i...   \n",
              "\n",
              "                                             add_req  \\\n",
              "0  Involvement in full cycle project implementati...   \n",
              "1                                                NaN   \n",
              "2                                                NaN   \n",
              "3                                                NaN   \n",
              "4  More than 4 years experience as a BI/Data Anal...   \n",
              "\n",
              "                                     job_description  \n",
              "0  \\n\\nJob Details \\nWhat you will do \\n\\nDo you ...  \n",
              "1  \\nAs a Data Analyst (m/f/d) for our Convenienc...  \n",
              "2  \\n\\n  Company Description:\\n \\n\\n\\n\\n   We are...  \n",
              "3  Bachelor’s degree in finance, business, econom...  \n",
              "4  \\n\\n\\n\\n\\n     Want to be a Hero? Join the #1 ...  "
            ],
            "text/html": [
              "\n",
              "  <div id=\"df-c0133bb1-141e-4fde-8412-bac59740172b\">\n",
              "    <div class=\"colab-df-container\">\n",
              "      <div>\n",
              "<style scoped>\n",
              "    .dataframe tbody tr th:only-of-type {\n",
              "        vertical-align: middle;\n",
              "    }\n",
              "\n",
              "    .dataframe tbody tr th {\n",
              "        vertical-align: top;\n",
              "    }\n",
              "\n",
              "    .dataframe thead th {\n",
              "        text-align: right;\n",
              "    }\n",
              "</style>\n",
              "<table border=\"1\" class=\"dataframe\">\n",
              "  <thead>\n",
              "    <tr style=\"text-align: right;\">\n",
              "      <th></th>\n",
              "      <th>date</th>\n",
              "      <th>job_location</th>\n",
              "      <th>job_title</th>\n",
              "      <th>company</th>\n",
              "      <th>Company_rating</th>\n",
              "      <th>company_alt</th>\n",
              "      <th>requirement</th>\n",
              "      <th>add_req</th>\n",
              "      <th>job_description</th>\n",
              "    </tr>\n",
              "  </thead>\n",
              "  <tbody>\n",
              "    <tr>\n",
              "      <th>0</th>\n",
              "      <td>vor 21 Tagen</td>\n",
              "      <td>Berlin</td>\n",
              "      <td>IT Business Analyst – ServiceMax</td>\n",
              "      <td>Johnson Controls</td>\n",
              "      <td>3.7</td>\n",
              "      <td>Johnson Controls</td>\n",
              "      <td>Min. 3 years working experience with Salesforc...</td>\n",
              "      <td>Involvement in full cycle project implementati...</td>\n",
              "      <td>\\n\\nJob Details \\nWhat you will do \\n\\nDo you ...</td>\n",
              "    </tr>\n",
              "    <tr>\n",
              "      <th>1</th>\n",
              "      <td>vor 15 Tagen</td>\n",
              "      <td>Berlin</td>\n",
              "      <td>Data Analyst (m/f/d)</td>\n",
              "      <td>Zalando</td>\n",
              "      <td>3.1</td>\n",
              "      <td>Zalando</td>\n",
              "      <td>An analytical &amp; entrepreneurial mindset with p...</td>\n",
              "      <td>NaN</td>\n",
              "      <td>\\nAs a Data Analyst (m/f/d) for our Convenienc...</td>\n",
              "    </tr>\n",
              "    <tr>\n",
              "      <th>2</th>\n",
              "      <td>vor 19 Tagen</td>\n",
              "      <td>Berlin</td>\n",
              "      <td>Data Analyst - Marketing (m/f/x)</td>\n",
              "      <td>reBuy reCommerce GmbH</td>\n",
              "      <td>3.0</td>\n",
              "      <td>reBuy reCommerce GmbH</td>\n",
              "      <td>More than 2 years of experience in analytics, ...</td>\n",
              "      <td>NaN</td>\n",
              "      <td>\\n\\n  Company Description:\\n \\n\\n\\n\\n   We are...</td>\n",
              "    </tr>\n",
              "    <tr>\n",
              "      <th>3</th>\n",
              "      <td>vor 5 Tagen</td>\n",
              "      <td>Berlin</td>\n",
              "      <td>EMEA Sales Operations Analyst</td>\n",
              "      <td>AWS EMEA SARL (Germany Branch)</td>\n",
              "      <td>3.5</td>\n",
              "      <td>Amazon.com</td>\n",
              "      <td>NaN</td>\n",
              "      <td>NaN</td>\n",
              "      <td>Bachelor’s degree in finance, business, econom...</td>\n",
              "    </tr>\n",
              "    <tr>\n",
              "      <th>4</th>\n",
              "      <td>vor 7 Tagen</td>\n",
              "      <td>Berlin</td>\n",
              "      <td>Senior Data Analyst - Global Data (f/m/d)</td>\n",
              "      <td>Delivery Hero</td>\n",
              "      <td>3.7</td>\n",
              "      <td>Delivery Hero</td>\n",
              "      <td>Want to be a Hero? Join the #1 GLOBAL LEADER i...</td>\n",
              "      <td>More than 4 years experience as a BI/Data Anal...</td>\n",
              "      <td>\\n\\n\\n\\n\\n     Want to be a Hero? Join the #1 ...</td>\n",
              "    </tr>\n",
              "  </tbody>\n",
              "</table>\n",
              "</div>\n",
              "      <button class=\"colab-df-convert\" onclick=\"convertToInteractive('df-c0133bb1-141e-4fde-8412-bac59740172b')\"\n",
              "              title=\"Convert this dataframe to an interactive table.\"\n",
              "              style=\"display:none;\">\n",
              "        \n",
              "  <svg xmlns=\"http://www.w3.org/2000/svg\" height=\"24px\"viewBox=\"0 0 24 24\"\n",
              "       width=\"24px\">\n",
              "    <path d=\"M0 0h24v24H0V0z\" fill=\"none\"/>\n",
              "    <path d=\"M18.56 5.44l.94 2.06.94-2.06 2.06-.94-2.06-.94-.94-2.06-.94 2.06-2.06.94zm-11 1L8.5 8.5l.94-2.06 2.06-.94-2.06-.94L8.5 2.5l-.94 2.06-2.06.94zm10 10l.94 2.06.94-2.06 2.06-.94-2.06-.94-.94-2.06-.94 2.06-2.06.94z\"/><path d=\"M17.41 7.96l-1.37-1.37c-.4-.4-.92-.59-1.43-.59-.52 0-1.04.2-1.43.59L10.3 9.45l-7.72 7.72c-.78.78-.78 2.05 0 2.83L4 21.41c.39.39.9.59 1.41.59.51 0 1.02-.2 1.41-.59l7.78-7.78 2.81-2.81c.8-.78.8-2.07 0-2.86zM5.41 20L4 18.59l7.72-7.72 1.47 1.35L5.41 20z\"/>\n",
              "  </svg>\n",
              "      </button>\n",
              "      \n",
              "  <style>\n",
              "    .colab-df-container {\n",
              "      display:flex;\n",
              "      flex-wrap:wrap;\n",
              "      gap: 12px;\n",
              "    }\n",
              "\n",
              "    .colab-df-convert {\n",
              "      background-color: #E8F0FE;\n",
              "      border: none;\n",
              "      border-radius: 50%;\n",
              "      cursor: pointer;\n",
              "      display: none;\n",
              "      fill: #1967D2;\n",
              "      height: 32px;\n",
              "      padding: 0 0 0 0;\n",
              "      width: 32px;\n",
              "    }\n",
              "\n",
              "    .colab-df-convert:hover {\n",
              "      background-color: #E2EBFA;\n",
              "      box-shadow: 0px 1px 2px rgba(60, 64, 67, 0.3), 0px 1px 3px 1px rgba(60, 64, 67, 0.15);\n",
              "      fill: #174EA6;\n",
              "    }\n",
              "\n",
              "    [theme=dark] .colab-df-convert {\n",
              "      background-color: #3B4455;\n",
              "      fill: #D2E3FC;\n",
              "    }\n",
              "\n",
              "    [theme=dark] .colab-df-convert:hover {\n",
              "      background-color: #434B5C;\n",
              "      box-shadow: 0px 1px 3px 1px rgba(0, 0, 0, 0.15);\n",
              "      filter: drop-shadow(0px 1px 2px rgba(0, 0, 0, 0.3));\n",
              "      fill: #FFFFFF;\n",
              "    }\n",
              "  </style>\n",
              "\n",
              "      <script>\n",
              "        const buttonEl =\n",
              "          document.querySelector('#df-c0133bb1-141e-4fde-8412-bac59740172b button.colab-df-convert');\n",
              "        buttonEl.style.display =\n",
              "          google.colab.kernel.accessAllowed ? 'block' : 'none';\n",
              "\n",
              "        async function convertToInteractive(key) {\n",
              "          const element = document.querySelector('#df-c0133bb1-141e-4fde-8412-bac59740172b');\n",
              "          const dataTable =\n",
              "            await google.colab.kernel.invokeFunction('convertToInteractive',\n",
              "                                                     [key], {});\n",
              "          if (!dataTable) return;\n",
              "\n",
              "          const docLinkHtml = 'Like what you see? Visit the ' +\n",
              "            '<a target=\"_blank\" href=https://colab.research.google.com/notebooks/data_table.ipynb>data table notebook</a>'\n",
              "            + ' to learn more about interactive tables.';\n",
              "          element.innerHTML = '';\n",
              "          dataTable['output_type'] = 'display_data';\n",
              "          await google.colab.output.renderOutput(dataTable, element);\n",
              "          const docLink = document.createElement('div');\n",
              "          docLink.innerHTML = docLinkHtml;\n",
              "          element.appendChild(docLink);\n",
              "        }\n",
              "      </script>\n",
              "    </div>\n",
              "  </div>\n",
              "  "
            ]
          },
          "metadata": {},
          "execution_count": 10
        }
      ]
    },
    {
      "cell_type": "code",
      "source": [
        "data_analyst_df.shape"
      ],
      "metadata": {
        "colab": {
          "base_uri": "https://localhost:8080/"
        },
        "id": "p93RiST-TFKN",
        "outputId": "2b380e80-3464-4707-aaf3-eb189a6f250b"
      },
      "execution_count": 11,
      "outputs": [
        {
          "output_type": "execute_result",
          "data": {
            "text/plain": [
              "(137, 9)"
            ]
          },
          "metadata": {},
          "execution_count": 11
        }
      ]
    },
    {
      "cell_type": "code",
      "source": [
        "!pip install langdetect #Language detection library ported from Google's language-detection.\n",
        "from langdetect import detect"
      ],
      "metadata": {
        "colab": {
          "base_uri": "https://localhost:8080/"
        },
        "id": "TZLXBcsu8J8x",
        "outputId": "a125aaa2-eef7-4857-decd-609b0ea2e4ac"
      },
      "execution_count": 12,
      "outputs": [
        {
          "output_type": "stream",
          "name": "stdout",
          "text": [
            "Looking in indexes: https://pypi.org/simple, https://us-python.pkg.dev/colab-wheels/public/simple/\n",
            "Collecting langdetect\n",
            "  Downloading langdetect-1.0.9.tar.gz (981 kB)\n",
            "\u001b[K     |████████████████████████████████| 981 kB 17.3 MB/s \n",
            "\u001b[?25hRequirement already satisfied: six in /usr/local/lib/python3.7/dist-packages (from langdetect) (1.15.0)\n",
            "Building wheels for collected packages: langdetect\n",
            "  Building wheel for langdetect (setup.py) ... \u001b[?25l\u001b[?25hdone\n",
            "  Created wheel for langdetect: filename=langdetect-1.0.9-py3-none-any.whl size=993242 sha256=1f11d75f66501a08ec14da39e3823b22d5a0623a6ff01bb23158ec6297eb4a8c\n",
            "  Stored in directory: /root/.cache/pip/wheels/c5/96/8a/f90c59ed25d75e50a8c10a1b1c2d4c402e4dacfa87f3aff36a\n",
            "Successfully built langdetect\n",
            "Installing collected packages: langdetect\n",
            "Successfully installed langdetect-1.0.9\n"
          ]
        }
      ]
    },
    {
      "cell_type": "code",
      "source": [
        "#detecting records with German language and dropping them\n",
        "idx_ger_records = data_analyst_df[data_analyst_df.job_description.apply(lambda x: detect(x)) == 'de'].index\n",
        "data_analyst_df.drop(index=idx_ger_records, inplace=True)"
      ],
      "metadata": {
        "id": "toAnkHIs8bc_"
      },
      "execution_count": 13,
      "outputs": []
    },
    {
      "cell_type": "code",
      "source": [
        "data_analyst_df.date.str.startswith('.css').value_counts()"
      ],
      "metadata": {
        "colab": {
          "base_uri": "https://localhost:8080/"
        },
        "id": "6zCKfbv8u8AE",
        "outputId": "0d9639ab-a4ec-4ac1-9095-ab29cfde6d2f"
      },
      "execution_count": 14,
      "outputs": [
        {
          "output_type": "execute_result",
          "data": {
            "text/plain": [
              "False    102\n",
              "True      10\n",
              "Name: date, dtype: int64"
            ]
          },
          "metadata": {},
          "execution_count": 14
        }
      ]
    },
    {
      "cell_type": "code",
      "source": [
        "data_analyst_df.date.isna().value_counts()"
      ],
      "metadata": {
        "colab": {
          "base_uri": "https://localhost:8080/"
        },
        "id": "bxk0B4WyP_x-",
        "outputId": "0d8c413d-221e-4297-ec5b-8c79cdca2075"
      },
      "execution_count": 15,
      "outputs": [
        {
          "output_type": "execute_result",
          "data": {
            "text/plain": [
              "False    112\n",
              "Name: date, dtype: int64"
            ]
          },
          "metadata": {},
          "execution_count": 15
        }
      ]
    },
    {
      "cell_type": "code",
      "source": [
        "#found one record at one attempt to have NaN.\n",
        "data_analyst_df.date.fillna(data_analyst_df.company_alt, inplace=True)"
      ],
      "metadata": {
        "id": "0hflOoWTQNZ7"
      },
      "execution_count": 16,
      "outputs": []
    },
    {
      "cell_type": "code",
      "source": [
        "#footers had it wrong sometimes, replaced with company_alt that had the right date which exist in the footer as well\n",
        "#data_analyst_df.loc[data_analyst_df.date == \"Diesen Job melden\", 'date] = data_analyst_df.company_alt #bad values for old de.indeed format\n",
        "data_analyst_df.loc[data_analyst_df.date.str.startswith('.c'), 'date'] = data_analyst_df.company_alt #bad values for new de.indeed format"
      ],
      "metadata": {
        "id": "57MpZIbRvNHx"
      },
      "execution_count": 17,
      "outputs": []
    },
    {
      "cell_type": "code",
      "source": [
        "data_analyst_df.date.value_counts()"
      ],
      "metadata": {
        "id": "OVLj4U4zwzKE",
        "colab": {
          "base_uri": "https://localhost:8080/"
        },
        "outputId": "ffee394b-1811-4194-f2af-6e9b9753188c"
      },
      "execution_count": 18,
      "outputs": [
        {
          "output_type": "execute_result",
          "data": {
            "text/plain": [
              "vor 13 Tagen    13\n",
              "vor 9 Tagen     12\n",
              "vor 1 Tag        9\n",
              "vor 26 Tagen     8\n",
              "vor 21 Tagen     6\n",
              "vor 29 Tagen     6\n",
              "Heute            5\n",
              "vor 12 Tagen     5\n",
              "vor 20 Tagen     4\n",
              "vor 2 Tagen      4\n",
              "vor 22 Tagen     4\n",
              "vor 27 Tagen     4\n",
              "vor 5 Tagen      4\n",
              "vor 19 Tagen     4\n",
              "vor 15 Tagen     3\n",
              "vor 28 Tagen     3\n",
              "vor 23 Tagen     3\n",
              "vor 14 Tagen     3\n",
              "vor 4 Tagen      2\n",
              "vor 16 Tagen     2\n",
              "vor 8 Tagen      2\n",
              "vor 24 Tagen     2\n",
              "vor 10 Tagen     2\n",
              "vor 7 Tagen      1\n",
              "vor 6 Tagen      1\n",
              "Name: date, dtype: int64"
            ]
          },
          "metadata": {},
          "execution_count": 18
        }
      ]
    },
    {
      "cell_type": "code",
      "source": [
        "data_analyst_df.company.value_counts()"
      ],
      "metadata": {
        "id": "rQ2tJxcqxYzv",
        "colab": {
          "base_uri": "https://localhost:8080/"
        },
        "outputId": "e6943874-5970-4f19-b008-5326b6fec9c4"
      },
      "execution_count": 19,
      "outputs": [
        {
          "output_type": "execute_result",
          "data": {
            "text/plain": [
              "Delivery Hero                     12\n",
              "Deutsche Bank                     12\n",
              "Zalando                           11\n",
              "wefox                              7\n",
              "Wayfair                            4\n",
              "Solarisbank                        3\n",
              "Arrow Electronics, Inc.            3\n",
              "Arvato infoscore GmbH              3\n",
              "Lieferando                         3\n",
              "Pepper Media Holding GmbH          3\n",
              "HelloFresh                         2\n",
              "Beets&Roots GmbH                   2\n",
              "Flaconi GmbH                       2\n",
              "ImmoScout24                        2\n",
              "Amazon Development Center DEU      2\n",
              "Deloitte Consulting GmbH           2\n",
              "Aroundhome                         2\n",
              "Google                             1\n",
              "Amazon Germany Holdco 2 GmbH       1\n",
              "Salesforce                         1\n",
              "HERE Technologies                  1\n",
              "Campusjäger by Workwise            1\n",
              "Johnson Controls                   1\n",
              "DemoUp Cliplister                  1\n",
              "sennder                            1\n",
              "Luxoft                             1\n",
              "MEININGER Hotels                   1\n",
              "Smava GmbH                         1\n",
              "zenloop                            1\n",
              "Global Savings Group               1\n",
              "Invincible Brands                  1\n",
              "Amazon EU SARL(Germany Branch)     1\n",
              "Vista                              1\n",
              "Publicis Sapient                   1\n",
              "Bayer                              1\n",
              "reBuy reCommerce GmbH              1\n",
              "AWS EMEA SARL (Germany Branch)     1\n",
              "AUTO1                              1\n",
              "Caseking                           1\n",
              "Adecco Group                       1\n",
              "SAP                                1\n",
              "Outfittery GmbH                    1\n",
              "Yelp                               1\n",
              "Moody's Investors Service          1\n",
              "Robert Half                        1\n",
              "BFS Finance Münster GmbH           1\n",
              "FlixMobility                       1\n",
              "Michael Page                       1\n",
              "AmazonSupport Services Germany     1\n",
              "Scout24 AG                         1\n",
              "Amazon Digital Germany GmbH        1\n",
              "JPMorgan Chase Bank, N.A.          1\n",
              "Ladenzeile                         1\n",
              "AUTODOC                            1\n",
              "Name: company, dtype: int64"
            ]
          },
          "metadata": {},
          "execution_count": 19
        }
      ]
    },
    {
      "cell_type": "code",
      "source": [
        "#This time getting the company from the footer if missing\n",
        "data_analyst_df.loc[data_analyst_df.company == '', 'company'] = data_analyst_df.company_alt"
      ],
      "metadata": {
        "id": "2wwL2rpC0rAF"
      },
      "execution_count": 20,
      "outputs": []
    },
    {
      "cell_type": "code",
      "source": [
        "data_analyst_df.drop(columns='company_alt', inplace=True) #dropping company_alt after extracting actual date and company values"
      ],
      "metadata": {
        "id": "IT3oZo8N0c8g"
      },
      "execution_count": 21,
      "outputs": []
    },
    {
      "cell_type": "code",
      "source": [
        "data_analyst_df.head()"
      ],
      "metadata": {
        "colab": {
          "base_uri": "https://localhost:8080/",
          "height": 354
        },
        "id": "f4bZCvgKgj8u",
        "outputId": "aecc795a-dcb1-4a98-86dd-9869ca33aed9"
      },
      "execution_count": 22,
      "outputs": [
        {
          "output_type": "execute_result",
          "data": {
            "text/plain": [
              "           date job_location                                  job_title  \\\n",
              "0  vor 21 Tagen       Berlin           IT Business Analyst – ServiceMax   \n",
              "1  vor 15 Tagen       Berlin                       Data Analyst (m/f/d)   \n",
              "2  vor 19 Tagen       Berlin           Data Analyst - Marketing (m/f/x)   \n",
              "3   vor 5 Tagen       Berlin              EMEA Sales Operations Analyst   \n",
              "4   vor 7 Tagen       Berlin  Senior Data Analyst - Global Data (f/m/d)   \n",
              "\n",
              "                          company  Company_rating  \\\n",
              "0                Johnson Controls             3.7   \n",
              "1                         Zalando             3.1   \n",
              "2           reBuy reCommerce GmbH             3.0   \n",
              "3  AWS EMEA SARL (Germany Branch)             3.5   \n",
              "4                   Delivery Hero             3.7   \n",
              "\n",
              "                                         requirement  \\\n",
              "0  Min. 3 years working experience with Salesforc...   \n",
              "1  An analytical & entrepreneurial mindset with p...   \n",
              "2  More than 2 years of experience in analytics, ...   \n",
              "3                                                NaN   \n",
              "4  Want to be a Hero? Join the #1 GLOBAL LEADER i...   \n",
              "\n",
              "                                             add_req  \\\n",
              "0  Involvement in full cycle project implementati...   \n",
              "1                                                NaN   \n",
              "2                                                NaN   \n",
              "3                                                NaN   \n",
              "4  More than 4 years experience as a BI/Data Anal...   \n",
              "\n",
              "                                     job_description  \n",
              "0  \\n\\nJob Details \\nWhat you will do \\n\\nDo you ...  \n",
              "1  \\nAs a Data Analyst (m/f/d) for our Convenienc...  \n",
              "2  \\n\\n  Company Description:\\n \\n\\n\\n\\n   We are...  \n",
              "3  Bachelor’s degree in finance, business, econom...  \n",
              "4  \\n\\n\\n\\n\\n     Want to be a Hero? Join the #1 ...  "
            ],
            "text/html": [
              "\n",
              "  <div id=\"df-05965428-13af-4e76-afef-352d98e9d876\">\n",
              "    <div class=\"colab-df-container\">\n",
              "      <div>\n",
              "<style scoped>\n",
              "    .dataframe tbody tr th:only-of-type {\n",
              "        vertical-align: middle;\n",
              "    }\n",
              "\n",
              "    .dataframe tbody tr th {\n",
              "        vertical-align: top;\n",
              "    }\n",
              "\n",
              "    .dataframe thead th {\n",
              "        text-align: right;\n",
              "    }\n",
              "</style>\n",
              "<table border=\"1\" class=\"dataframe\">\n",
              "  <thead>\n",
              "    <tr style=\"text-align: right;\">\n",
              "      <th></th>\n",
              "      <th>date</th>\n",
              "      <th>job_location</th>\n",
              "      <th>job_title</th>\n",
              "      <th>company</th>\n",
              "      <th>Company_rating</th>\n",
              "      <th>requirement</th>\n",
              "      <th>add_req</th>\n",
              "      <th>job_description</th>\n",
              "    </tr>\n",
              "  </thead>\n",
              "  <tbody>\n",
              "    <tr>\n",
              "      <th>0</th>\n",
              "      <td>vor 21 Tagen</td>\n",
              "      <td>Berlin</td>\n",
              "      <td>IT Business Analyst – ServiceMax</td>\n",
              "      <td>Johnson Controls</td>\n",
              "      <td>3.7</td>\n",
              "      <td>Min. 3 years working experience with Salesforc...</td>\n",
              "      <td>Involvement in full cycle project implementati...</td>\n",
              "      <td>\\n\\nJob Details \\nWhat you will do \\n\\nDo you ...</td>\n",
              "    </tr>\n",
              "    <tr>\n",
              "      <th>1</th>\n",
              "      <td>vor 15 Tagen</td>\n",
              "      <td>Berlin</td>\n",
              "      <td>Data Analyst (m/f/d)</td>\n",
              "      <td>Zalando</td>\n",
              "      <td>3.1</td>\n",
              "      <td>An analytical &amp; entrepreneurial mindset with p...</td>\n",
              "      <td>NaN</td>\n",
              "      <td>\\nAs a Data Analyst (m/f/d) for our Convenienc...</td>\n",
              "    </tr>\n",
              "    <tr>\n",
              "      <th>2</th>\n",
              "      <td>vor 19 Tagen</td>\n",
              "      <td>Berlin</td>\n",
              "      <td>Data Analyst - Marketing (m/f/x)</td>\n",
              "      <td>reBuy reCommerce GmbH</td>\n",
              "      <td>3.0</td>\n",
              "      <td>More than 2 years of experience in analytics, ...</td>\n",
              "      <td>NaN</td>\n",
              "      <td>\\n\\n  Company Description:\\n \\n\\n\\n\\n   We are...</td>\n",
              "    </tr>\n",
              "    <tr>\n",
              "      <th>3</th>\n",
              "      <td>vor 5 Tagen</td>\n",
              "      <td>Berlin</td>\n",
              "      <td>EMEA Sales Operations Analyst</td>\n",
              "      <td>AWS EMEA SARL (Germany Branch)</td>\n",
              "      <td>3.5</td>\n",
              "      <td>NaN</td>\n",
              "      <td>NaN</td>\n",
              "      <td>Bachelor’s degree in finance, business, econom...</td>\n",
              "    </tr>\n",
              "    <tr>\n",
              "      <th>4</th>\n",
              "      <td>vor 7 Tagen</td>\n",
              "      <td>Berlin</td>\n",
              "      <td>Senior Data Analyst - Global Data (f/m/d)</td>\n",
              "      <td>Delivery Hero</td>\n",
              "      <td>3.7</td>\n",
              "      <td>Want to be a Hero? Join the #1 GLOBAL LEADER i...</td>\n",
              "      <td>More than 4 years experience as a BI/Data Anal...</td>\n",
              "      <td>\\n\\n\\n\\n\\n     Want to be a Hero? Join the #1 ...</td>\n",
              "    </tr>\n",
              "  </tbody>\n",
              "</table>\n",
              "</div>\n",
              "      <button class=\"colab-df-convert\" onclick=\"convertToInteractive('df-05965428-13af-4e76-afef-352d98e9d876')\"\n",
              "              title=\"Convert this dataframe to an interactive table.\"\n",
              "              style=\"display:none;\">\n",
              "        \n",
              "  <svg xmlns=\"http://www.w3.org/2000/svg\" height=\"24px\"viewBox=\"0 0 24 24\"\n",
              "       width=\"24px\">\n",
              "    <path d=\"M0 0h24v24H0V0z\" fill=\"none\"/>\n",
              "    <path d=\"M18.56 5.44l.94 2.06.94-2.06 2.06-.94-2.06-.94-.94-2.06-.94 2.06-2.06.94zm-11 1L8.5 8.5l.94-2.06 2.06-.94-2.06-.94L8.5 2.5l-.94 2.06-2.06.94zm10 10l.94 2.06.94-2.06 2.06-.94-2.06-.94-.94-2.06-.94 2.06-2.06.94z\"/><path d=\"M17.41 7.96l-1.37-1.37c-.4-.4-.92-.59-1.43-.59-.52 0-1.04.2-1.43.59L10.3 9.45l-7.72 7.72c-.78.78-.78 2.05 0 2.83L4 21.41c.39.39.9.59 1.41.59.51 0 1.02-.2 1.41-.59l7.78-7.78 2.81-2.81c.8-.78.8-2.07 0-2.86zM5.41 20L4 18.59l7.72-7.72 1.47 1.35L5.41 20z\"/>\n",
              "  </svg>\n",
              "      </button>\n",
              "      \n",
              "  <style>\n",
              "    .colab-df-container {\n",
              "      display:flex;\n",
              "      flex-wrap:wrap;\n",
              "      gap: 12px;\n",
              "    }\n",
              "\n",
              "    .colab-df-convert {\n",
              "      background-color: #E8F0FE;\n",
              "      border: none;\n",
              "      border-radius: 50%;\n",
              "      cursor: pointer;\n",
              "      display: none;\n",
              "      fill: #1967D2;\n",
              "      height: 32px;\n",
              "      padding: 0 0 0 0;\n",
              "      width: 32px;\n",
              "    }\n",
              "\n",
              "    .colab-df-convert:hover {\n",
              "      background-color: #E2EBFA;\n",
              "      box-shadow: 0px 1px 2px rgba(60, 64, 67, 0.3), 0px 1px 3px 1px rgba(60, 64, 67, 0.15);\n",
              "      fill: #174EA6;\n",
              "    }\n",
              "\n",
              "    [theme=dark] .colab-df-convert {\n",
              "      background-color: #3B4455;\n",
              "      fill: #D2E3FC;\n",
              "    }\n",
              "\n",
              "    [theme=dark] .colab-df-convert:hover {\n",
              "      background-color: #434B5C;\n",
              "      box-shadow: 0px 1px 3px 1px rgba(0, 0, 0, 0.15);\n",
              "      filter: drop-shadow(0px 1px 2px rgba(0, 0, 0, 0.3));\n",
              "      fill: #FFFFFF;\n",
              "    }\n",
              "  </style>\n",
              "\n",
              "      <script>\n",
              "        const buttonEl =\n",
              "          document.querySelector('#df-05965428-13af-4e76-afef-352d98e9d876 button.colab-df-convert');\n",
              "        buttonEl.style.display =\n",
              "          google.colab.kernel.accessAllowed ? 'block' : 'none';\n",
              "\n",
              "        async function convertToInteractive(key) {\n",
              "          const element = document.querySelector('#df-05965428-13af-4e76-afef-352d98e9d876');\n",
              "          const dataTable =\n",
              "            await google.colab.kernel.invokeFunction('convertToInteractive',\n",
              "                                                     [key], {});\n",
              "          if (!dataTable) return;\n",
              "\n",
              "          const docLinkHtml = 'Like what you see? Visit the ' +\n",
              "            '<a target=\"_blank\" href=https://colab.research.google.com/notebooks/data_table.ipynb>data table notebook</a>'\n",
              "            + ' to learn more about interactive tables.';\n",
              "          element.innerHTML = '';\n",
              "          dataTable['output_type'] = 'display_data';\n",
              "          await google.colab.output.renderOutput(dataTable, element);\n",
              "          const docLink = document.createElement('div');\n",
              "          docLink.innerHTML = docLinkHtml;\n",
              "          element.appendChild(docLink);\n",
              "        }\n",
              "      </script>\n",
              "    </div>\n",
              "  </div>\n",
              "  "
            ]
          },
          "metadata": {},
          "execution_count": 22
        }
      ]
    },
    {
      "cell_type": "code",
      "source": [
        "#date posted to actual date\n",
        "data_analyst_df.date.replace(['Heute', 'Gerade geschaltet'], 0, inplace=True) #replacing date \"Heute\": today and \"Gerade geschaltet\":Just posted, with 0\n",
        "data_analyst_df.date.replace(regex=[r'\\D+'], value=\"\", inplace=True) #remove non digits\n",
        "data_analyst_df.date = data_analyst_df.date.astype(int).apply(lambda x: datetime.now().date()-timedelta(x)) #calculating the actual date"
      ],
      "metadata": {
        "id": "pvQ0XLV31280"
      },
      "execution_count": 23,
      "outputs": []
    },
    {
      "cell_type": "code",
      "source": [
        "data_analyst_df.head()"
      ],
      "metadata": {
        "colab": {
          "base_uri": "https://localhost:8080/",
          "height": 354
        },
        "id": "Gr5VT5ZiTuOO",
        "outputId": "f137d1dc-70fa-4291-e4be-6446b1cff811"
      },
      "execution_count": 24,
      "outputs": [
        {
          "output_type": "execute_result",
          "data": {
            "text/plain": [
              "         date job_location                                  job_title  \\\n",
              "0  2022-05-12       Berlin           IT Business Analyst – ServiceMax   \n",
              "1  2022-05-18       Berlin                       Data Analyst (m/f/d)   \n",
              "2  2022-05-14       Berlin           Data Analyst - Marketing (m/f/x)   \n",
              "3  2022-05-28       Berlin              EMEA Sales Operations Analyst   \n",
              "4  2022-05-26       Berlin  Senior Data Analyst - Global Data (f/m/d)   \n",
              "\n",
              "                          company  Company_rating  \\\n",
              "0                Johnson Controls             3.7   \n",
              "1                         Zalando             3.1   \n",
              "2           reBuy reCommerce GmbH             3.0   \n",
              "3  AWS EMEA SARL (Germany Branch)             3.5   \n",
              "4                   Delivery Hero             3.7   \n",
              "\n",
              "                                         requirement  \\\n",
              "0  Min. 3 years working experience with Salesforc...   \n",
              "1  An analytical & entrepreneurial mindset with p...   \n",
              "2  More than 2 years of experience in analytics, ...   \n",
              "3                                                NaN   \n",
              "4  Want to be a Hero? Join the #1 GLOBAL LEADER i...   \n",
              "\n",
              "                                             add_req  \\\n",
              "0  Involvement in full cycle project implementati...   \n",
              "1                                                NaN   \n",
              "2                                                NaN   \n",
              "3                                                NaN   \n",
              "4  More than 4 years experience as a BI/Data Anal...   \n",
              "\n",
              "                                     job_description  \n",
              "0  \\n\\nJob Details \\nWhat you will do \\n\\nDo you ...  \n",
              "1  \\nAs a Data Analyst (m/f/d) for our Convenienc...  \n",
              "2  \\n\\n  Company Description:\\n \\n\\n\\n\\n   We are...  \n",
              "3  Bachelor’s degree in finance, business, econom...  \n",
              "4  \\n\\n\\n\\n\\n     Want to be a Hero? Join the #1 ...  "
            ],
            "text/html": [
              "\n",
              "  <div id=\"df-54c97891-5869-49ba-8b1c-3e7451f4241e\">\n",
              "    <div class=\"colab-df-container\">\n",
              "      <div>\n",
              "<style scoped>\n",
              "    .dataframe tbody tr th:only-of-type {\n",
              "        vertical-align: middle;\n",
              "    }\n",
              "\n",
              "    .dataframe tbody tr th {\n",
              "        vertical-align: top;\n",
              "    }\n",
              "\n",
              "    .dataframe thead th {\n",
              "        text-align: right;\n",
              "    }\n",
              "</style>\n",
              "<table border=\"1\" class=\"dataframe\">\n",
              "  <thead>\n",
              "    <tr style=\"text-align: right;\">\n",
              "      <th></th>\n",
              "      <th>date</th>\n",
              "      <th>job_location</th>\n",
              "      <th>job_title</th>\n",
              "      <th>company</th>\n",
              "      <th>Company_rating</th>\n",
              "      <th>requirement</th>\n",
              "      <th>add_req</th>\n",
              "      <th>job_description</th>\n",
              "    </tr>\n",
              "  </thead>\n",
              "  <tbody>\n",
              "    <tr>\n",
              "      <th>0</th>\n",
              "      <td>2022-05-12</td>\n",
              "      <td>Berlin</td>\n",
              "      <td>IT Business Analyst – ServiceMax</td>\n",
              "      <td>Johnson Controls</td>\n",
              "      <td>3.7</td>\n",
              "      <td>Min. 3 years working experience with Salesforc...</td>\n",
              "      <td>Involvement in full cycle project implementati...</td>\n",
              "      <td>\\n\\nJob Details \\nWhat you will do \\n\\nDo you ...</td>\n",
              "    </tr>\n",
              "    <tr>\n",
              "      <th>1</th>\n",
              "      <td>2022-05-18</td>\n",
              "      <td>Berlin</td>\n",
              "      <td>Data Analyst (m/f/d)</td>\n",
              "      <td>Zalando</td>\n",
              "      <td>3.1</td>\n",
              "      <td>An analytical &amp; entrepreneurial mindset with p...</td>\n",
              "      <td>NaN</td>\n",
              "      <td>\\nAs a Data Analyst (m/f/d) for our Convenienc...</td>\n",
              "    </tr>\n",
              "    <tr>\n",
              "      <th>2</th>\n",
              "      <td>2022-05-14</td>\n",
              "      <td>Berlin</td>\n",
              "      <td>Data Analyst - Marketing (m/f/x)</td>\n",
              "      <td>reBuy reCommerce GmbH</td>\n",
              "      <td>3.0</td>\n",
              "      <td>More than 2 years of experience in analytics, ...</td>\n",
              "      <td>NaN</td>\n",
              "      <td>\\n\\n  Company Description:\\n \\n\\n\\n\\n   We are...</td>\n",
              "    </tr>\n",
              "    <tr>\n",
              "      <th>3</th>\n",
              "      <td>2022-05-28</td>\n",
              "      <td>Berlin</td>\n",
              "      <td>EMEA Sales Operations Analyst</td>\n",
              "      <td>AWS EMEA SARL (Germany Branch)</td>\n",
              "      <td>3.5</td>\n",
              "      <td>NaN</td>\n",
              "      <td>NaN</td>\n",
              "      <td>Bachelor’s degree in finance, business, econom...</td>\n",
              "    </tr>\n",
              "    <tr>\n",
              "      <th>4</th>\n",
              "      <td>2022-05-26</td>\n",
              "      <td>Berlin</td>\n",
              "      <td>Senior Data Analyst - Global Data (f/m/d)</td>\n",
              "      <td>Delivery Hero</td>\n",
              "      <td>3.7</td>\n",
              "      <td>Want to be a Hero? Join the #1 GLOBAL LEADER i...</td>\n",
              "      <td>More than 4 years experience as a BI/Data Anal...</td>\n",
              "      <td>\\n\\n\\n\\n\\n     Want to be a Hero? Join the #1 ...</td>\n",
              "    </tr>\n",
              "  </tbody>\n",
              "</table>\n",
              "</div>\n",
              "      <button class=\"colab-df-convert\" onclick=\"convertToInteractive('df-54c97891-5869-49ba-8b1c-3e7451f4241e')\"\n",
              "              title=\"Convert this dataframe to an interactive table.\"\n",
              "              style=\"display:none;\">\n",
              "        \n",
              "  <svg xmlns=\"http://www.w3.org/2000/svg\" height=\"24px\"viewBox=\"0 0 24 24\"\n",
              "       width=\"24px\">\n",
              "    <path d=\"M0 0h24v24H0V0z\" fill=\"none\"/>\n",
              "    <path d=\"M18.56 5.44l.94 2.06.94-2.06 2.06-.94-2.06-.94-.94-2.06-.94 2.06-2.06.94zm-11 1L8.5 8.5l.94-2.06 2.06-.94-2.06-.94L8.5 2.5l-.94 2.06-2.06.94zm10 10l.94 2.06.94-2.06 2.06-.94-2.06-.94-.94-2.06-.94 2.06-2.06.94z\"/><path d=\"M17.41 7.96l-1.37-1.37c-.4-.4-.92-.59-1.43-.59-.52 0-1.04.2-1.43.59L10.3 9.45l-7.72 7.72c-.78.78-.78 2.05 0 2.83L4 21.41c.39.39.9.59 1.41.59.51 0 1.02-.2 1.41-.59l7.78-7.78 2.81-2.81c.8-.78.8-2.07 0-2.86zM5.41 20L4 18.59l7.72-7.72 1.47 1.35L5.41 20z\"/>\n",
              "  </svg>\n",
              "      </button>\n",
              "      \n",
              "  <style>\n",
              "    .colab-df-container {\n",
              "      display:flex;\n",
              "      flex-wrap:wrap;\n",
              "      gap: 12px;\n",
              "    }\n",
              "\n",
              "    .colab-df-convert {\n",
              "      background-color: #E8F0FE;\n",
              "      border: none;\n",
              "      border-radius: 50%;\n",
              "      cursor: pointer;\n",
              "      display: none;\n",
              "      fill: #1967D2;\n",
              "      height: 32px;\n",
              "      padding: 0 0 0 0;\n",
              "      width: 32px;\n",
              "    }\n",
              "\n",
              "    .colab-df-convert:hover {\n",
              "      background-color: #E2EBFA;\n",
              "      box-shadow: 0px 1px 2px rgba(60, 64, 67, 0.3), 0px 1px 3px 1px rgba(60, 64, 67, 0.15);\n",
              "      fill: #174EA6;\n",
              "    }\n",
              "\n",
              "    [theme=dark] .colab-df-convert {\n",
              "      background-color: #3B4455;\n",
              "      fill: #D2E3FC;\n",
              "    }\n",
              "\n",
              "    [theme=dark] .colab-df-convert:hover {\n",
              "      background-color: #434B5C;\n",
              "      box-shadow: 0px 1px 3px 1px rgba(0, 0, 0, 0.15);\n",
              "      filter: drop-shadow(0px 1px 2px rgba(0, 0, 0, 0.3));\n",
              "      fill: #FFFFFF;\n",
              "    }\n",
              "  </style>\n",
              "\n",
              "      <script>\n",
              "        const buttonEl =\n",
              "          document.querySelector('#df-54c97891-5869-49ba-8b1c-3e7451f4241e button.colab-df-convert');\n",
              "        buttonEl.style.display =\n",
              "          google.colab.kernel.accessAllowed ? 'block' : 'none';\n",
              "\n",
              "        async function convertToInteractive(key) {\n",
              "          const element = document.querySelector('#df-54c97891-5869-49ba-8b1c-3e7451f4241e');\n",
              "          const dataTable =\n",
              "            await google.colab.kernel.invokeFunction('convertToInteractive',\n",
              "                                                     [key], {});\n",
              "          if (!dataTable) return;\n",
              "\n",
              "          const docLinkHtml = 'Like what you see? Visit the ' +\n",
              "            '<a target=\"_blank\" href=https://colab.research.google.com/notebooks/data_table.ipynb>data table notebook</a>'\n",
              "            + ' to learn more about interactive tables.';\n",
              "          element.innerHTML = '';\n",
              "          dataTable['output_type'] = 'display_data';\n",
              "          await google.colab.output.renderOutput(dataTable, element);\n",
              "          const docLink = document.createElement('div');\n",
              "          docLink.innerHTML = docLinkHtml;\n",
              "          element.appendChild(docLink);\n",
              "        }\n",
              "      </script>\n",
              "    </div>\n",
              "  </div>\n",
              "  "
            ]
          },
          "metadata": {},
          "execution_count": 24
        }
      ]
    },
    {
      "cell_type": "code",
      "source": [
        "#records in requirement with missings values\n",
        "data_req_na = data_analyst_df[data_analyst_df.requirement.isna()]\n",
        "data_req_na"
      ],
      "metadata": {
        "colab": {
          "base_uri": "https://localhost:8080/",
          "height": 191
        },
        "id": "RgofpECX3Uz1",
        "outputId": "1553353a-b372-4905-818a-04ae4dbb20ee"
      },
      "execution_count": 25,
      "outputs": [
        {
          "output_type": "execute_result",
          "data": {
            "text/plain": [
              "          date job_location                      job_title  \\\n",
              "3   2022-05-28       Berlin  EMEA Sales Operations Analyst   \n",
              "78  2022-05-04       Berlin      ERP Functional Consultant   \n",
              "\n",
              "                           company  Company_rating requirement add_req  \\\n",
              "3   AWS EMEA SARL (Germany Branch)             3.5         NaN     NaN   \n",
              "78         Arrow Electronics, Inc.             3.5         NaN     NaN   \n",
              "\n",
              "                                      job_description  \n",
              "3   Bachelor’s degree in finance, business, econom...  \n",
              "78  \\nPosition:\\n ERP Functional Consultant\\n \\n\\n...  "
            ],
            "text/html": [
              "\n",
              "  <div id=\"df-22c129d1-67ee-4137-8492-73a7223dcbd3\">\n",
              "    <div class=\"colab-df-container\">\n",
              "      <div>\n",
              "<style scoped>\n",
              "    .dataframe tbody tr th:only-of-type {\n",
              "        vertical-align: middle;\n",
              "    }\n",
              "\n",
              "    .dataframe tbody tr th {\n",
              "        vertical-align: top;\n",
              "    }\n",
              "\n",
              "    .dataframe thead th {\n",
              "        text-align: right;\n",
              "    }\n",
              "</style>\n",
              "<table border=\"1\" class=\"dataframe\">\n",
              "  <thead>\n",
              "    <tr style=\"text-align: right;\">\n",
              "      <th></th>\n",
              "      <th>date</th>\n",
              "      <th>job_location</th>\n",
              "      <th>job_title</th>\n",
              "      <th>company</th>\n",
              "      <th>Company_rating</th>\n",
              "      <th>requirement</th>\n",
              "      <th>add_req</th>\n",
              "      <th>job_description</th>\n",
              "    </tr>\n",
              "  </thead>\n",
              "  <tbody>\n",
              "    <tr>\n",
              "      <th>3</th>\n",
              "      <td>2022-05-28</td>\n",
              "      <td>Berlin</td>\n",
              "      <td>EMEA Sales Operations Analyst</td>\n",
              "      <td>AWS EMEA SARL (Germany Branch)</td>\n",
              "      <td>3.5</td>\n",
              "      <td>NaN</td>\n",
              "      <td>NaN</td>\n",
              "      <td>Bachelor’s degree in finance, business, econom...</td>\n",
              "    </tr>\n",
              "    <tr>\n",
              "      <th>78</th>\n",
              "      <td>2022-05-04</td>\n",
              "      <td>Berlin</td>\n",
              "      <td>ERP Functional Consultant</td>\n",
              "      <td>Arrow Electronics, Inc.</td>\n",
              "      <td>3.5</td>\n",
              "      <td>NaN</td>\n",
              "      <td>NaN</td>\n",
              "      <td>\\nPosition:\\n ERP Functional Consultant\\n \\n\\n...</td>\n",
              "    </tr>\n",
              "  </tbody>\n",
              "</table>\n",
              "</div>\n",
              "      <button class=\"colab-df-convert\" onclick=\"convertToInteractive('df-22c129d1-67ee-4137-8492-73a7223dcbd3')\"\n",
              "              title=\"Convert this dataframe to an interactive table.\"\n",
              "              style=\"display:none;\">\n",
              "        \n",
              "  <svg xmlns=\"http://www.w3.org/2000/svg\" height=\"24px\"viewBox=\"0 0 24 24\"\n",
              "       width=\"24px\">\n",
              "    <path d=\"M0 0h24v24H0V0z\" fill=\"none\"/>\n",
              "    <path d=\"M18.56 5.44l.94 2.06.94-2.06 2.06-.94-2.06-.94-.94-2.06-.94 2.06-2.06.94zm-11 1L8.5 8.5l.94-2.06 2.06-.94-2.06-.94L8.5 2.5l-.94 2.06-2.06.94zm10 10l.94 2.06.94-2.06 2.06-.94-2.06-.94-.94-2.06-.94 2.06-2.06.94z\"/><path d=\"M17.41 7.96l-1.37-1.37c-.4-.4-.92-.59-1.43-.59-.52 0-1.04.2-1.43.59L10.3 9.45l-7.72 7.72c-.78.78-.78 2.05 0 2.83L4 21.41c.39.39.9.59 1.41.59.51 0 1.02-.2 1.41-.59l7.78-7.78 2.81-2.81c.8-.78.8-2.07 0-2.86zM5.41 20L4 18.59l7.72-7.72 1.47 1.35L5.41 20z\"/>\n",
              "  </svg>\n",
              "      </button>\n",
              "      \n",
              "  <style>\n",
              "    .colab-df-container {\n",
              "      display:flex;\n",
              "      flex-wrap:wrap;\n",
              "      gap: 12px;\n",
              "    }\n",
              "\n",
              "    .colab-df-convert {\n",
              "      background-color: #E8F0FE;\n",
              "      border: none;\n",
              "      border-radius: 50%;\n",
              "      cursor: pointer;\n",
              "      display: none;\n",
              "      fill: #1967D2;\n",
              "      height: 32px;\n",
              "      padding: 0 0 0 0;\n",
              "      width: 32px;\n",
              "    }\n",
              "\n",
              "    .colab-df-convert:hover {\n",
              "      background-color: #E2EBFA;\n",
              "      box-shadow: 0px 1px 2px rgba(60, 64, 67, 0.3), 0px 1px 3px 1px rgba(60, 64, 67, 0.15);\n",
              "      fill: #174EA6;\n",
              "    }\n",
              "\n",
              "    [theme=dark] .colab-df-convert {\n",
              "      background-color: #3B4455;\n",
              "      fill: #D2E3FC;\n",
              "    }\n",
              "\n",
              "    [theme=dark] .colab-df-convert:hover {\n",
              "      background-color: #434B5C;\n",
              "      box-shadow: 0px 1px 3px 1px rgba(0, 0, 0, 0.15);\n",
              "      filter: drop-shadow(0px 1px 2px rgba(0, 0, 0, 0.3));\n",
              "      fill: #FFFFFF;\n",
              "    }\n",
              "  </style>\n",
              "\n",
              "      <script>\n",
              "        const buttonEl =\n",
              "          document.querySelector('#df-22c129d1-67ee-4137-8492-73a7223dcbd3 button.colab-df-convert');\n",
              "        buttonEl.style.display =\n",
              "          google.colab.kernel.accessAllowed ? 'block' : 'none';\n",
              "\n",
              "        async function convertToInteractive(key) {\n",
              "          const element = document.querySelector('#df-22c129d1-67ee-4137-8492-73a7223dcbd3');\n",
              "          const dataTable =\n",
              "            await google.colab.kernel.invokeFunction('convertToInteractive',\n",
              "                                                     [key], {});\n",
              "          if (!dataTable) return;\n",
              "\n",
              "          const docLinkHtml = 'Like what you see? Visit the ' +\n",
              "            '<a target=\"_blank\" href=https://colab.research.google.com/notebooks/data_table.ipynb>data table notebook</a>'\n",
              "            + ' to learn more about interactive tables.';\n",
              "          element.innerHTML = '';\n",
              "          dataTable['output_type'] = 'display_data';\n",
              "          await google.colab.output.renderOutput(dataTable, element);\n",
              "          const docLink = document.createElement('div');\n",
              "          docLink.innerHTML = docLinkHtml;\n",
              "          element.appendChild(docLink);\n",
              "        }\n",
              "      </script>\n",
              "    </div>\n",
              "  </div>\n",
              "  "
            ]
          },
          "metadata": {},
          "execution_count": 25
        }
      ]
    },
    {
      "cell_type": "code",
      "source": [
        "data_req_na.job_description.iloc[0]"
      ],
      "metadata": {
        "colab": {
          "base_uri": "https://localhost:8080/",
          "height": 417
        },
        "id": "FjnHJbzvqUq6",
        "outputId": "2cc2bce1-cce6-482c-b954-cca4d88727f2"
      },
      "execution_count": 35,
      "outputs": [
        {
          "output_type": "execute_result",
          "data": {
            "text/plain": [
              "\"Bachelor’s degree in finance, business, economics, mathematics, or related fields Advanced skills in MS Excel, working with large datasets Ability to multitask and conduct sophisticated and creative analysis of complex data and translate the results into actionable deliverables, messages and presentations Excellent organization skills as well as written and verbal communication skills Ability to learn new tools quickly \\n\\n\\n Job summary\\n  This position can be located in Luxemburg, Berlin, London, Madrid or Milan offices\\n \\n As an EMEA Sales Operations analyst, you will support EMEA Sales managers as well as Sales Strategy & Ops leaders leaders on running sales processes aligned to day-to-day execution of the business as well as driving implementation of new tools and processes to continuously drive productivity improvement in our sales teams.\\n  You will be the central SME for operational requests raised by EMEA's sales teams, owning resolution or collaborating with internal end-users and cross-functional international teams to solve problems and deliver successfully against high standards.\\n  You should be passionate about working with data and developing and owning process improvements to standardize, automate and optimize central processes in a scalable approach.\\n  You will be collaborating with Sales Operations teams and Sales leadership to define, land and execute against our strategic priorities for the AWS CS EMEA business. Your analytic skills, strong business judgement and focus on our core operational inputs will make you a critical partner to Sales and Sales Strategy & Ops leaders as you help them execute, identify gaps and remove barriers to execution.\\n  Do you have experience driving sales operations? Are you passionate about analyzing large sets of data and providing process improvement recommendations?\\n \\n Key job responsibilities\\n \\n\\nSupport the team leaders in defining and landing UK and Ireland strategic programs and initiatives in market segments\\nLead key planning programs including territory planning, quota planning, headcount planning, markets analysis, and goals planning initiatives.\\nManage the monthly cadenced business reporting and operations \\nSupport the evolution, integration, and implementation of business management systems/processes\\nPrepare ad-hoc analysis and participate on projects\\nDesign and develop highly available dashboards, reports and metrics using SFDC, Tableau, MS Excel etc.\\nManage data quality, tackle data conflicts, sales efficiency and sales automation with centric reports, dashboards in CRM tool, OBIEE etc.), executing on our data management policy and identify reporting issues, gaps in processes, and drive timely resolution\\n\\n\\n Experience working within a high-growth, technology company and with cross-functional teams would be highly beneficial Hands-on experience of BI tools e.g. Tableau Handles multiple competing priorities in a fast-paced, deadline-driven environment Experience driving data-driven recommendations and suggestions to senior leaders Amazon is an equal opportunities employer. We believe passionately that employing a diverse workforce is central to our success. We make recruiting decisions based on your experience and skills. We value your passion to discover, invent, simplify and build. Protecting your privacy and the security of your data is a longstanding top priority for Amazon. Please consult our Privacy Notice (https://www.amazon.jobs/en/privacy_page) to know more about how we collect, use and transfer the personal data of our candidates. m/w/d\""
            ],
            "application/vnd.google.colaboratory.intrinsic+json": {
              "type": "string"
            }
          },
          "metadata": {},
          "execution_count": 35
        }
      ]
    },
    {
      "cell_type": "code",
      "source": [
        "#split the job description by blank lines and see where it leads from there\n",
        "#data_req_na.job_description[0].split('\\n\\n')"
      ],
      "metadata": {
        "id": "Zh51aA6A3dLo"
      },
      "execution_count": 26,
      "outputs": []
    },
    {
      "cell_type": "markdown",
      "source": [
        "Getting some css in the date field.\n",
        "Needs a fix! SOLVED ✔"
      ],
      "metadata": {
        "id": "IvQkJFw-lZS9"
      }
    },
    {
      "cell_type": "markdown",
      "source": [
        "Convert date from date posted to actual date SOLVED ✔"
      ],
      "metadata": {
        "id": "RS3WTqMNUlit"
      }
    },
    {
      "cell_type": "markdown",
      "source": [
        "Information extraction from job description\n",
        "\n",
        "NLP/ Topic Modeling/ Clustering???"
      ],
      "metadata": {
        "id": "eOkBEskY3y0D"
      }
    },
    {
      "cell_type": "markdown",
      "source": [
        "**Refactoring**\n",
        "\n",
        "*   Refactor get_job_df function. Move sections logic to get_requirement. Solved ✔\n",
        "\n",
        "*   Refactor company and date fixes by using functions\n",
        "\n"
      ],
      "metadata": {
        "id": "V7NqJvm8wlam"
      }
    },
    {
      "cell_type": "markdown",
      "source": [
        "Add feature, company rating Solved ✔"
      ],
      "metadata": {
        "id": "5yuFw3hefGxj"
      }
    },
    {
      "cell_type": "markdown",
      "source": [
        "Add experience level feature? from query? requirements?"
      ],
      "metadata": {
        "id": "559ZXXv2pmi6"
      }
    },
    {
      "cell_type": "markdown",
      "source": [
        "check which companies add years of experience that unmatch the experience level in the job post #HR accountability?"
      ],
      "metadata": {
        "id": "s9Gs7I3SpshM"
      }
    },
    {
      "cell_type": "code",
      "source": [
        "data_analyst_df.job_description[0]"
      ],
      "metadata": {
        "id": "bmfo7kaXrJEe",
        "colab": {
          "base_uri": "https://localhost:8080/",
          "height": 140
        },
        "outputId": "07a2c72d-6990-4980-b6fb-1b78d7357dfd"
      },
      "execution_count": 32,
      "outputs": [
        {
          "output_type": "execute_result",
          "data": {
            "text/plain": [
              "'\\n\\nJob Details \\nWhat you will do \\n\\nDo you have experience with ServiceMax? If so, join our business transformation program! \\nIT Business Analyst role is a business-facing IT analyst position accountable for the successful delivery of IT projects that enable the EMEALA Service Business. This position defines and develops business applications that support Service business processes. \\n\\nHow you will do it \\n\\nBuild and deploy end to end IT solution for Service business and markets, involving configuring and integrating standard applications with none or minimum customization and software deployment. \\nWork together with business partners, IT Business Lead, delivery team, Product owner, architects and third parties to develop, guide and implement IT solutions. \\nClose collaboration with partners to define and document user stories, existing and to-be business processes, and functional requirements applicable for a line of business on EMEALA region level or country specific requirements. \\nAccountable that results meet requirements with regards to Software functional fit, quality, reliability, availability, performance, and security & compliance aspects of the solution. \\nResponsible for contributing into the test strategy, defining critical success factors, acceptance criteria, test plan, detailing test cases, participating in non-regression, integration, user acceptance and other testing \\nSupport business change manager during the roll out process to ensure adequate communication, training and support is provided as part of the overall program delivery. \\n\\n\\nWhat we look for \\nRequired \\n\\nMin. 3 years working experience with Salesforce or Service management platforms like ServiceMax/Service Cloud \\nMaster at least one application area or platform (ServiceMax) and the integration aspects with other platforms, including a solid grasp of service processes, Oracle Service platform, CPQ \\nWell organized, results driven and eager to handle difficult problems \\nAbility to facilitate communication between business partners and technical delivery teams to achieve practical outcome and clarity on the solution and next steps. \\nExperience with system integrations and understand how to tackle data discrepancies \\nExcellent problem-solving skills and ability to communicate analytics findings various business teams \\nFlexible and adaptable in regard to learning and understanding new technologies \\nActs independently to determine methods and procedures on new or special assignments. May supervise the activities of others. \\n\\n\\nPreferred \\n\\nInvolvement in full cycle project implementations in ServiceMax \\nPrevious experience in sizeable multinational corporations \\nHas a consistent record on working in a cross-cultural environment \\nAbility to lead multiple regional projects optimally \\n\\n\\nWho we are \\nAt Johnson Controls, we’re crafting the future to build a world that’s safe, comfortable and balanced. Our distributed team builds innovative, coordinated solutions to make cities more connected, buildings more intelligent and vehicles more efficient. We are passionate about improving the way the world lives, works and plays. The future requires bold ideas, an ambitious mind-set and teamwork across boundaries. We believe that diversity and inclusion matter and make a difference. By embracing the true value of diversity and inclusion, getting comfortable with having crucial conversations, and valuing different perspectives, we will be one of the most desirable places to work.\\n\\n'"
            ],
            "application/vnd.google.colaboratory.intrinsic+json": {
              "type": "string"
            }
          },
          "metadata": {},
          "execution_count": 32
        }
      ]
    },
    {
      "cell_type": "code",
      "source": [
        ""
      ],
      "metadata": {
        "id": "xyfnrU0fp52L"
      },
      "execution_count": null,
      "outputs": []
    }
  ]
}