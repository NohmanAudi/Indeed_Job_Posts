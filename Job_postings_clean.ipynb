{
  "nbformat": 4,
  "nbformat_minor": 0,
  "metadata": {
    "colab": {
      "name": "Job_postings_clean.ipynb",
      "provenance": [],
      "collapsed_sections": [],
      "authorship_tag": "ABX9TyMpI/6Ct6WTHOmL1pZgOVh/",
      "include_colab_link": true
    },
    "kernelspec": {
      "name": "python3",
      "display_name": "Python 3"
    },
    "language_info": {
      "name": "python"
    }
  },
  "cells": [
    {
      "cell_type": "markdown",
      "metadata": {
        "id": "view-in-github",
        "colab_type": "text"
      },
      "source": [
        "<a href=\"https://colab.research.google.com/github/NohmanAudi/Indeed_Job_Posts/blob/main/Job_postings_clean.ipynb\" target=\"_parent\"><img src=\"https://colab.research.google.com/assets/colab-badge.svg\" alt=\"Open In Colab\"/></a>"
      ]
    },
    {
      "cell_type": "code",
      "source": [
        "#Scraping code source: https://medium.com/codex/web-scraping-with-beautifulsoup-66a3a2b3b60\n",
        "import requests\n",
        "import bs4\n",
        "from bs4 import BeautifulSoup\n",
        "import pandas as pd\n",
        "import numpy as np\n",
        "from datetime import timedelta, datetime"
      ],
      "metadata": {
        "id": "8gx5f-TinMWg"
      },
      "execution_count": 126,
      "outputs": []
    },
    {
      "cell_type": "code",
      "source": [
        "headers = {\"User-Agent\": \"Mozilla/5.0 (Windows NT 10.0; Win64; x64) AppleWebKit/537.36 (KHTML, like Gecko) Chrome/70.0.3538.77 Safari/537.36\"}\n",
        "link=\"https://de.indeed.com/jobs?q=Data+Analyst&l=Berlin&start=10\"\n",
        "\n",
        "\"\"\" Sending HTTP Request\"\"\"\n",
        "r=requests.get(link,headers=headers)\n",
        "\n",
        "\"\"\"Check response status Code\"\"\"\n",
        "r.status_code"
      ],
      "metadata": {
        "colab": {
          "base_uri": "https://localhost:8080/"
        },
        "id": "Uv2nSZrAqUaJ",
        "outputId": "90bad15b-28ea-4d10-a906-91b8bb38ec14"
      },
      "execution_count": 127,
      "outputs": [
        {
          "output_type": "execute_result",
          "data": {
            "text/plain": [
              "200"
            ]
          },
          "metadata": {},
          "execution_count": 127
        }
      ]
    },
    {
      "cell_type": "code",
      "source": [
        "\"\"\"URL Template\"\"\"\n",
        "url_temp= \"https://de.indeed.com/jobs?q={}&l={}&fromage=30&start={}\" #### changing url_temp to specify the postend time to 30 days as indeed doesn't show specific date beyond\n",
        "base_link=\"https://de.indeed.com\"\n",
        "\n",
        "\"\"\"This function takes the URL template, designation and city as inputs.\n",
        "It navigates through the top 200 search results and scans all the <a> tags and returns a list of \n",
        "all the href attributes.\"\"\"\n",
        "\n",
        "def get_href(url_temp,position,city):\n",
        "    results_per_city=200\n",
        "    href_list=[]\n",
        "    for start in range(0,results_per_city+10,10):\n",
        "        url=url_temp.format(position,city,start)\n",
        "        r=requests.get(url,headers=headers)\n",
        "        soup=BeautifulSoup(r.text,\"html.parser\")    \n",
        "       \n",
        "        for i in soup.find_all('a'):\n",
        "            # if tag has attribute of class\n",
        "            if i.has_attr( \"href\" ):\n",
        "                k=i['href']\n",
        "                href_list.append(base_link+k)\n",
        "    \n",
        "    return href_list"
      ],
      "metadata": {
        "id": "_hSELZlXqba2"
      },
      "execution_count": 128,
      "outputs": []
    },
    {
      "cell_type": "code",
      "source": [
        "\"\"\"This function takes the list of all the href attributes as input, \n",
        "finds the URLs with the mentioned strings and returns a list of those URLs.\"\"\"\n",
        "\n",
        "def get_job_links(href_list):\n",
        "    job_links=[]\n",
        "    for a in href_list:\n",
        "        if a.find('/rc/clk')!=-1:\n",
        "            job_links.append(a)\n",
        "        elif a.find('/company/')!=-1:\n",
        "            job_links.append(a)\n",
        "    return job_links"
      ],
      "metadata": {
        "id": "cK7_vhoIqgCC"
      },
      "execution_count": 129,
      "outputs": []
    },
    {
      "cell_type": "code",
      "source": [
        "\"\"\"This function takes the list of the URLs of the job postings and the city and does the following:\n",
        "1. Send HTTP request to each of the URL.\n",
        "2. Creates a soup object with html parsing.\n",
        "3. Extracts title, company name, location and job description from each of the webpage and returns a dataframe.\"\"\"\n",
        "\n",
        "\n",
        "\n",
        "re_reqmnt = ['experience', 'knowledge', 'skills', 'strong', 'ability', 'years', 'good']\n",
        "\n",
        "\n",
        "\n",
        "def get_job_df(job_links,city):\n",
        "    df=pd.DataFrame(columns=[ \"date\", \"job_location\", \"job_title\", \"company\", \"company_alt\",\"requirement\", \"add_req\", \"job_description\"])\n",
        "    \n",
        "    for i in job_links:\n",
        "        req=requests.get(i,headers=headers)\n",
        "        soup_req=BeautifulSoup(req.text,\"html.parser\")\n",
        "        try:\n",
        "            title=soup_req.find('h1',{'class': 'icl-u-xs-mb--xs icl-u-xs-mt--none jobsearch-JobInfoHeader-title'}).text\n",
        "        except:\n",
        "            continue\n",
        "        try:\n",
        "            company=soup_req.find('div',{'class':'icl-u-lg-mr--sm icl-u-xs-mr--xs'}).find_next().text #this worked for one company, trying for all\n",
        "        except:\n",
        "            continue\n",
        "        \n",
        "        company_alt=soup_req.find('div',{'class':'jobsearch-JobMetadataFooter'}).find_next().text #grabbing comapny name from footer\n",
        "\n",
        "\n",
        "        try:\n",
        "            location=soup_req.find('div',{'class':'jobsearch-InlineCompanyRating icl-u-xs-mt--xs jobsearch-DesktopStickyContainer-companyrating'}).text\n",
        "        except:\n",
        "            location=city\n",
        "        \n",
        "        try:\n",
        "            sections = pd.Series([x.text.strip() for x in soup_req.find(\"div\", {'class':'jobsearch-jobDescriptionText'}).find_all('ul')])\n",
        "            see = sections.str.lower().str.split().apply(lambda words: [\" \".join(word for word in words if word in re_reqmnt)])\n",
        "            see_idx = see.apply(lambda x: x[0]).replace(\"\", np.nan).dropna().index\n",
        "            qualifications = sections[see_idx].reset_index(drop=True).sort_values(ascending=False)\n",
        "            if len(qualifications) > 1:\n",
        "              qual = qualifications[0]\n",
        "              add_qual = qualifications[1]\n",
        "            elif len(qualifications) == 1:\n",
        "              qual = qualifications[0]\n",
        "              add_qual = np.nan\n",
        "            else:\n",
        "              qual = np.nan\n",
        "              add_qual = np.nan\n",
        "\n",
        "        except:\n",
        "          continue\n",
        "\n",
        "        try:\n",
        "            desc=soup_req.find('div',{'class':'jobsearch-jobDescriptionText'}).text\n",
        "        except:\n",
        "            continue\n",
        "        date=soup_req.find('div',{'class':'jobsearch-JobMetadataFooter'}).find_next().find_next().text #this works\n",
        "\n",
        "        df = df.append({\"job_location\":city, \"job_title\":title, \"company\":company, \"job_description\":desc, \"company_alt\": company_alt, \"date\": date,\n",
        "                \"requirement\": qual, \"add_req\": add_qual}, ignore_index=True)\n",
        "\n",
        "\n",
        "    \n",
        "    return df"
      ],
      "metadata": {
        "id": "grrxtQ1VqjZ0"
      },
      "execution_count": 130,
      "outputs": []
    },
    {
      "cell_type": "code",
      "source": [
        "\"\"\"Calling all the above functions inside this function which takes the URL template, designation and city as inputs.\"\"\"\n",
        "\n",
        "def get_job_postings(url_temp,position,city):\n",
        "    \n",
        "    href_list= get_href(url_temp,position,city)\n",
        "    \n",
        "    job_links= get_job_links(href_list)\n",
        "    \n",
        "    job_df= get_job_df(job_links,city)\n",
        "    \n",
        "    return job_df"
      ],
      "metadata": {
        "id": "kb2vuGDmqwy9"
      },
      "execution_count": 131,
      "outputs": []
    },
    {
      "cell_type": "code",
      "source": [
        "data = get_job_postings(url_temp,position='Data+Analyst',city='Berlin')"
      ],
      "metadata": {
        "id": "I65UqHkJq3LL",
        "colab": {
          "base_uri": "https://localhost:8080/"
        },
        "outputId": "3516352a-4e6a-4508-c84b-dd93aea0a2ad"
      },
      "execution_count": 132,
      "outputs": [
        {
          "output_type": "stream",
          "name": "stderr",
          "text": [
            "/usr/local/lib/python3.7/dist-packages/ipykernel_launcher.py:36: DeprecationWarning: The default dtype for empty Series will be 'object' instead of 'float64' in a future version. Specify a dtype explicitly to silence this warning.\n"
          ]
        }
      ]
    },
    {
      "cell_type": "code",
      "source": [
        "data.to_csv('job_data.csv')"
      ],
      "metadata": {
        "id": "vhz9V9c0rEC-"
      },
      "execution_count": 133,
      "outputs": []
    },
    {
      "cell_type": "code",
      "source": [
        "data_analyst_df = pd.read_csv('/content/job_data.csv', index_col=0)\n",
        "data_analyst_df.head()"
      ],
      "metadata": {
        "colab": {
          "base_uri": "https://localhost:8080/",
          "height": 424
        },
        "id": "mAOClyGuKda-",
        "outputId": "293b4d0e-4aee-4de9-f82d-91b0cd9ca135"
      },
      "execution_count": 209,
      "outputs": [
        {
          "output_type": "execute_result",
          "data": {
            "text/plain": [
              "                                                date job_location  \\\n",
              "0                                                NaN       Berlin   \n",
              "1  .css-fjuv6g{box-sizing:border-box;background:n...       Berlin   \n",
              "2  .css-fjuv6g{box-sizing:border-box;background:n...       Berlin   \n",
              "3                                        vor 2 Tagen       Berlin   \n",
              "4                                        vor 8 Tagen       Berlin   \n",
              "\n",
              "                                   job_title  \\\n",
              "0    Business Data Analyst – Level 1 (m/f/d)   \n",
              "1               Product Data Analyst (m/f/d)   \n",
              "2                Senior Data Analyst (m/f/x)   \n",
              "3  Senior Data Analyst - Global Data (f/m/d)   \n",
              "4        Claims & Risk Analyst, EMEA (m/w/d)   \n",
              "\n",
              "                                             company    company_alt  \\\n",
              "0  ICE International Copyright Enterprise Germany...   vor 23 Tagen   \n",
              "1                                       COMATCH GmbH    vor 8 Tagen   \n",
              "2                                       Getsafe GmbH   vor 28 Tagen   \n",
              "3                                      Delivery Hero  Delivery Hero   \n",
              "4                                              Tesla          Tesla   \n",
              "\n",
              "                                         requirement  \\\n",
              "0  You’re keen to delve into the world of coding,...   \n",
              "1  You have significant experience (3+ years) in ...   \n",
              "2  You will develop further our BI and reporting ...   \n",
              "3  Want to be a Hero? Join the #1 GLOBAL LEADER i...   \n",
              "4  4 to 6 years of multi-line insurance/claims ma...   \n",
              "\n",
              "                                             add_req  \\\n",
              "0                                                NaN   \n",
              "1  Top Employer Award - awarded several times by ...   \n",
              "2  You have 4+ years of experience in Business In...   \n",
              "3  More than 4 years experience as a BI/Data Anal...   \n",
              "4                                                NaN   \n",
              "\n",
              "                                     job_description  \n",
              "0  \\nWhat is ICE?ICE is the result of a big visio...  \n",
              "1  \\nYour missionAs COMATCH and Malt, we are now ...  \n",
              "2  \\nGetsafe is one of the fastest growing tech c...  \n",
              "3  Want to be a Hero? Join the #1 GLOBAL LEADER i...  \n",
              "4  \\n\\n\\n\\n\\nThe Role\\n\\n\\n\\n Tesla’s Global Risk...  "
            ],
            "text/html": [
              "\n",
              "  <div id=\"df-9ea0104e-6bb7-434e-aaac-b02cdf48b9c3\">\n",
              "    <div class=\"colab-df-container\">\n",
              "      <div>\n",
              "<style scoped>\n",
              "    .dataframe tbody tr th:only-of-type {\n",
              "        vertical-align: middle;\n",
              "    }\n",
              "\n",
              "    .dataframe tbody tr th {\n",
              "        vertical-align: top;\n",
              "    }\n",
              "\n",
              "    .dataframe thead th {\n",
              "        text-align: right;\n",
              "    }\n",
              "</style>\n",
              "<table border=\"1\" class=\"dataframe\">\n",
              "  <thead>\n",
              "    <tr style=\"text-align: right;\">\n",
              "      <th></th>\n",
              "      <th>date</th>\n",
              "      <th>job_location</th>\n",
              "      <th>job_title</th>\n",
              "      <th>company</th>\n",
              "      <th>company_alt</th>\n",
              "      <th>requirement</th>\n",
              "      <th>add_req</th>\n",
              "      <th>job_description</th>\n",
              "    </tr>\n",
              "  </thead>\n",
              "  <tbody>\n",
              "    <tr>\n",
              "      <th>0</th>\n",
              "      <td>NaN</td>\n",
              "      <td>Berlin</td>\n",
              "      <td>Business Data Analyst – Level 1 (m/f/d)</td>\n",
              "      <td>ICE International Copyright Enterprise Germany...</td>\n",
              "      <td>vor 23 Tagen</td>\n",
              "      <td>You’re keen to delve into the world of coding,...</td>\n",
              "      <td>NaN</td>\n",
              "      <td>\\nWhat is ICE?ICE is the result of a big visio...</td>\n",
              "    </tr>\n",
              "    <tr>\n",
              "      <th>1</th>\n",
              "      <td>.css-fjuv6g{box-sizing:border-box;background:n...</td>\n",
              "      <td>Berlin</td>\n",
              "      <td>Product Data Analyst (m/f/d)</td>\n",
              "      <td>COMATCH GmbH</td>\n",
              "      <td>vor 8 Tagen</td>\n",
              "      <td>You have significant experience (3+ years) in ...</td>\n",
              "      <td>Top Employer Award - awarded several times by ...</td>\n",
              "      <td>\\nYour missionAs COMATCH and Malt, we are now ...</td>\n",
              "    </tr>\n",
              "    <tr>\n",
              "      <th>2</th>\n",
              "      <td>.css-fjuv6g{box-sizing:border-box;background:n...</td>\n",
              "      <td>Berlin</td>\n",
              "      <td>Senior Data Analyst (m/f/x)</td>\n",
              "      <td>Getsafe GmbH</td>\n",
              "      <td>vor 28 Tagen</td>\n",
              "      <td>You will develop further our BI and reporting ...</td>\n",
              "      <td>You have 4+ years of experience in Business In...</td>\n",
              "      <td>\\nGetsafe is one of the fastest growing tech c...</td>\n",
              "    </tr>\n",
              "    <tr>\n",
              "      <th>3</th>\n",
              "      <td>vor 2 Tagen</td>\n",
              "      <td>Berlin</td>\n",
              "      <td>Senior Data Analyst - Global Data (f/m/d)</td>\n",
              "      <td>Delivery Hero</td>\n",
              "      <td>Delivery Hero</td>\n",
              "      <td>Want to be a Hero? Join the #1 GLOBAL LEADER i...</td>\n",
              "      <td>More than 4 years experience as a BI/Data Anal...</td>\n",
              "      <td>Want to be a Hero? Join the #1 GLOBAL LEADER i...</td>\n",
              "    </tr>\n",
              "    <tr>\n",
              "      <th>4</th>\n",
              "      <td>vor 8 Tagen</td>\n",
              "      <td>Berlin</td>\n",
              "      <td>Claims &amp; Risk Analyst, EMEA (m/w/d)</td>\n",
              "      <td>Tesla</td>\n",
              "      <td>Tesla</td>\n",
              "      <td>4 to 6 years of multi-line insurance/claims ma...</td>\n",
              "      <td>NaN</td>\n",
              "      <td>\\n\\n\\n\\n\\nThe Role\\n\\n\\n\\n Tesla’s Global Risk...</td>\n",
              "    </tr>\n",
              "  </tbody>\n",
              "</table>\n",
              "</div>\n",
              "      <button class=\"colab-df-convert\" onclick=\"convertToInteractive('df-9ea0104e-6bb7-434e-aaac-b02cdf48b9c3')\"\n",
              "              title=\"Convert this dataframe to an interactive table.\"\n",
              "              style=\"display:none;\">\n",
              "        \n",
              "  <svg xmlns=\"http://www.w3.org/2000/svg\" height=\"24px\"viewBox=\"0 0 24 24\"\n",
              "       width=\"24px\">\n",
              "    <path d=\"M0 0h24v24H0V0z\" fill=\"none\"/>\n",
              "    <path d=\"M18.56 5.44l.94 2.06.94-2.06 2.06-.94-2.06-.94-.94-2.06-.94 2.06-2.06.94zm-11 1L8.5 8.5l.94-2.06 2.06-.94-2.06-.94L8.5 2.5l-.94 2.06-2.06.94zm10 10l.94 2.06.94-2.06 2.06-.94-2.06-.94-.94-2.06-.94 2.06-2.06.94z\"/><path d=\"M17.41 7.96l-1.37-1.37c-.4-.4-.92-.59-1.43-.59-.52 0-1.04.2-1.43.59L10.3 9.45l-7.72 7.72c-.78.78-.78 2.05 0 2.83L4 21.41c.39.39.9.59 1.41.59.51 0 1.02-.2 1.41-.59l7.78-7.78 2.81-2.81c.8-.78.8-2.07 0-2.86zM5.41 20L4 18.59l7.72-7.72 1.47 1.35L5.41 20z\"/>\n",
              "  </svg>\n",
              "      </button>\n",
              "      \n",
              "  <style>\n",
              "    .colab-df-container {\n",
              "      display:flex;\n",
              "      flex-wrap:wrap;\n",
              "      gap: 12px;\n",
              "    }\n",
              "\n",
              "    .colab-df-convert {\n",
              "      background-color: #E8F0FE;\n",
              "      border: none;\n",
              "      border-radius: 50%;\n",
              "      cursor: pointer;\n",
              "      display: none;\n",
              "      fill: #1967D2;\n",
              "      height: 32px;\n",
              "      padding: 0 0 0 0;\n",
              "      width: 32px;\n",
              "    }\n",
              "\n",
              "    .colab-df-convert:hover {\n",
              "      background-color: #E2EBFA;\n",
              "      box-shadow: 0px 1px 2px rgba(60, 64, 67, 0.3), 0px 1px 3px 1px rgba(60, 64, 67, 0.15);\n",
              "      fill: #174EA6;\n",
              "    }\n",
              "\n",
              "    [theme=dark] .colab-df-convert {\n",
              "      background-color: #3B4455;\n",
              "      fill: #D2E3FC;\n",
              "    }\n",
              "\n",
              "    [theme=dark] .colab-df-convert:hover {\n",
              "      background-color: #434B5C;\n",
              "      box-shadow: 0px 1px 3px 1px rgba(0, 0, 0, 0.15);\n",
              "      filter: drop-shadow(0px 1px 2px rgba(0, 0, 0, 0.3));\n",
              "      fill: #FFFFFF;\n",
              "    }\n",
              "  </style>\n",
              "\n",
              "      <script>\n",
              "        const buttonEl =\n",
              "          document.querySelector('#df-9ea0104e-6bb7-434e-aaac-b02cdf48b9c3 button.colab-df-convert');\n",
              "        buttonEl.style.display =\n",
              "          google.colab.kernel.accessAllowed ? 'block' : 'none';\n",
              "\n",
              "        async function convertToInteractive(key) {\n",
              "          const element = document.querySelector('#df-9ea0104e-6bb7-434e-aaac-b02cdf48b9c3');\n",
              "          const dataTable =\n",
              "            await google.colab.kernel.invokeFunction('convertToInteractive',\n",
              "                                                     [key], {});\n",
              "          if (!dataTable) return;\n",
              "\n",
              "          const docLinkHtml = 'Like what you see? Visit the ' +\n",
              "            '<a target=\"_blank\" href=https://colab.research.google.com/notebooks/data_table.ipynb>data table notebook</a>'\n",
              "            + ' to learn more about interactive tables.';\n",
              "          element.innerHTML = '';\n",
              "          dataTable['output_type'] = 'display_data';\n",
              "          await google.colab.output.renderOutput(dataTable, element);\n",
              "          const docLink = document.createElement('div');\n",
              "          docLink.innerHTML = docLinkHtml;\n",
              "          element.appendChild(docLink);\n",
              "        }\n",
              "      </script>\n",
              "    </div>\n",
              "  </div>\n",
              "  "
            ]
          },
          "metadata": {},
          "execution_count": 209
        }
      ]
    },
    {
      "cell_type": "code",
      "source": [
        "data_analyst_df.shape"
      ],
      "metadata": {
        "colab": {
          "base_uri": "https://localhost:8080/"
        },
        "id": "p93RiST-TFKN",
        "outputId": "ca7fb461-ab7c-4692-a6af-a2f542b4ef86"
      },
      "execution_count": 210,
      "outputs": [
        {
          "output_type": "execute_result",
          "data": {
            "text/plain": [
              "(168, 8)"
            ]
          },
          "metadata": {},
          "execution_count": 210
        }
      ]
    },
    {
      "cell_type": "code",
      "source": [
        "!pip install langdetect #Language detection library ported from Google's language-detection.\n",
        "from langdetect import detect"
      ],
      "metadata": {
        "colab": {
          "base_uri": "https://localhost:8080/"
        },
        "id": "TZLXBcsu8J8x",
        "outputId": "3c9e0088-4f72-4435-c130-268ae6cb3168"
      },
      "execution_count": 211,
      "outputs": [
        {
          "output_type": "stream",
          "name": "stdout",
          "text": [
            "Looking in indexes: https://pypi.org/simple, https://us-python.pkg.dev/colab-wheels/public/simple/\n",
            "Requirement already satisfied: langdetect in /usr/local/lib/python3.7/dist-packages (1.0.9)\n",
            "Requirement already satisfied: six in /usr/local/lib/python3.7/dist-packages (from langdetect) (1.15.0)\n"
          ]
        }
      ]
    },
    {
      "cell_type": "code",
      "source": [
        "#detecting records with German language and dropping them\n",
        "idx_ger_records = data_analyst_df[data_analyst_df.job_description.apply(lambda x: detect(x)) == 'de'].index\n",
        "data_analyst_df.drop(index=idx_ger_records, inplace=True)"
      ],
      "metadata": {
        "id": "toAnkHIs8bc_"
      },
      "execution_count": 212,
      "outputs": []
    },
    {
      "cell_type": "code",
      "source": [
        "#records in requirement with missings values\n",
        "data_req_na = data_analyst_df[data_analyst_df.requirement.isna()]\n",
        "data_req_na"
      ],
      "metadata": {
        "colab": {
          "base_uri": "https://localhost:8080/",
          "height": 337
        },
        "id": "yvkGeZx8-lJ_",
        "outputId": "910e8e28-f1d8-45fd-905f-552924637611"
      },
      "execution_count": 213,
      "outputs": [
        {
          "output_type": "execute_result",
          "data": {
            "text/plain": [
              "             date job_location  \\\n",
              "63    vor 8 Tagen       Berlin   \n",
              "106  vor 21 Tagen       Berlin   \n",
              "142  vor 11 Tagen       Berlin   \n",
              "152  vor 24 Tagen       Berlin   \n",
              "159  vor 10 Tagen       Berlin   \n",
              "\n",
              "                                             job_title  \\\n",
              "63   Pricing Analyst / Pricing Analyst Manager (m/w/d)   \n",
              "106                               Senior Data Engineer   \n",
              "142                              UI Developer - Berlin   \n",
              "152                          ERP Functional Consultant   \n",
              "159                             Senior Scala Developer   \n",
              "\n",
              "                        company                 company_alt requirement  \\\n",
              "63                          Oda              Startupmatcher         NaN   \n",
              "106  Oxygen Digital Recruitment  Oxygen Digital Recruitment         NaN   \n",
              "142                         ION                         ION         NaN   \n",
              "152     Arrow Electronics, Inc.     Arrow Electronics, Inc.         NaN   \n",
              "159                      Luxoft                      Luxoft         NaN   \n",
              "\n",
              "    add_req                                    job_description  \n",
              "63      NaN  \\n\\nOda is a company on the move. We built Nor...  \n",
              "106     NaN  \\n\\nWe're working with a great Green-Energy co...  \n",
              "142     NaN  \\n\\n\\nThe Role:\\n\\n\\n\\n Do you want to join th...  \n",
              "152     NaN  \\n\\nPosition:\\n ERP Functional Consultant\\n  \\...  \n",
              "159     NaN  Project Description\\nLooking for motivated and...  "
            ],
            "text/html": [
              "\n",
              "  <div id=\"df-92511469-3a96-4f26-8648-b45104848dd2\">\n",
              "    <div class=\"colab-df-container\">\n",
              "      <div>\n",
              "<style scoped>\n",
              "    .dataframe tbody tr th:only-of-type {\n",
              "        vertical-align: middle;\n",
              "    }\n",
              "\n",
              "    .dataframe tbody tr th {\n",
              "        vertical-align: top;\n",
              "    }\n",
              "\n",
              "    .dataframe thead th {\n",
              "        text-align: right;\n",
              "    }\n",
              "</style>\n",
              "<table border=\"1\" class=\"dataframe\">\n",
              "  <thead>\n",
              "    <tr style=\"text-align: right;\">\n",
              "      <th></th>\n",
              "      <th>date</th>\n",
              "      <th>job_location</th>\n",
              "      <th>job_title</th>\n",
              "      <th>company</th>\n",
              "      <th>company_alt</th>\n",
              "      <th>requirement</th>\n",
              "      <th>add_req</th>\n",
              "      <th>job_description</th>\n",
              "    </tr>\n",
              "  </thead>\n",
              "  <tbody>\n",
              "    <tr>\n",
              "      <th>63</th>\n",
              "      <td>vor 8 Tagen</td>\n",
              "      <td>Berlin</td>\n",
              "      <td>Pricing Analyst / Pricing Analyst Manager (m/w/d)</td>\n",
              "      <td>Oda</td>\n",
              "      <td>Startupmatcher</td>\n",
              "      <td>NaN</td>\n",
              "      <td>NaN</td>\n",
              "      <td>\\n\\nOda is a company on the move. We built Nor...</td>\n",
              "    </tr>\n",
              "    <tr>\n",
              "      <th>106</th>\n",
              "      <td>vor 21 Tagen</td>\n",
              "      <td>Berlin</td>\n",
              "      <td>Senior Data Engineer</td>\n",
              "      <td>Oxygen Digital Recruitment</td>\n",
              "      <td>Oxygen Digital Recruitment</td>\n",
              "      <td>NaN</td>\n",
              "      <td>NaN</td>\n",
              "      <td>\\n\\nWe're working with a great Green-Energy co...</td>\n",
              "    </tr>\n",
              "    <tr>\n",
              "      <th>142</th>\n",
              "      <td>vor 11 Tagen</td>\n",
              "      <td>Berlin</td>\n",
              "      <td>UI Developer - Berlin</td>\n",
              "      <td>ION</td>\n",
              "      <td>ION</td>\n",
              "      <td>NaN</td>\n",
              "      <td>NaN</td>\n",
              "      <td>\\n\\n\\nThe Role:\\n\\n\\n\\n Do you want to join th...</td>\n",
              "    </tr>\n",
              "    <tr>\n",
              "      <th>152</th>\n",
              "      <td>vor 24 Tagen</td>\n",
              "      <td>Berlin</td>\n",
              "      <td>ERP Functional Consultant</td>\n",
              "      <td>Arrow Electronics, Inc.</td>\n",
              "      <td>Arrow Electronics, Inc.</td>\n",
              "      <td>NaN</td>\n",
              "      <td>NaN</td>\n",
              "      <td>\\n\\nPosition:\\n ERP Functional Consultant\\n  \\...</td>\n",
              "    </tr>\n",
              "    <tr>\n",
              "      <th>159</th>\n",
              "      <td>vor 10 Tagen</td>\n",
              "      <td>Berlin</td>\n",
              "      <td>Senior Scala Developer</td>\n",
              "      <td>Luxoft</td>\n",
              "      <td>Luxoft</td>\n",
              "      <td>NaN</td>\n",
              "      <td>NaN</td>\n",
              "      <td>Project Description\\nLooking for motivated and...</td>\n",
              "    </tr>\n",
              "  </tbody>\n",
              "</table>\n",
              "</div>\n",
              "      <button class=\"colab-df-convert\" onclick=\"convertToInteractive('df-92511469-3a96-4f26-8648-b45104848dd2')\"\n",
              "              title=\"Convert this dataframe to an interactive table.\"\n",
              "              style=\"display:none;\">\n",
              "        \n",
              "  <svg xmlns=\"http://www.w3.org/2000/svg\" height=\"24px\"viewBox=\"0 0 24 24\"\n",
              "       width=\"24px\">\n",
              "    <path d=\"M0 0h24v24H0V0z\" fill=\"none\"/>\n",
              "    <path d=\"M18.56 5.44l.94 2.06.94-2.06 2.06-.94-2.06-.94-.94-2.06-.94 2.06-2.06.94zm-11 1L8.5 8.5l.94-2.06 2.06-.94-2.06-.94L8.5 2.5l-.94 2.06-2.06.94zm10 10l.94 2.06.94-2.06 2.06-.94-2.06-.94-.94-2.06-.94 2.06-2.06.94z\"/><path d=\"M17.41 7.96l-1.37-1.37c-.4-.4-.92-.59-1.43-.59-.52 0-1.04.2-1.43.59L10.3 9.45l-7.72 7.72c-.78.78-.78 2.05 0 2.83L4 21.41c.39.39.9.59 1.41.59.51 0 1.02-.2 1.41-.59l7.78-7.78 2.81-2.81c.8-.78.8-2.07 0-2.86zM5.41 20L4 18.59l7.72-7.72 1.47 1.35L5.41 20z\"/>\n",
              "  </svg>\n",
              "      </button>\n",
              "      \n",
              "  <style>\n",
              "    .colab-df-container {\n",
              "      display:flex;\n",
              "      flex-wrap:wrap;\n",
              "      gap: 12px;\n",
              "    }\n",
              "\n",
              "    .colab-df-convert {\n",
              "      background-color: #E8F0FE;\n",
              "      border: none;\n",
              "      border-radius: 50%;\n",
              "      cursor: pointer;\n",
              "      display: none;\n",
              "      fill: #1967D2;\n",
              "      height: 32px;\n",
              "      padding: 0 0 0 0;\n",
              "      width: 32px;\n",
              "    }\n",
              "\n",
              "    .colab-df-convert:hover {\n",
              "      background-color: #E2EBFA;\n",
              "      box-shadow: 0px 1px 2px rgba(60, 64, 67, 0.3), 0px 1px 3px 1px rgba(60, 64, 67, 0.15);\n",
              "      fill: #174EA6;\n",
              "    }\n",
              "\n",
              "    [theme=dark] .colab-df-convert {\n",
              "      background-color: #3B4455;\n",
              "      fill: #D2E3FC;\n",
              "    }\n",
              "\n",
              "    [theme=dark] .colab-df-convert:hover {\n",
              "      background-color: #434B5C;\n",
              "      box-shadow: 0px 1px 3px 1px rgba(0, 0, 0, 0.15);\n",
              "      filter: drop-shadow(0px 1px 2px rgba(0, 0, 0, 0.3));\n",
              "      fill: #FFFFFF;\n",
              "    }\n",
              "  </style>\n",
              "\n",
              "      <script>\n",
              "        const buttonEl =\n",
              "          document.querySelector('#df-92511469-3a96-4f26-8648-b45104848dd2 button.colab-df-convert');\n",
              "        buttonEl.style.display =\n",
              "          google.colab.kernel.accessAllowed ? 'block' : 'none';\n",
              "\n",
              "        async function convertToInteractive(key) {\n",
              "          const element = document.querySelector('#df-92511469-3a96-4f26-8648-b45104848dd2');\n",
              "          const dataTable =\n",
              "            await google.colab.kernel.invokeFunction('convertToInteractive',\n",
              "                                                     [key], {});\n",
              "          if (!dataTable) return;\n",
              "\n",
              "          const docLinkHtml = 'Like what you see? Visit the ' +\n",
              "            '<a target=\"_blank\" href=https://colab.research.google.com/notebooks/data_table.ipynb>data table notebook</a>'\n",
              "            + ' to learn more about interactive tables.';\n",
              "          element.innerHTML = '';\n",
              "          dataTable['output_type'] = 'display_data';\n",
              "          await google.colab.output.renderOutput(dataTable, element);\n",
              "          const docLink = document.createElement('div');\n",
              "          docLink.innerHTML = docLinkHtml;\n",
              "          element.appendChild(docLink);\n",
              "        }\n",
              "      </script>\n",
              "    </div>\n",
              "  </div>\n",
              "  "
            ]
          },
          "metadata": {},
          "execution_count": 213
        }
      ]
    },
    {
      "cell_type": "code",
      "source": [
        "data_req_na.job_description.values[0].split('\\n\\n')"
      ],
      "metadata": {
        "colab": {
          "base_uri": "https://localhost:8080/"
        },
        "id": "20JKUbjNEYGn",
        "outputId": "61dc68eb-881f-4968-d64b-836417cdf67e"
      },
      "execution_count": 214,
      "outputs": [
        {
          "output_type": "execute_result",
          "data": {
            "text/plain": [
              "['',\n",
              " 'Oda is a company on the move. We built Norway’s leading online grocery store and now we want to share what we’ve created with the world! Delivering a huge range of high-quality, affordable groceries and fresh produce to millions of doorsteps is a complex process, but we believe we’ve cracked the code. Using data-driven methodology, with a focus on sustainability all the way along the chain, we are creating the most efficient retail system in the world. With solid backing from some of the biggest international investors in the world, we’re proud to be one of the fastest growing companies in Europe.',\n",
              " ' This role is key in ensuring we execute and improve our pricing strategy in the German market, which include a very large number of products and fees to monitor, manage and optimize. At this point in our journey, this role is also important to ensure that our prices are managed consistently within the context of the German market and its unique characteristics, requiring familiarity with this market’s specific features and consumption habits.',\n",
              " ' What you’ll do as Pricing Analyst / Pricing Analyst Manager (m/w/d) with us \\n As a Pricing Analyst / Pricing Analyst Manager, you will be the principal business owner of pricing decisions for Germany, our next market launch on all prices ranging from product prices to delivery fees. As such, you will hold pricing decision authority and not simply play an advisory or support role.',\n",
              " ' In this role, you will identify exceptions or special cases, that require unique treatment, when our pricing strategy is applied to the context of the German market and the respective product assortment, delivery conditions and shopping behavior. You will create space for life and deliver on performance by supporting the local Commercial Team in the execution and improvement of our pricing strategy to the German market.',\n",
              " ' Moreover, you will work alongside and coordinate with the rest of the Global Pricing Team, using local findings to enhance our global strategy and sharing best practices. In addition to this, you will contribute to the global price strategies by providing key analyses on the execution of the local pricing strategy, as well as structuring these in standard reports when necessary.',\n",
              " ' As a Pricing Analyst / Pricing Analyst Manager, you will be liaising with key stakeholders in the organization to advance understanding and performance of our pricing practices. You will work with our Product and Tech colleagues on developing product features and improvements, to not only operate but also continuously improve on our pricing tools, systems and models to deliver world class pricing strategy that follow our company principles.',\n",
              " \" Wow, that was quite a mouthful! Still reading? Maybe you're the one! \",\n",
              " ' What we offer ',\n",
              " 'Competitive compensation and the possibility of buying shares to take part in the success of Oda \\nOpportunity to take on an key role in a fast-growing and innovative technology company disrupting a huge industry that touches millions of people every day \\nA dynamic workplace with quick decision making, a trust based culture and real opportunity to make a difference \\nPlenty of opportunity for learning and personal development \\nAn international and diverse workplace with talented and hard-working colleagues across multiple office (everyone’s always friendly and helpful)',\n",
              " '\\n To be successful, we believe you \\n Understand the complexities involved in pricing decisions, that range from considering the alignment of incentives to internal performance, to considering substitutions/complementarities in a wide assortment of goods, competitive pressures and price positioning/perception.',\n",
              " ' You are comfortable in a fast changing environment, have a strong sense of ownership and like to take initiative. You are a good communicator, able to bridge understanding across a variety of stakeholders. You are also a thoughtful listener, but does not shy away from asking questions or challenging the conventional wisdom, specially when you have the data to back you up.',\n",
              " ' You show resilience and resourcefulness, and see things through. You are a team player, who builds your team up and have a big picture mindset. We believe you reach out for help when you need, but also that you are comfortable making decisions whenever the ‘real life’ situation takes an expected turn, with no clear-cut procedure to follow, because you understand what the goals and priorities of your responsibilities are.',\n",
              " \" We need you to speak English and German, and that you want to live in Berlin. If you need help relocating, we'll gladly discuss that with you.\",\n",
              " ' The following will probably be helpful \\n You should have a higher education with a quantitative focused degree, like Economics/Business/Finance/Statistics or equivalent. \\n We also value any studies or working experience related to Pricing Management or Economics, as well as Big Data, Statistics/Econometrics or AB testing. \\n We value knowledge of or experience in woking with the German market’s general consumption habits and assortment perception \\n You have knowledge in or experience in extracting data reports using SQL, as well as strong Excel and Powerpoint skills. \\n It is considered a plus if you are proficient with producing analyses and treating data in Python, and using Business Intelligence tools like Looker. \\n You have a highly analytical mindset, with good communication skills. You are detailed oriented, but know how to present the big picture to stakeholders. \\n You are an enthusiastic team player who works well with and motivate others, in a friendly and accessible way. You lead by example, driven to improve your own work, but also to help improve the work of your team.',\n",
              " ' As a part of Oda you’ll will be working with enthusiastic, skilled and ambitious people, shaping tomorrow’s shopping experience. Come build the future with us!',\n",
              " ' Oda is committed to being an inclusive community, cultivating diversity, equity and belonging into our everyday workplace culture. When hiring for our team, we welcome the unique contributions that people can add with different cultural backgrounds, ethnicity, race, gender, gender identity and expression, nationality, age, languages spoken, color, religion, disability, sexual orientation, education and beliefs. If you have a disability such as a hearing, or visual impairment or any other neurodivergent need that requires accommodating during the hiring process, please let us know in advance. You can do this by contacting the job owner or hiring manager.',\n",
              " ' If you’d like to know more about how we work, check out our stories on Medium. \\n We look forward to hearing from you!',\n",
              " '\\n']"
            ]
          },
          "metadata": {},
          "execution_count": 214
        }
      ]
    },
    {
      "cell_type": "code",
      "source": [
        "data_analyst_df.date.str.startswith('.css').value_counts()"
      ],
      "metadata": {
        "colab": {
          "base_uri": "https://localhost:8080/"
        },
        "id": "6zCKfbv8u8AE",
        "outputId": "0b59906b-fdbd-4d53-9b90-8e7371c5d941"
      },
      "execution_count": 215,
      "outputs": [
        {
          "output_type": "execute_result",
          "data": {
            "text/plain": [
              "False    116\n",
              "True      17\n",
              "Name: date, dtype: int64"
            ]
          },
          "metadata": {},
          "execution_count": 215
        }
      ]
    },
    {
      "cell_type": "code",
      "source": [
        "data_analyst_df.date.isna().value_counts()"
      ],
      "metadata": {
        "colab": {
          "base_uri": "https://localhost:8080/"
        },
        "id": "bxk0B4WyP_x-",
        "outputId": "63a83fd3-85f5-40e6-9170-6a326bc7f811"
      },
      "execution_count": 216,
      "outputs": [
        {
          "output_type": "execute_result",
          "data": {
            "text/plain": [
              "False    133\n",
              "True       1\n",
              "Name: date, dtype: int64"
            ]
          },
          "metadata": {},
          "execution_count": 216
        }
      ]
    },
    {
      "cell_type": "code",
      "source": [
        "#index_rep = data_analyst_df[data_analyst_df.date == \"Diesen Job melden\"].date.index #bad values for old de.indeed format\n",
        "data_analyst_df.date.fillna('.css', inplace=True) #found one record at one attempt to have NaN. Filling it with .css to preserve the structure\n",
        "index_rep = data_analyst_df[data_analyst_df.date.str.startswith('.css')].index #bad values for new de.indeed format"
      ],
      "metadata": {
        "id": "0hflOoWTQNZ7"
      },
      "execution_count": 217,
      "outputs": []
    },
    {
      "cell_type": "code",
      "source": [
        "#footers had it wrong sometimes, replaced with company_alt that had the right date which exist in the footer as well\n",
        "\n",
        "actual_date = data_analyst_df.loc[index_rep].company_alt\n",
        "fake_date = data_analyst_df.loc[index_rep].date\n",
        "data_analyst_df.date.replace(fake_date.values, actual_date.values, inplace=True)"
      ],
      "metadata": {
        "id": "57MpZIbRvNHx"
      },
      "execution_count": 218,
      "outputs": []
    },
    {
      "cell_type": "code",
      "source": [
        "data_analyst_df.date.value_counts()"
      ],
      "metadata": {
        "id": "OVLj4U4zwzKE",
        "colab": {
          "base_uri": "https://localhost:8080/"
        },
        "outputId": "b8a405ae-f7dc-4903-8808-4379fc80ddee"
      },
      "execution_count": 219,
      "outputs": [
        {
          "output_type": "execute_result",
          "data": {
            "text/plain": [
              "vor 4 Tagen     24\n",
              "vor 8 Tagen     12\n",
              "vor 21 Tagen     9\n",
              "vor 25 Tagen     8\n",
              "vor 23 Tagen     7\n",
              "vor 24 Tagen     6\n",
              "vor 18 Tagen     6\n",
              "vor 17 Tagen     6\n",
              "vor 16 Tagen     6\n",
              "vor 3 Tagen      5\n",
              "vor 22 Tagen     5\n",
              "vor 19 Tagen     5\n",
              "vor 15 Tagen     5\n",
              "vor 2 Tagen      4\n",
              "vor 10 Tagen     4\n",
              "vor 7 Tagen      4\n",
              "vor 28 Tagen     3\n",
              "vor 29 Tagen     3\n",
              "vor 5 Tagen      3\n",
              "vor 14 Tagen     3\n",
              "vor 26 Tagen     2\n",
              "vor 9 Tagen      1\n",
              "vor 11 Tagen     1\n",
              "vor 1 Tag        1\n",
              "Heute            1\n",
              "Name: date, dtype: int64"
            ]
          },
          "metadata": {},
          "execution_count": 219
        }
      ]
    },
    {
      "cell_type": "code",
      "source": [
        "data_analyst_df.company.value_counts()"
      ],
      "metadata": {
        "id": "rQ2tJxcqxYzv",
        "colab": {
          "base_uri": "https://localhost:8080/"
        },
        "outputId": "552c5608-7dad-4154-8095-b1beabe100e7"
      },
      "execution_count": 220,
      "outputs": [
        {
          "output_type": "execute_result",
          "data": {
            "text/plain": [
              "Delivery Hero      11\n",
              "Zalando             8\n",
              "Deutsche Bank       5\n",
              "Wayfair             4\n",
              "COMATCH GmbH        4\n",
              "                   ..\n",
              "FlixMobility        1\n",
              "Lampenwelt GmbH     1\n",
              "Luko                1\n",
              "Eigensonne          1\n",
              "UXCam               1\n",
              "Name: company, Length: 86, dtype: int64"
            ]
          },
          "metadata": {},
          "execution_count": 220
        }
      ]
    },
    {
      "cell_type": "code",
      "source": [
        "ind = data_analyst_df[data_analyst_df.company == \"\"].company.index"
      ],
      "metadata": {
        "id": "5Zs5EbX6z86o"
      },
      "execution_count": 221,
      "outputs": []
    },
    {
      "cell_type": "code",
      "source": [
        "#This time getting the company from the footer\n",
        "actual = data_analyst_df.loc[ind].company_alt\n",
        "fake = data_analyst_df.loc[ind].company\n",
        "data_analyst_df.company.replace(fake.values, actual.values, inplace=True)"
      ],
      "metadata": {
        "id": "2wwL2rpC0rAF"
      },
      "execution_count": 222,
      "outputs": []
    },
    {
      "cell_type": "code",
      "source": [
        "data_analyst_df.drop(columns='company_alt', inplace=True) #dropping company_alt after extracting actual date and company values"
      ],
      "metadata": {
        "id": "IT3oZo8N0c8g"
      },
      "execution_count": 223,
      "outputs": []
    },
    {
      "cell_type": "code",
      "source": [
        "data_analyst_df.company.value_counts()"
      ],
      "metadata": {
        "id": "9I12mkV-1D7D",
        "colab": {
          "base_uri": "https://localhost:8080/"
        },
        "outputId": "c0ba0c6b-9f35-4c54-ff14-78acd3e3ca9b"
      },
      "execution_count": 224,
      "outputs": [
        {
          "output_type": "execute_result",
          "data": {
            "text/plain": [
              "Delivery Hero      11\n",
              "Zalando             8\n",
              "Deutsche Bank       5\n",
              "Wayfair             4\n",
              "COMATCH GmbH        4\n",
              "                   ..\n",
              "FlixMobility        1\n",
              "Lampenwelt GmbH     1\n",
              "Luko                1\n",
              "Eigensonne          1\n",
              "UXCam               1\n",
              "Name: company, Length: 86, dtype: int64"
            ]
          },
          "metadata": {},
          "execution_count": 224
        }
      ]
    },
    {
      "cell_type": "code",
      "source": [
        "data_analyst_df.head()"
      ],
      "metadata": {
        "colab": {
          "base_uri": "https://localhost:8080/",
          "height": 337
        },
        "id": "f4bZCvgKgj8u",
        "outputId": "e204f5f7-1e71-4687-a8e8-d3b773f7c749"
      },
      "execution_count": 225,
      "outputs": [
        {
          "output_type": "execute_result",
          "data": {
            "text/plain": [
              "           date job_location                                  job_title  \\\n",
              "0  vor 23 Tagen       Berlin    Business Data Analyst – Level 1 (m/f/d)   \n",
              "1   vor 4 Tagen       Berlin               Product Data Analyst (m/f/d)   \n",
              "2   vor 4 Tagen       Berlin                Senior Data Analyst (m/f/x)   \n",
              "3   vor 2 Tagen       Berlin  Senior Data Analyst - Global Data (f/m/d)   \n",
              "4   vor 8 Tagen       Berlin        Claims & Risk Analyst, EMEA (m/w/d)   \n",
              "\n",
              "                                             company  \\\n",
              "0  ICE International Copyright Enterprise Germany...   \n",
              "1                                       COMATCH GmbH   \n",
              "2                                       Getsafe GmbH   \n",
              "3                                      Delivery Hero   \n",
              "4                                              Tesla   \n",
              "\n",
              "                                         requirement  \\\n",
              "0  You’re keen to delve into the world of coding,...   \n",
              "1  You have significant experience (3+ years) in ...   \n",
              "2  You will develop further our BI and reporting ...   \n",
              "3  Want to be a Hero? Join the #1 GLOBAL LEADER i...   \n",
              "4  4 to 6 years of multi-line insurance/claims ma...   \n",
              "\n",
              "                                             add_req  \\\n",
              "0                                                NaN   \n",
              "1  Top Employer Award - awarded several times by ...   \n",
              "2  You have 4+ years of experience in Business In...   \n",
              "3  More than 4 years experience as a BI/Data Anal...   \n",
              "4                                                NaN   \n",
              "\n",
              "                                     job_description  \n",
              "0  \\nWhat is ICE?ICE is the result of a big visio...  \n",
              "1  \\nYour missionAs COMATCH and Malt, we are now ...  \n",
              "2  \\nGetsafe is one of the fastest growing tech c...  \n",
              "3  Want to be a Hero? Join the #1 GLOBAL LEADER i...  \n",
              "4  \\n\\n\\n\\n\\nThe Role\\n\\n\\n\\n Tesla’s Global Risk...  "
            ],
            "text/html": [
              "\n",
              "  <div id=\"df-99d7d71e-36d2-4fe4-9991-e932dae5f217\">\n",
              "    <div class=\"colab-df-container\">\n",
              "      <div>\n",
              "<style scoped>\n",
              "    .dataframe tbody tr th:only-of-type {\n",
              "        vertical-align: middle;\n",
              "    }\n",
              "\n",
              "    .dataframe tbody tr th {\n",
              "        vertical-align: top;\n",
              "    }\n",
              "\n",
              "    .dataframe thead th {\n",
              "        text-align: right;\n",
              "    }\n",
              "</style>\n",
              "<table border=\"1\" class=\"dataframe\">\n",
              "  <thead>\n",
              "    <tr style=\"text-align: right;\">\n",
              "      <th></th>\n",
              "      <th>date</th>\n",
              "      <th>job_location</th>\n",
              "      <th>job_title</th>\n",
              "      <th>company</th>\n",
              "      <th>requirement</th>\n",
              "      <th>add_req</th>\n",
              "      <th>job_description</th>\n",
              "    </tr>\n",
              "  </thead>\n",
              "  <tbody>\n",
              "    <tr>\n",
              "      <th>0</th>\n",
              "      <td>vor 23 Tagen</td>\n",
              "      <td>Berlin</td>\n",
              "      <td>Business Data Analyst – Level 1 (m/f/d)</td>\n",
              "      <td>ICE International Copyright Enterprise Germany...</td>\n",
              "      <td>You’re keen to delve into the world of coding,...</td>\n",
              "      <td>NaN</td>\n",
              "      <td>\\nWhat is ICE?ICE is the result of a big visio...</td>\n",
              "    </tr>\n",
              "    <tr>\n",
              "      <th>1</th>\n",
              "      <td>vor 4 Tagen</td>\n",
              "      <td>Berlin</td>\n",
              "      <td>Product Data Analyst (m/f/d)</td>\n",
              "      <td>COMATCH GmbH</td>\n",
              "      <td>You have significant experience (3+ years) in ...</td>\n",
              "      <td>Top Employer Award - awarded several times by ...</td>\n",
              "      <td>\\nYour missionAs COMATCH and Malt, we are now ...</td>\n",
              "    </tr>\n",
              "    <tr>\n",
              "      <th>2</th>\n",
              "      <td>vor 4 Tagen</td>\n",
              "      <td>Berlin</td>\n",
              "      <td>Senior Data Analyst (m/f/x)</td>\n",
              "      <td>Getsafe GmbH</td>\n",
              "      <td>You will develop further our BI and reporting ...</td>\n",
              "      <td>You have 4+ years of experience in Business In...</td>\n",
              "      <td>\\nGetsafe is one of the fastest growing tech c...</td>\n",
              "    </tr>\n",
              "    <tr>\n",
              "      <th>3</th>\n",
              "      <td>vor 2 Tagen</td>\n",
              "      <td>Berlin</td>\n",
              "      <td>Senior Data Analyst - Global Data (f/m/d)</td>\n",
              "      <td>Delivery Hero</td>\n",
              "      <td>Want to be a Hero? Join the #1 GLOBAL LEADER i...</td>\n",
              "      <td>More than 4 years experience as a BI/Data Anal...</td>\n",
              "      <td>Want to be a Hero? Join the #1 GLOBAL LEADER i...</td>\n",
              "    </tr>\n",
              "    <tr>\n",
              "      <th>4</th>\n",
              "      <td>vor 8 Tagen</td>\n",
              "      <td>Berlin</td>\n",
              "      <td>Claims &amp; Risk Analyst, EMEA (m/w/d)</td>\n",
              "      <td>Tesla</td>\n",
              "      <td>4 to 6 years of multi-line insurance/claims ma...</td>\n",
              "      <td>NaN</td>\n",
              "      <td>\\n\\n\\n\\n\\nThe Role\\n\\n\\n\\n Tesla’s Global Risk...</td>\n",
              "    </tr>\n",
              "  </tbody>\n",
              "</table>\n",
              "</div>\n",
              "      <button class=\"colab-df-convert\" onclick=\"convertToInteractive('df-99d7d71e-36d2-4fe4-9991-e932dae5f217')\"\n",
              "              title=\"Convert this dataframe to an interactive table.\"\n",
              "              style=\"display:none;\">\n",
              "        \n",
              "  <svg xmlns=\"http://www.w3.org/2000/svg\" height=\"24px\"viewBox=\"0 0 24 24\"\n",
              "       width=\"24px\">\n",
              "    <path d=\"M0 0h24v24H0V0z\" fill=\"none\"/>\n",
              "    <path d=\"M18.56 5.44l.94 2.06.94-2.06 2.06-.94-2.06-.94-.94-2.06-.94 2.06-2.06.94zm-11 1L8.5 8.5l.94-2.06 2.06-.94-2.06-.94L8.5 2.5l-.94 2.06-2.06.94zm10 10l.94 2.06.94-2.06 2.06-.94-2.06-.94-.94-2.06-.94 2.06-2.06.94z\"/><path d=\"M17.41 7.96l-1.37-1.37c-.4-.4-.92-.59-1.43-.59-.52 0-1.04.2-1.43.59L10.3 9.45l-7.72 7.72c-.78.78-.78 2.05 0 2.83L4 21.41c.39.39.9.59 1.41.59.51 0 1.02-.2 1.41-.59l7.78-7.78 2.81-2.81c.8-.78.8-2.07 0-2.86zM5.41 20L4 18.59l7.72-7.72 1.47 1.35L5.41 20z\"/>\n",
              "  </svg>\n",
              "      </button>\n",
              "      \n",
              "  <style>\n",
              "    .colab-df-container {\n",
              "      display:flex;\n",
              "      flex-wrap:wrap;\n",
              "      gap: 12px;\n",
              "    }\n",
              "\n",
              "    .colab-df-convert {\n",
              "      background-color: #E8F0FE;\n",
              "      border: none;\n",
              "      border-radius: 50%;\n",
              "      cursor: pointer;\n",
              "      display: none;\n",
              "      fill: #1967D2;\n",
              "      height: 32px;\n",
              "      padding: 0 0 0 0;\n",
              "      width: 32px;\n",
              "    }\n",
              "\n",
              "    .colab-df-convert:hover {\n",
              "      background-color: #E2EBFA;\n",
              "      box-shadow: 0px 1px 2px rgba(60, 64, 67, 0.3), 0px 1px 3px 1px rgba(60, 64, 67, 0.15);\n",
              "      fill: #174EA6;\n",
              "    }\n",
              "\n",
              "    [theme=dark] .colab-df-convert {\n",
              "      background-color: #3B4455;\n",
              "      fill: #D2E3FC;\n",
              "    }\n",
              "\n",
              "    [theme=dark] .colab-df-convert:hover {\n",
              "      background-color: #434B5C;\n",
              "      box-shadow: 0px 1px 3px 1px rgba(0, 0, 0, 0.15);\n",
              "      filter: drop-shadow(0px 1px 2px rgba(0, 0, 0, 0.3));\n",
              "      fill: #FFFFFF;\n",
              "    }\n",
              "  </style>\n",
              "\n",
              "      <script>\n",
              "        const buttonEl =\n",
              "          document.querySelector('#df-99d7d71e-36d2-4fe4-9991-e932dae5f217 button.colab-df-convert');\n",
              "        buttonEl.style.display =\n",
              "          google.colab.kernel.accessAllowed ? 'block' : 'none';\n",
              "\n",
              "        async function convertToInteractive(key) {\n",
              "          const element = document.querySelector('#df-99d7d71e-36d2-4fe4-9991-e932dae5f217');\n",
              "          const dataTable =\n",
              "            await google.colab.kernel.invokeFunction('convertToInteractive',\n",
              "                                                     [key], {});\n",
              "          if (!dataTable) return;\n",
              "\n",
              "          const docLinkHtml = 'Like what you see? Visit the ' +\n",
              "            '<a target=\"_blank\" href=https://colab.research.google.com/notebooks/data_table.ipynb>data table notebook</a>'\n",
              "            + ' to learn more about interactive tables.';\n",
              "          element.innerHTML = '';\n",
              "          dataTable['output_type'] = 'display_data';\n",
              "          await google.colab.output.renderOutput(dataTable, element);\n",
              "          const docLink = document.createElement('div');\n",
              "          docLink.innerHTML = docLinkHtml;\n",
              "          element.appendChild(docLink);\n",
              "        }\n",
              "      </script>\n",
              "    </div>\n",
              "  </div>\n",
              "  "
            ]
          },
          "metadata": {},
          "execution_count": 225
        }
      ]
    },
    {
      "cell_type": "code",
      "source": [
        "#date posted to actual date\n",
        "data_analyst_df.date.replace(['Heute', 'Gerade geschaltet'], 0, inplace=True) #replacing date \"Heute\": today and \"Gerade geschaltet\":Just posted, with 0\n",
        "data_analyst_df.date.replace(regex=[r'\\D+'], value=\"\", inplace=True) #remove non digits\n",
        "data_analyst_df.date = data_analyst_df.date.astype(int).apply(lambda x: datetime.now().date()-timedelta(x)) #calculating the actual date"
      ],
      "metadata": {
        "id": "pvQ0XLV31280"
      },
      "execution_count": 226,
      "outputs": []
    },
    {
      "cell_type": "code",
      "source": [
        "data_analyst_df.head()"
      ],
      "metadata": {
        "colab": {
          "base_uri": "https://localhost:8080/",
          "height": 337
        },
        "id": "Gr5VT5ZiTuOO",
        "outputId": "8519a102-7bde-41c8-be46-39ab7682973e"
      },
      "execution_count": 227,
      "outputs": [
        {
          "output_type": "execute_result",
          "data": {
            "text/plain": [
              "         date job_location                                  job_title  \\\n",
              "0  2022-05-05       Berlin    Business Data Analyst – Level 1 (m/f/d)   \n",
              "1  2022-05-24       Berlin               Product Data Analyst (m/f/d)   \n",
              "2  2022-05-24       Berlin                Senior Data Analyst (m/f/x)   \n",
              "3  2022-05-26       Berlin  Senior Data Analyst - Global Data (f/m/d)   \n",
              "4  2022-05-20       Berlin        Claims & Risk Analyst, EMEA (m/w/d)   \n",
              "\n",
              "                                             company  \\\n",
              "0  ICE International Copyright Enterprise Germany...   \n",
              "1                                       COMATCH GmbH   \n",
              "2                                       Getsafe GmbH   \n",
              "3                                      Delivery Hero   \n",
              "4                                              Tesla   \n",
              "\n",
              "                                         requirement  \\\n",
              "0  You’re keen to delve into the world of coding,...   \n",
              "1  You have significant experience (3+ years) in ...   \n",
              "2  You will develop further our BI and reporting ...   \n",
              "3  Want to be a Hero? Join the #1 GLOBAL LEADER i...   \n",
              "4  4 to 6 years of multi-line insurance/claims ma...   \n",
              "\n",
              "                                             add_req  \\\n",
              "0                                                NaN   \n",
              "1  Top Employer Award - awarded several times by ...   \n",
              "2  You have 4+ years of experience in Business In...   \n",
              "3  More than 4 years experience as a BI/Data Anal...   \n",
              "4                                                NaN   \n",
              "\n",
              "                                     job_description  \n",
              "0  \\nWhat is ICE?ICE is the result of a big visio...  \n",
              "1  \\nYour missionAs COMATCH and Malt, we are now ...  \n",
              "2  \\nGetsafe is one of the fastest growing tech c...  \n",
              "3  Want to be a Hero? Join the #1 GLOBAL LEADER i...  \n",
              "4  \\n\\n\\n\\n\\nThe Role\\n\\n\\n\\n Tesla’s Global Risk...  "
            ],
            "text/html": [
              "\n",
              "  <div id=\"df-6554f23f-1740-4771-890b-bc5c73bc34c7\">\n",
              "    <div class=\"colab-df-container\">\n",
              "      <div>\n",
              "<style scoped>\n",
              "    .dataframe tbody tr th:only-of-type {\n",
              "        vertical-align: middle;\n",
              "    }\n",
              "\n",
              "    .dataframe tbody tr th {\n",
              "        vertical-align: top;\n",
              "    }\n",
              "\n",
              "    .dataframe thead th {\n",
              "        text-align: right;\n",
              "    }\n",
              "</style>\n",
              "<table border=\"1\" class=\"dataframe\">\n",
              "  <thead>\n",
              "    <tr style=\"text-align: right;\">\n",
              "      <th></th>\n",
              "      <th>date</th>\n",
              "      <th>job_location</th>\n",
              "      <th>job_title</th>\n",
              "      <th>company</th>\n",
              "      <th>requirement</th>\n",
              "      <th>add_req</th>\n",
              "      <th>job_description</th>\n",
              "    </tr>\n",
              "  </thead>\n",
              "  <tbody>\n",
              "    <tr>\n",
              "      <th>0</th>\n",
              "      <td>2022-05-05</td>\n",
              "      <td>Berlin</td>\n",
              "      <td>Business Data Analyst – Level 1 (m/f/d)</td>\n",
              "      <td>ICE International Copyright Enterprise Germany...</td>\n",
              "      <td>You’re keen to delve into the world of coding,...</td>\n",
              "      <td>NaN</td>\n",
              "      <td>\\nWhat is ICE?ICE is the result of a big visio...</td>\n",
              "    </tr>\n",
              "    <tr>\n",
              "      <th>1</th>\n",
              "      <td>2022-05-24</td>\n",
              "      <td>Berlin</td>\n",
              "      <td>Product Data Analyst (m/f/d)</td>\n",
              "      <td>COMATCH GmbH</td>\n",
              "      <td>You have significant experience (3+ years) in ...</td>\n",
              "      <td>Top Employer Award - awarded several times by ...</td>\n",
              "      <td>\\nYour missionAs COMATCH and Malt, we are now ...</td>\n",
              "    </tr>\n",
              "    <tr>\n",
              "      <th>2</th>\n",
              "      <td>2022-05-24</td>\n",
              "      <td>Berlin</td>\n",
              "      <td>Senior Data Analyst (m/f/x)</td>\n",
              "      <td>Getsafe GmbH</td>\n",
              "      <td>You will develop further our BI and reporting ...</td>\n",
              "      <td>You have 4+ years of experience in Business In...</td>\n",
              "      <td>\\nGetsafe is one of the fastest growing tech c...</td>\n",
              "    </tr>\n",
              "    <tr>\n",
              "      <th>3</th>\n",
              "      <td>2022-05-26</td>\n",
              "      <td>Berlin</td>\n",
              "      <td>Senior Data Analyst - Global Data (f/m/d)</td>\n",
              "      <td>Delivery Hero</td>\n",
              "      <td>Want to be a Hero? Join the #1 GLOBAL LEADER i...</td>\n",
              "      <td>More than 4 years experience as a BI/Data Anal...</td>\n",
              "      <td>Want to be a Hero? Join the #1 GLOBAL LEADER i...</td>\n",
              "    </tr>\n",
              "    <tr>\n",
              "      <th>4</th>\n",
              "      <td>2022-05-20</td>\n",
              "      <td>Berlin</td>\n",
              "      <td>Claims &amp; Risk Analyst, EMEA (m/w/d)</td>\n",
              "      <td>Tesla</td>\n",
              "      <td>4 to 6 years of multi-line insurance/claims ma...</td>\n",
              "      <td>NaN</td>\n",
              "      <td>\\n\\n\\n\\n\\nThe Role\\n\\n\\n\\n Tesla’s Global Risk...</td>\n",
              "    </tr>\n",
              "  </tbody>\n",
              "</table>\n",
              "</div>\n",
              "      <button class=\"colab-df-convert\" onclick=\"convertToInteractive('df-6554f23f-1740-4771-890b-bc5c73bc34c7')\"\n",
              "              title=\"Convert this dataframe to an interactive table.\"\n",
              "              style=\"display:none;\">\n",
              "        \n",
              "  <svg xmlns=\"http://www.w3.org/2000/svg\" height=\"24px\"viewBox=\"0 0 24 24\"\n",
              "       width=\"24px\">\n",
              "    <path d=\"M0 0h24v24H0V0z\" fill=\"none\"/>\n",
              "    <path d=\"M18.56 5.44l.94 2.06.94-2.06 2.06-.94-2.06-.94-.94-2.06-.94 2.06-2.06.94zm-11 1L8.5 8.5l.94-2.06 2.06-.94-2.06-.94L8.5 2.5l-.94 2.06-2.06.94zm10 10l.94 2.06.94-2.06 2.06-.94-2.06-.94-.94-2.06-.94 2.06-2.06.94z\"/><path d=\"M17.41 7.96l-1.37-1.37c-.4-.4-.92-.59-1.43-.59-.52 0-1.04.2-1.43.59L10.3 9.45l-7.72 7.72c-.78.78-.78 2.05 0 2.83L4 21.41c.39.39.9.59 1.41.59.51 0 1.02-.2 1.41-.59l7.78-7.78 2.81-2.81c.8-.78.8-2.07 0-2.86zM5.41 20L4 18.59l7.72-7.72 1.47 1.35L5.41 20z\"/>\n",
              "  </svg>\n",
              "      </button>\n",
              "      \n",
              "  <style>\n",
              "    .colab-df-container {\n",
              "      display:flex;\n",
              "      flex-wrap:wrap;\n",
              "      gap: 12px;\n",
              "    }\n",
              "\n",
              "    .colab-df-convert {\n",
              "      background-color: #E8F0FE;\n",
              "      border: none;\n",
              "      border-radius: 50%;\n",
              "      cursor: pointer;\n",
              "      display: none;\n",
              "      fill: #1967D2;\n",
              "      height: 32px;\n",
              "      padding: 0 0 0 0;\n",
              "      width: 32px;\n",
              "    }\n",
              "\n",
              "    .colab-df-convert:hover {\n",
              "      background-color: #E2EBFA;\n",
              "      box-shadow: 0px 1px 2px rgba(60, 64, 67, 0.3), 0px 1px 3px 1px rgba(60, 64, 67, 0.15);\n",
              "      fill: #174EA6;\n",
              "    }\n",
              "\n",
              "    [theme=dark] .colab-df-convert {\n",
              "      background-color: #3B4455;\n",
              "      fill: #D2E3FC;\n",
              "    }\n",
              "\n",
              "    [theme=dark] .colab-df-convert:hover {\n",
              "      background-color: #434B5C;\n",
              "      box-shadow: 0px 1px 3px 1px rgba(0, 0, 0, 0.15);\n",
              "      filter: drop-shadow(0px 1px 2px rgba(0, 0, 0, 0.3));\n",
              "      fill: #FFFFFF;\n",
              "    }\n",
              "  </style>\n",
              "\n",
              "      <script>\n",
              "        const buttonEl =\n",
              "          document.querySelector('#df-6554f23f-1740-4771-890b-bc5c73bc34c7 button.colab-df-convert');\n",
              "        buttonEl.style.display =\n",
              "          google.colab.kernel.accessAllowed ? 'block' : 'none';\n",
              "\n",
              "        async function convertToInteractive(key) {\n",
              "          const element = document.querySelector('#df-6554f23f-1740-4771-890b-bc5c73bc34c7');\n",
              "          const dataTable =\n",
              "            await google.colab.kernel.invokeFunction('convertToInteractive',\n",
              "                                                     [key], {});\n",
              "          if (!dataTable) return;\n",
              "\n",
              "          const docLinkHtml = 'Like what you see? Visit the ' +\n",
              "            '<a target=\"_blank\" href=https://colab.research.google.com/notebooks/data_table.ipynb>data table notebook</a>'\n",
              "            + ' to learn more about interactive tables.';\n",
              "          element.innerHTML = '';\n",
              "          dataTable['output_type'] = 'display_data';\n",
              "          await google.colab.output.renderOutput(dataTable, element);\n",
              "          const docLink = document.createElement('div');\n",
              "          docLink.innerHTML = docLinkHtml;\n",
              "          element.appendChild(docLink);\n",
              "        }\n",
              "      </script>\n",
              "    </div>\n",
              "  </div>\n",
              "  "
            ]
          },
          "metadata": {},
          "execution_count": 227
        }
      ]
    },
    {
      "cell_type": "markdown",
      "source": [
        "Getting some css in the date field.\n",
        "Needs a fix! SOLVED ✔"
      ],
      "metadata": {
        "id": "IvQkJFw-lZS9"
      }
    },
    {
      "cell_type": "markdown",
      "source": [
        "Convert date from date posted to actual date SOLVED ✔"
      ],
      "metadata": {
        "id": "RS3WTqMNUlit"
      }
    },
    {
      "cell_type": "markdown",
      "source": [
        "**Refactoring**\n",
        "\n",
        "*   Refactor get_job_df function. Move the sections logic to another function.\n",
        "\n",
        "*   Refactor company and date fixes by using functions\n",
        "\n"
      ],
      "metadata": {
        "id": "V7NqJvm8wlam"
      }
    },
    {
      "cell_type": "markdown",
      "source": [
        "Add feature, company rating from (glassdoor? indeed? kununu?)"
      ],
      "metadata": {
        "id": "5yuFw3hefGxj"
      }
    },
    {
      "cell_type": "markdown",
      "source": [
        "Add experience level feature"
      ],
      "metadata": {
        "id": "559ZXXv2pmi6"
      }
    },
    {
      "cell_type": "markdown",
      "source": [
        "check which companies add years of experience that unmatch the experience level in the job post #HR accountability"
      ],
      "metadata": {
        "id": "s9Gs7I3SpshM"
      }
    },
    {
      "cell_type": "code",
      "source": [
        ""
      ],
      "metadata": {
        "id": "bmfo7kaXrJEe"
      },
      "execution_count": 227,
      "outputs": []
    }
  ]
}