{
  "nbformat": 4,
  "nbformat_minor": 0,
  "metadata": {
    "colab": {
      "name": "Job_postings_clean.ipynb",
      "provenance": [],
      "collapsed_sections": [],
      "authorship_tag": "ABX9TyP9VGeShjTF66Pmi2ni/Q4V",
      "include_colab_link": true
    },
    "kernelspec": {
      "name": "python3",
      "display_name": "Python 3"
    },
    "language_info": {
      "name": "python"
    }
  },
  "cells": [
    {
      "cell_type": "markdown",
      "metadata": {
        "id": "view-in-github",
        "colab_type": "text"
      },
      "source": [
        "<a href=\"https://colab.research.google.com/github/NohmanAudi/Indeed_Job_Posts/blob/main/Job_postings_clean.ipynb\" target=\"_parent\"><img src=\"https://colab.research.google.com/assets/colab-badge.svg\" alt=\"Open In Colab\"/></a>"
      ]
    },
    {
      "cell_type": "code",
      "source": [
        "#Scraping code source: https://medium.com/codex/web-scraping-with-beautifulsoup-66a3a2b3b60\n",
        "import requests\n",
        "import bs4\n",
        "from bs4 import BeautifulSoup\n",
        "import pandas as pd\n",
        "import numpy as np\n",
        "from datetime import timedelta, datetime"
      ],
      "metadata": {
        "id": "8gx5f-TinMWg"
      },
      "execution_count": 1,
      "outputs": []
    },
    {
      "cell_type": "code",
      "source": [
        "headers = {\"User-Agent\": \"Mozilla/5.0 (Windows NT 10.0; Win64; x64) AppleWebKit/537.36 (KHTML, like Gecko) Chrome/70.0.3538.77 Safari/537.36\"}\n",
        "link=\"https://de.indeed.com/jobs?q=Data+Analyst&l=Berlin&start=10\"\n",
        "\n",
        "\"\"\" Sending HTTP Request\"\"\"\n",
        "r=requests.get(link,headers=headers)\n",
        "\n",
        "\"\"\"Check response status Code\"\"\"\n",
        "r.status_code"
      ],
      "metadata": {
        "colab": {
          "base_uri": "https://localhost:8080/"
        },
        "id": "Uv2nSZrAqUaJ",
        "outputId": "b1594ecc-e28e-4fae-df63-9246d91251fd"
      },
      "execution_count": 2,
      "outputs": [
        {
          "output_type": "execute_result",
          "data": {
            "text/plain": [
              "200"
            ]
          },
          "metadata": {},
          "execution_count": 2
        }
      ]
    },
    {
      "cell_type": "code",
      "source": [
        "\"\"\"URL Template\"\"\"\n",
        "url_temp= \"https://de.indeed.com/jobs?q={}&l={}&fromage=30&start={}\" #### changing url_temp to specify the postend time to 30 days as indeed doesn't show specific date beyond\n",
        "base_link=\"https://de.indeed.com\"\n",
        "\n",
        "\"\"\"This function takes the URL template, designation and city as inputs.\n",
        "It navigates through the top 200 search results and scans all the <a> tags and returns a list of \n",
        "all the href attributes.\"\"\"\n",
        "\n",
        "def get_href(url_temp,position,city):\n",
        "    results_per_city=200\n",
        "    href_list=[]\n",
        "    for start in range(0,results_per_city+10,10):\n",
        "        url=url_temp.format(position,city,start)\n",
        "        r=requests.get(url,headers=headers)\n",
        "        soup=BeautifulSoup(r.text,\"html.parser\")    \n",
        "       \n",
        "        for i in soup.find_all('a'):\n",
        "            # if tag has attribute of class\n",
        "            if i.has_attr( \"href\" ):\n",
        "                k=i['href']\n",
        "                href_list.append(base_link+k)\n",
        "    \n",
        "    return href_list"
      ],
      "metadata": {
        "id": "_hSELZlXqba2"
      },
      "execution_count": 3,
      "outputs": []
    },
    {
      "cell_type": "code",
      "source": [
        "\"\"\"This function takes the list of all the href attributes as input, \n",
        "finds the URLs with the mentioned strings and returns a list of those URLs.\"\"\"\n",
        "\n",
        "def get_job_links(href_list):\n",
        "    job_links=[]\n",
        "    for a in href_list:\n",
        "        if a.find('/rc/clk')!=-1:\n",
        "            job_links.append(a)\n",
        "        elif a.find('/company/')!=-1:\n",
        "            job_links.append(a)\n",
        "    return job_links"
      ],
      "metadata": {
        "id": "cK7_vhoIqgCC"
      },
      "execution_count": 4,
      "outputs": []
    },
    {
      "cell_type": "code",
      "source": [
        "\"\"\"This function takes the list of the URLs of the job postings and the city and does the following:\n",
        "1. Send HTTP request to each of the URL.\n",
        "2. Creates a soup object with html parsing.\n",
        "3. Extracts title, company name, location and job description from each of the webpage and returns a dataframe.\"\"\"\n",
        "\n",
        "\n",
        "\n",
        "re_reqmnt = ['experience', 'knowledge', 'skills', 'strong', 'ability', 'years', 'good']\n",
        "\n",
        "\n",
        "\n",
        "def get_job_df(job_links,city):\n",
        "    df=pd.DataFrame(columns=[ \"date\", \"job_location\", \"job_title\", \"company\", \"company_alt\",\"requirement\", \"add_req\", \"job_description\"])\n",
        "    \n",
        "    for i in job_links:\n",
        "        req=requests.get(i,headers=headers)\n",
        "        soup_req=BeautifulSoup(req.text,\"html.parser\")\n",
        "        try:\n",
        "            title=soup_req.find('h1',{'class': 'icl-u-xs-mb--xs icl-u-xs-mt--none jobsearch-JobInfoHeader-title'}).text\n",
        "        except:\n",
        "            continue\n",
        "        try:\n",
        "            company=soup_req.find('div',{'class':'icl-u-lg-mr--sm icl-u-xs-mr--xs'}).find_next().text #this worked for one company, trying for all\n",
        "        except:\n",
        "            continue\n",
        "        \n",
        "        company_alt=soup_req.find('div',{'class':'jobsearch-JobMetadataFooter'}).find_next().text #grabbing comapny name from footer\n",
        "\n",
        "\n",
        "        try:\n",
        "            location=soup_req.find('div',{'class':'jobsearch-InlineCompanyRating icl-u-xs-mt--xs jobsearch-DesktopStickyContainer-companyrating'}).text\n",
        "        except:\n",
        "            location=city\n",
        "        \n",
        "        try:\n",
        "            sections = pd.Series([x.text.strip() for x in soup_req.find(\"div\", {'class':'jobsearch-jobDescriptionText'}).find_all('ul')])\n",
        "            see = sections.str.lower().str.split().apply(lambda words: [\" \".join(word for word in words if word in re_reqmnt)])\n",
        "            see_idx = see.apply(lambda x: x[0]).replace(\"\", np.nan).dropna().index\n",
        "            qualifications = sections[see_idx].reset_index(drop=True).sort_values(ascending=False)\n",
        "            if len(qualifications) > 1:\n",
        "              qual = qualifications[0]\n",
        "              add_qual = qualifications[1]\n",
        "            elif len(qualifications) == 1:\n",
        "              qual = qualifications[0]\n",
        "              add_qual = np.nan\n",
        "            else:\n",
        "              qual = np.nan\n",
        "              add_qual = np.nan\n",
        "\n",
        "        except:\n",
        "          continue\n",
        "\n",
        "        try:\n",
        "            desc=soup_req.find('div',{'class':'jobsearch-jobDescriptionText'}).text\n",
        "        except:\n",
        "            continue\n",
        "        date=soup_req.find('div',{'class':'jobsearch-JobMetadataFooter'}).find_next().find_next().text #this works\n",
        "\n",
        "        df = df.append({\"job_location\":city, \"job_title\":title, \"company\":company, \"job_description\":desc, \"company_alt\": company_alt, \"date\": date,\n",
        "                \"requirement\": qual, \"add_req\": add_qual}, ignore_index=True)\n",
        "\n",
        "\n",
        "    \n",
        "    return df"
      ],
      "metadata": {
        "id": "grrxtQ1VqjZ0"
      },
      "execution_count": 5,
      "outputs": []
    },
    {
      "cell_type": "code",
      "source": [
        "\"\"\"Calling all the above functions inside this function which takes the URL template, designation and city as inputs.\"\"\"\n",
        "\n",
        "def get_job_postings(url_temp,position,city):\n",
        "    \n",
        "    href_list= get_href(url_temp,position,city)\n",
        "    \n",
        "    job_links= get_job_links(href_list)\n",
        "    \n",
        "    job_df= get_job_df(job_links,city)\n",
        "    \n",
        "    return job_df"
      ],
      "metadata": {
        "id": "kb2vuGDmqwy9"
      },
      "execution_count": 6,
      "outputs": []
    },
    {
      "cell_type": "code",
      "source": [
        "data = get_job_postings(url_temp,position='Data+Analyst',city='Berlin')"
      ],
      "metadata": {
        "id": "I65UqHkJq3LL",
        "colab": {
          "base_uri": "https://localhost:8080/"
        },
        "outputId": "ff328d2b-5b94-4460-8142-489629b69625"
      },
      "execution_count": 7,
      "outputs": [
        {
          "output_type": "stream",
          "name": "stderr",
          "text": [
            "/usr/local/lib/python3.7/dist-packages/ipykernel_launcher.py:36: DeprecationWarning: The default dtype for empty Series will be 'object' instead of 'float64' in a future version. Specify a dtype explicitly to silence this warning.\n"
          ]
        }
      ]
    },
    {
      "cell_type": "code",
      "source": [
        "data.to_csv('job_data.csv')"
      ],
      "metadata": {
        "id": "vhz9V9c0rEC-"
      },
      "execution_count": 8,
      "outputs": []
    },
    {
      "cell_type": "code",
      "source": [
        "data_analyst_df = pd.read_csv('/content/job_data.csv', index_col=0)\n",
        "data_analyst_df.head()"
      ],
      "metadata": {
        "colab": {
          "base_uri": "https://localhost:8080/",
          "height": 424
        },
        "id": "mAOClyGuKda-",
        "outputId": "1a7e9ef5-b233-4461-b7de-d4091cd3cdac"
      },
      "execution_count": 9,
      "outputs": [
        {
          "output_type": "execute_result",
          "data": {
            "text/plain": [
              "                                                date job_location  \\\n",
              "0  .css-fjuv6g{box-sizing:border-box;background:n...       Berlin   \n",
              "1  .css-fjuv6g{box-sizing:border-box;background:n...       Berlin   \n",
              "2                                        vor 8 Tagen       Berlin   \n",
              "3  .css-fjuv6g{box-sizing:border-box;background:n...       Berlin   \n",
              "4                                        vor 2 Tagen       Berlin   \n",
              "\n",
              "                                   job_title  \\\n",
              "0    Business Data Analyst – Level 1 (m/f/d)   \n",
              "1               Product Data Analyst (m/f/d)   \n",
              "2        Claims & Risk Analyst, EMEA (m/w/d)   \n",
              "3                Senior Data Analyst (m/f/x)   \n",
              "4  Senior Data Analyst - Global Data (f/m/d)   \n",
              "\n",
              "                                             company    company_alt  \\\n",
              "0  ICE International Copyright Enterprise Germany...   vor 22 Tagen   \n",
              "1                                       COMATCH GmbH    vor 8 Tagen   \n",
              "2                                              Tesla          Tesla   \n",
              "3                                       Getsafe GmbH   vor 28 Tagen   \n",
              "4                                      Delivery Hero  Delivery Hero   \n",
              "\n",
              "                                         requirement  \\\n",
              "0  You’re keen to delve into the world of coding,...   \n",
              "1  You have significant experience (3+ years) in ...   \n",
              "2  4 to 6 years of multi-line insurance/claims ma...   \n",
              "3  You will develop further our BI and reporting ...   \n",
              "4  Want to be a Hero? Join the #1 GLOBAL LEADER i...   \n",
              "\n",
              "                                             add_req  \\\n",
              "0                                                NaN   \n",
              "1  Top Employer Award - awarded several times by ...   \n",
              "2                                                NaN   \n",
              "3  You have 4+ years of experience in Business In...   \n",
              "4  More than 4 years experience as a BI/Data Anal...   \n",
              "\n",
              "                                     job_description  \n",
              "0  What is ICE?ICE is the result of a big vision ...  \n",
              "1  \\nYour missionAs COMATCH and Malt, we are now ...  \n",
              "2  \\n\\n\\n\\n\\nThe Role\\n\\n\\n\\n Tesla’s Global Risk...  \n",
              "3  \\nGetsafe is one of the fastest growing tech c...  \n",
              "4  \\n\\n\\n\\n\\n\\n      Want to be a Hero? Join the ...  "
            ],
            "text/html": [
              "\n",
              "  <div id=\"df-22e99c03-0c85-4d35-8959-dfa38925aa2b\">\n",
              "    <div class=\"colab-df-container\">\n",
              "      <div>\n",
              "<style scoped>\n",
              "    .dataframe tbody tr th:only-of-type {\n",
              "        vertical-align: middle;\n",
              "    }\n",
              "\n",
              "    .dataframe tbody tr th {\n",
              "        vertical-align: top;\n",
              "    }\n",
              "\n",
              "    .dataframe thead th {\n",
              "        text-align: right;\n",
              "    }\n",
              "</style>\n",
              "<table border=\"1\" class=\"dataframe\">\n",
              "  <thead>\n",
              "    <tr style=\"text-align: right;\">\n",
              "      <th></th>\n",
              "      <th>date</th>\n",
              "      <th>job_location</th>\n",
              "      <th>job_title</th>\n",
              "      <th>company</th>\n",
              "      <th>company_alt</th>\n",
              "      <th>requirement</th>\n",
              "      <th>add_req</th>\n",
              "      <th>job_description</th>\n",
              "    </tr>\n",
              "  </thead>\n",
              "  <tbody>\n",
              "    <tr>\n",
              "      <th>0</th>\n",
              "      <td>.css-fjuv6g{box-sizing:border-box;background:n...</td>\n",
              "      <td>Berlin</td>\n",
              "      <td>Business Data Analyst – Level 1 (m/f/d)</td>\n",
              "      <td>ICE International Copyright Enterprise Germany...</td>\n",
              "      <td>vor 22 Tagen</td>\n",
              "      <td>You’re keen to delve into the world of coding,...</td>\n",
              "      <td>NaN</td>\n",
              "      <td>What is ICE?ICE is the result of a big vision ...</td>\n",
              "    </tr>\n",
              "    <tr>\n",
              "      <th>1</th>\n",
              "      <td>.css-fjuv6g{box-sizing:border-box;background:n...</td>\n",
              "      <td>Berlin</td>\n",
              "      <td>Product Data Analyst (m/f/d)</td>\n",
              "      <td>COMATCH GmbH</td>\n",
              "      <td>vor 8 Tagen</td>\n",
              "      <td>You have significant experience (3+ years) in ...</td>\n",
              "      <td>Top Employer Award - awarded several times by ...</td>\n",
              "      <td>\\nYour missionAs COMATCH and Malt, we are now ...</td>\n",
              "    </tr>\n",
              "    <tr>\n",
              "      <th>2</th>\n",
              "      <td>vor 8 Tagen</td>\n",
              "      <td>Berlin</td>\n",
              "      <td>Claims &amp; Risk Analyst, EMEA (m/w/d)</td>\n",
              "      <td>Tesla</td>\n",
              "      <td>Tesla</td>\n",
              "      <td>4 to 6 years of multi-line insurance/claims ma...</td>\n",
              "      <td>NaN</td>\n",
              "      <td>\\n\\n\\n\\n\\nThe Role\\n\\n\\n\\n Tesla’s Global Risk...</td>\n",
              "    </tr>\n",
              "    <tr>\n",
              "      <th>3</th>\n",
              "      <td>.css-fjuv6g{box-sizing:border-box;background:n...</td>\n",
              "      <td>Berlin</td>\n",
              "      <td>Senior Data Analyst (m/f/x)</td>\n",
              "      <td>Getsafe GmbH</td>\n",
              "      <td>vor 28 Tagen</td>\n",
              "      <td>You will develop further our BI and reporting ...</td>\n",
              "      <td>You have 4+ years of experience in Business In...</td>\n",
              "      <td>\\nGetsafe is one of the fastest growing tech c...</td>\n",
              "    </tr>\n",
              "    <tr>\n",
              "      <th>4</th>\n",
              "      <td>vor 2 Tagen</td>\n",
              "      <td>Berlin</td>\n",
              "      <td>Senior Data Analyst - Global Data (f/m/d)</td>\n",
              "      <td>Delivery Hero</td>\n",
              "      <td>Delivery Hero</td>\n",
              "      <td>Want to be a Hero? Join the #1 GLOBAL LEADER i...</td>\n",
              "      <td>More than 4 years experience as a BI/Data Anal...</td>\n",
              "      <td>\\n\\n\\n\\n\\n\\n      Want to be a Hero? Join the ...</td>\n",
              "    </tr>\n",
              "  </tbody>\n",
              "</table>\n",
              "</div>\n",
              "      <button class=\"colab-df-convert\" onclick=\"convertToInteractive('df-22e99c03-0c85-4d35-8959-dfa38925aa2b')\"\n",
              "              title=\"Convert this dataframe to an interactive table.\"\n",
              "              style=\"display:none;\">\n",
              "        \n",
              "  <svg xmlns=\"http://www.w3.org/2000/svg\" height=\"24px\"viewBox=\"0 0 24 24\"\n",
              "       width=\"24px\">\n",
              "    <path d=\"M0 0h24v24H0V0z\" fill=\"none\"/>\n",
              "    <path d=\"M18.56 5.44l.94 2.06.94-2.06 2.06-.94-2.06-.94-.94-2.06-.94 2.06-2.06.94zm-11 1L8.5 8.5l.94-2.06 2.06-.94-2.06-.94L8.5 2.5l-.94 2.06-2.06.94zm10 10l.94 2.06.94-2.06 2.06-.94-2.06-.94-.94-2.06-.94 2.06-2.06.94z\"/><path d=\"M17.41 7.96l-1.37-1.37c-.4-.4-.92-.59-1.43-.59-.52 0-1.04.2-1.43.59L10.3 9.45l-7.72 7.72c-.78.78-.78 2.05 0 2.83L4 21.41c.39.39.9.59 1.41.59.51 0 1.02-.2 1.41-.59l7.78-7.78 2.81-2.81c.8-.78.8-2.07 0-2.86zM5.41 20L4 18.59l7.72-7.72 1.47 1.35L5.41 20z\"/>\n",
              "  </svg>\n",
              "      </button>\n",
              "      \n",
              "  <style>\n",
              "    .colab-df-container {\n",
              "      display:flex;\n",
              "      flex-wrap:wrap;\n",
              "      gap: 12px;\n",
              "    }\n",
              "\n",
              "    .colab-df-convert {\n",
              "      background-color: #E8F0FE;\n",
              "      border: none;\n",
              "      border-radius: 50%;\n",
              "      cursor: pointer;\n",
              "      display: none;\n",
              "      fill: #1967D2;\n",
              "      height: 32px;\n",
              "      padding: 0 0 0 0;\n",
              "      width: 32px;\n",
              "    }\n",
              "\n",
              "    .colab-df-convert:hover {\n",
              "      background-color: #E2EBFA;\n",
              "      box-shadow: 0px 1px 2px rgba(60, 64, 67, 0.3), 0px 1px 3px 1px rgba(60, 64, 67, 0.15);\n",
              "      fill: #174EA6;\n",
              "    }\n",
              "\n",
              "    [theme=dark] .colab-df-convert {\n",
              "      background-color: #3B4455;\n",
              "      fill: #D2E3FC;\n",
              "    }\n",
              "\n",
              "    [theme=dark] .colab-df-convert:hover {\n",
              "      background-color: #434B5C;\n",
              "      box-shadow: 0px 1px 3px 1px rgba(0, 0, 0, 0.15);\n",
              "      filter: drop-shadow(0px 1px 2px rgba(0, 0, 0, 0.3));\n",
              "      fill: #FFFFFF;\n",
              "    }\n",
              "  </style>\n",
              "\n",
              "      <script>\n",
              "        const buttonEl =\n",
              "          document.querySelector('#df-22e99c03-0c85-4d35-8959-dfa38925aa2b button.colab-df-convert');\n",
              "        buttonEl.style.display =\n",
              "          google.colab.kernel.accessAllowed ? 'block' : 'none';\n",
              "\n",
              "        async function convertToInteractive(key) {\n",
              "          const element = document.querySelector('#df-22e99c03-0c85-4d35-8959-dfa38925aa2b');\n",
              "          const dataTable =\n",
              "            await google.colab.kernel.invokeFunction('convertToInteractive',\n",
              "                                                     [key], {});\n",
              "          if (!dataTable) return;\n",
              "\n",
              "          const docLinkHtml = 'Like what you see? Visit the ' +\n",
              "            '<a target=\"_blank\" href=https://colab.research.google.com/notebooks/data_table.ipynb>data table notebook</a>'\n",
              "            + ' to learn more about interactive tables.';\n",
              "          element.innerHTML = '';\n",
              "          dataTable['output_type'] = 'display_data';\n",
              "          await google.colab.output.renderOutput(dataTable, element);\n",
              "          const docLink = document.createElement('div');\n",
              "          docLink.innerHTML = docLinkHtml;\n",
              "          element.appendChild(docLink);\n",
              "        }\n",
              "      </script>\n",
              "    </div>\n",
              "  </div>\n",
              "  "
            ]
          },
          "metadata": {},
          "execution_count": 9
        }
      ]
    },
    {
      "cell_type": "code",
      "source": [
        "data_analyst_df.shape"
      ],
      "metadata": {
        "colab": {
          "base_uri": "https://localhost:8080/"
        },
        "id": "p93RiST-TFKN",
        "outputId": "ac42fa34-1d9f-4321-8145-0437172edcc8"
      },
      "execution_count": 10,
      "outputs": [
        {
          "output_type": "execute_result",
          "data": {
            "text/plain": [
              "(156, 8)"
            ]
          },
          "metadata": {},
          "execution_count": 10
        }
      ]
    },
    {
      "cell_type": "code",
      "source": [
        "!pip install langdetect #Language detection library ported from Google's language-detection.\n",
        "from langdetect import detect"
      ],
      "metadata": {
        "colab": {
          "base_uri": "https://localhost:8080/"
        },
        "id": "TZLXBcsu8J8x",
        "outputId": "c89074b9-3a06-4f29-dee3-65edfc4e2409"
      },
      "execution_count": 32,
      "outputs": [
        {
          "output_type": "stream",
          "name": "stdout",
          "text": [
            "Looking in indexes: https://pypi.org/simple, https://us-python.pkg.dev/colab-wheels/public/simple/\n",
            "Collecting langdetect\n",
            "  Downloading langdetect-1.0.9.tar.gz (981 kB)\n",
            "\u001b[K     |████████████████████████████████| 981 kB 8.5 MB/s \n",
            "\u001b[?25hRequirement already satisfied: six in /usr/local/lib/python3.7/dist-packages (from langdetect) (1.15.0)\n",
            "Building wheels for collected packages: langdetect\n",
            "  Building wheel for langdetect (setup.py) ... \u001b[?25l\u001b[?25hdone\n",
            "  Created wheel for langdetect: filename=langdetect-1.0.9-py3-none-any.whl size=993242 sha256=bd0065c3d8dd70d1a657b5c3db81a00d0913d4af38591f9b7ff25e4dba711683\n",
            "  Stored in directory: /root/.cache/pip/wheels/c5/96/8a/f90c59ed25d75e50a8c10a1b1c2d4c402e4dacfa87f3aff36a\n",
            "Successfully built langdetect\n",
            "Installing collected packages: langdetect\n",
            "Successfully installed langdetect-1.0.9\n"
          ]
        }
      ]
    },
    {
      "cell_type": "code",
      "source": [
        "#detecting records with German language and dropping them\n",
        "idx_ger_records = data_analyst_df[data_analyst_df.job_description.apply(lambda x: detect(x)) == 'de'].index\n",
        "data_analyst_df.drop(index=idx_ger_records, inplace=True)"
      ],
      "metadata": {
        "id": "toAnkHIs8bc_"
      },
      "execution_count": 48,
      "outputs": []
    },
    {
      "cell_type": "code",
      "source": [
        "#records in requirement with missings values\n",
        "data_req_na = data_analyst_df[data_analyst_df.requirement.isna()]\n",
        "data_req_na"
      ],
      "metadata": {
        "colab": {
          "base_uri": "https://localhost:8080/",
          "height": 250
        },
        "id": "yvkGeZx8-lJ_",
        "outputId": "6685b984-6c62-40fd-c67a-e53f26155455"
      },
      "execution_count": 51,
      "outputs": [
        {
          "output_type": "execute_result",
          "data": {
            "text/plain": [
              "           date job_location  \\\n",
              "58   2022-05-20       Berlin   \n",
              "111  2022-05-07       Berlin   \n",
              "128  2022-05-17       Berlin   \n",
              "135  2022-05-17       Berlin   \n",
              "155  2022-05-04       Berlin   \n",
              "\n",
              "                                             job_title  \\\n",
              "58   Pricing Analyst / Pricing Analyst Manager (m/w/d)   \n",
              "111                               Senior Data Engineer   \n",
              "128                              UI Developer - Berlin   \n",
              "135                              UI Developer - Berlin   \n",
              "155                          ERP Functional Consultant   \n",
              "\n",
              "                        company requirement add_req  \\\n",
              "58                          Oda         NaN     NaN   \n",
              "111  Oxygen Digital Recruitment         NaN     NaN   \n",
              "128                         ION         NaN     NaN   \n",
              "135                         ION         NaN     NaN   \n",
              "155     Arrow Electronics, Inc.         NaN     NaN   \n",
              "\n",
              "                                       job_description  \n",
              "58   \\n\\nOda is a company on the move. We built Nor...  \n",
              "111  \\n\\nWe're working with a great Green-Energy co...  \n",
              "128  \\n\\n\\nThe Role:\\n\\n\\n\\n Do you want to join th...  \n",
              "135  The Role:\\nDo you want to join the visionary i...  \n",
              "155  \\n\\nPosition:\\n ERP Functional Consultant\\n  \\...  "
            ],
            "text/html": [
              "\n",
              "  <div id=\"df-ff013b66-b7e6-4746-ab83-f2b3fe366f90\">\n",
              "    <div class=\"colab-df-container\">\n",
              "      <div>\n",
              "<style scoped>\n",
              "    .dataframe tbody tr th:only-of-type {\n",
              "        vertical-align: middle;\n",
              "    }\n",
              "\n",
              "    .dataframe tbody tr th {\n",
              "        vertical-align: top;\n",
              "    }\n",
              "\n",
              "    .dataframe thead th {\n",
              "        text-align: right;\n",
              "    }\n",
              "</style>\n",
              "<table border=\"1\" class=\"dataframe\">\n",
              "  <thead>\n",
              "    <tr style=\"text-align: right;\">\n",
              "      <th></th>\n",
              "      <th>date</th>\n",
              "      <th>job_location</th>\n",
              "      <th>job_title</th>\n",
              "      <th>company</th>\n",
              "      <th>requirement</th>\n",
              "      <th>add_req</th>\n",
              "      <th>job_description</th>\n",
              "    </tr>\n",
              "  </thead>\n",
              "  <tbody>\n",
              "    <tr>\n",
              "      <th>58</th>\n",
              "      <td>2022-05-20</td>\n",
              "      <td>Berlin</td>\n",
              "      <td>Pricing Analyst / Pricing Analyst Manager (m/w/d)</td>\n",
              "      <td>Oda</td>\n",
              "      <td>NaN</td>\n",
              "      <td>NaN</td>\n",
              "      <td>\\n\\nOda is a company on the move. We built Nor...</td>\n",
              "    </tr>\n",
              "    <tr>\n",
              "      <th>111</th>\n",
              "      <td>2022-05-07</td>\n",
              "      <td>Berlin</td>\n",
              "      <td>Senior Data Engineer</td>\n",
              "      <td>Oxygen Digital Recruitment</td>\n",
              "      <td>NaN</td>\n",
              "      <td>NaN</td>\n",
              "      <td>\\n\\nWe're working with a great Green-Energy co...</td>\n",
              "    </tr>\n",
              "    <tr>\n",
              "      <th>128</th>\n",
              "      <td>2022-05-17</td>\n",
              "      <td>Berlin</td>\n",
              "      <td>UI Developer - Berlin</td>\n",
              "      <td>ION</td>\n",
              "      <td>NaN</td>\n",
              "      <td>NaN</td>\n",
              "      <td>\\n\\n\\nThe Role:\\n\\n\\n\\n Do you want to join th...</td>\n",
              "    </tr>\n",
              "    <tr>\n",
              "      <th>135</th>\n",
              "      <td>2022-05-17</td>\n",
              "      <td>Berlin</td>\n",
              "      <td>UI Developer - Berlin</td>\n",
              "      <td>ION</td>\n",
              "      <td>NaN</td>\n",
              "      <td>NaN</td>\n",
              "      <td>The Role:\\nDo you want to join the visionary i...</td>\n",
              "    </tr>\n",
              "    <tr>\n",
              "      <th>155</th>\n",
              "      <td>2022-05-04</td>\n",
              "      <td>Berlin</td>\n",
              "      <td>ERP Functional Consultant</td>\n",
              "      <td>Arrow Electronics, Inc.</td>\n",
              "      <td>NaN</td>\n",
              "      <td>NaN</td>\n",
              "      <td>\\n\\nPosition:\\n ERP Functional Consultant\\n  \\...</td>\n",
              "    </tr>\n",
              "  </tbody>\n",
              "</table>\n",
              "</div>\n",
              "      <button class=\"colab-df-convert\" onclick=\"convertToInteractive('df-ff013b66-b7e6-4746-ab83-f2b3fe366f90')\"\n",
              "              title=\"Convert this dataframe to an interactive table.\"\n",
              "              style=\"display:none;\">\n",
              "        \n",
              "  <svg xmlns=\"http://www.w3.org/2000/svg\" height=\"24px\"viewBox=\"0 0 24 24\"\n",
              "       width=\"24px\">\n",
              "    <path d=\"M0 0h24v24H0V0z\" fill=\"none\"/>\n",
              "    <path d=\"M18.56 5.44l.94 2.06.94-2.06 2.06-.94-2.06-.94-.94-2.06-.94 2.06-2.06.94zm-11 1L8.5 8.5l.94-2.06 2.06-.94-2.06-.94L8.5 2.5l-.94 2.06-2.06.94zm10 10l.94 2.06.94-2.06 2.06-.94-2.06-.94-.94-2.06-.94 2.06-2.06.94z\"/><path d=\"M17.41 7.96l-1.37-1.37c-.4-.4-.92-.59-1.43-.59-.52 0-1.04.2-1.43.59L10.3 9.45l-7.72 7.72c-.78.78-.78 2.05 0 2.83L4 21.41c.39.39.9.59 1.41.59.51 0 1.02-.2 1.41-.59l7.78-7.78 2.81-2.81c.8-.78.8-2.07 0-2.86zM5.41 20L4 18.59l7.72-7.72 1.47 1.35L5.41 20z\"/>\n",
              "  </svg>\n",
              "      </button>\n",
              "      \n",
              "  <style>\n",
              "    .colab-df-container {\n",
              "      display:flex;\n",
              "      flex-wrap:wrap;\n",
              "      gap: 12px;\n",
              "    }\n",
              "\n",
              "    .colab-df-convert {\n",
              "      background-color: #E8F0FE;\n",
              "      border: none;\n",
              "      border-radius: 50%;\n",
              "      cursor: pointer;\n",
              "      display: none;\n",
              "      fill: #1967D2;\n",
              "      height: 32px;\n",
              "      padding: 0 0 0 0;\n",
              "      width: 32px;\n",
              "    }\n",
              "\n",
              "    .colab-df-convert:hover {\n",
              "      background-color: #E2EBFA;\n",
              "      box-shadow: 0px 1px 2px rgba(60, 64, 67, 0.3), 0px 1px 3px 1px rgba(60, 64, 67, 0.15);\n",
              "      fill: #174EA6;\n",
              "    }\n",
              "\n",
              "    [theme=dark] .colab-df-convert {\n",
              "      background-color: #3B4455;\n",
              "      fill: #D2E3FC;\n",
              "    }\n",
              "\n",
              "    [theme=dark] .colab-df-convert:hover {\n",
              "      background-color: #434B5C;\n",
              "      box-shadow: 0px 1px 3px 1px rgba(0, 0, 0, 0.15);\n",
              "      filter: drop-shadow(0px 1px 2px rgba(0, 0, 0, 0.3));\n",
              "      fill: #FFFFFF;\n",
              "    }\n",
              "  </style>\n",
              "\n",
              "      <script>\n",
              "        const buttonEl =\n",
              "          document.querySelector('#df-ff013b66-b7e6-4746-ab83-f2b3fe366f90 button.colab-df-convert');\n",
              "        buttonEl.style.display =\n",
              "          google.colab.kernel.accessAllowed ? 'block' : 'none';\n",
              "\n",
              "        async function convertToInteractive(key) {\n",
              "          const element = document.querySelector('#df-ff013b66-b7e6-4746-ab83-f2b3fe366f90');\n",
              "          const dataTable =\n",
              "            await google.colab.kernel.invokeFunction('convertToInteractive',\n",
              "                                                     [key], {});\n",
              "          if (!dataTable) return;\n",
              "\n",
              "          const docLinkHtml = 'Like what you see? Visit the ' +\n",
              "            '<a target=\"_blank\" href=https://colab.research.google.com/notebooks/data_table.ipynb>data table notebook</a>'\n",
              "            + ' to learn more about interactive tables.';\n",
              "          element.innerHTML = '';\n",
              "          dataTable['output_type'] = 'display_data';\n",
              "          await google.colab.output.renderOutput(dataTable, element);\n",
              "          const docLink = document.createElement('div');\n",
              "          docLink.innerHTML = docLinkHtml;\n",
              "          element.appendChild(docLink);\n",
              "        }\n",
              "      </script>\n",
              "    </div>\n",
              "  </div>\n",
              "  "
            ]
          },
          "metadata": {},
          "execution_count": 51
        }
      ]
    },
    {
      "cell_type": "code",
      "source": [
        "data_req_na.job_description.values[0]"
      ],
      "metadata": {
        "id": "qo3hE3dwV0QR"
      },
      "execution_count": null,
      "outputs": []
    },
    {
      "cell_type": "code",
      "source": [
        "data_req_na.job_description.values[0].split('\\n\\n')"
      ],
      "metadata": {
        "id": "20JKUbjNEYGn"
      },
      "execution_count": null,
      "outputs": []
    },
    {
      "cell_type": "code",
      "source": [
        "data_analyst_df.date.str.startswith('.css').value_counts()"
      ],
      "metadata": {
        "colab": {
          "base_uri": "https://localhost:8080/"
        },
        "id": "6zCKfbv8u8AE",
        "outputId": "e2d776cb-148f-45fe-a380-62fba1f6d1b9"
      },
      "execution_count": 12,
      "outputs": [
        {
          "output_type": "execute_result",
          "data": {
            "text/plain": [
              "False    141\n",
              "True      15\n",
              "Name: date, dtype: int64"
            ]
          },
          "metadata": {},
          "execution_count": 12
        }
      ]
    },
    {
      "cell_type": "code",
      "source": [
        "data_analyst_df.date.isna().any()"
      ],
      "metadata": {
        "colab": {
          "base_uri": "https://localhost:8080/"
        },
        "id": "bxk0B4WyP_x-",
        "outputId": "a3971ded-a7ed-4ad2-901c-309331671bfc"
      },
      "execution_count": 13,
      "outputs": [
        {
          "output_type": "execute_result",
          "data": {
            "text/plain": [
              "False"
            ]
          },
          "metadata": {},
          "execution_count": 13
        }
      ]
    },
    {
      "cell_type": "code",
      "source": [
        "data_analyst_df[data_analyst_df.date.str.startswith('.css')].date.index"
      ],
      "metadata": {
        "colab": {
          "base_uri": "https://localhost:8080/"
        },
        "id": "8oB0TCPZNjgV",
        "outputId": "41ad8a41-197f-4a00-8f8b-f2f034423d87"
      },
      "execution_count": 14,
      "outputs": [
        {
          "output_type": "execute_result",
          "data": {
            "text/plain": [
              "Int64Index([0, 1, 3, 8, 9, 10, 17, 23, 24, 26, 31, 42, 45, 60, 93], dtype='int64')"
            ]
          },
          "metadata": {},
          "execution_count": 14
        }
      ]
    },
    {
      "cell_type": "code",
      "source": [
        "#index_rep = data_analyst_df[data_analyst_df.date == \"Diesen Job melden\"].date.index #bad values for old de.indeed format\n",
        "data_analyst_df.date.fillna('.css', inplace=True) #found one record at one attempt to have NaN. Filling it with .css to preserve the structure\n",
        "index_rep = data_analyst_df[data_analyst_df.date.str.startswith('.css')].index #bad values for new de.indeed format"
      ],
      "metadata": {
        "id": "0hflOoWTQNZ7"
      },
      "execution_count": 15,
      "outputs": []
    },
    {
      "cell_type": "code",
      "source": [
        "#footers had it wrong sometimes, replaced with company_alt that had the right date which exist in the footer as well\n",
        "\n",
        "actual_date = data_analyst_df.iloc[index_rep].company_alt\n",
        "fake_date = data_analyst_df.iloc[index_rep].date\n",
        "data_analyst_df.date.replace(fake_date.values, actual_date.values, inplace=True)"
      ],
      "metadata": {
        "id": "57MpZIbRvNHx"
      },
      "execution_count": 16,
      "outputs": []
    },
    {
      "cell_type": "code",
      "source": [
        "data_analyst_df.date.value_counts()"
      ],
      "metadata": {
        "id": "OVLj4U4zwzKE",
        "colab": {
          "base_uri": "https://localhost:8080/"
        },
        "outputId": "b494bb15-36ea-468f-ca5f-5f77191beb7b"
      },
      "execution_count": 17,
      "outputs": [
        {
          "output_type": "execute_result",
          "data": {
            "text/plain": [
              "vor 8 Tagen     27\n",
              "vor 4 Tagen     12\n",
              "vor 25 Tagen    11\n",
              "vor 18 Tagen    10\n",
              "vor 7 Tagen      9\n",
              "vor 22 Tagen     9\n",
              "vor 17 Tagen     7\n",
              "vor 15 Tagen     7\n",
              "vor 21 Tagen     6\n",
              "vor 3 Tagen      6\n",
              "vor 16 Tagen     6\n",
              "vor 29 Tagen     5\n",
              "vor 23 Tagen     5\n",
              "vor 2 Tagen      5\n",
              "vor 14 Tagen     4\n",
              "Heute            4\n",
              "vor 9 Tagen      4\n",
              "vor 24 Tagen     4\n",
              "vor 11 Tagen     3\n",
              "vor 28 Tagen     3\n",
              "vor 10 Tagen     3\n",
              "vor 19 Tagen     2\n",
              "vor 6 Tagen      2\n",
              "vor 5 Tagen      1\n",
              "vor 1 Tag        1\n",
              "Name: date, dtype: int64"
            ]
          },
          "metadata": {},
          "execution_count": 17
        }
      ]
    },
    {
      "cell_type": "code",
      "source": [
        "data_analyst_df.company.value_counts()"
      ],
      "metadata": {
        "id": "rQ2tJxcqxYzv",
        "colab": {
          "base_uri": "https://localhost:8080/"
        },
        "outputId": "9db4fcaa-b7d5-4dff-ad0c-392169091f4d"
      },
      "execution_count": 18,
      "outputs": [
        {
          "output_type": "execute_result",
          "data": {
            "text/plain": [
              "Delivery Hero                  11\n",
              "Zalando                         7\n",
              "Deutsche Bank                   5\n",
              "Aurora Energy Research GmbH     4\n",
              "Lieferando                      4\n",
              "                               ..\n",
              "HelloFresh                      1\n",
              "Yelp                            1\n",
              "Point Nine                      1\n",
              "Mambu                           1\n",
              "HERE Technologies               1\n",
              "Name: company, Length: 100, dtype: int64"
            ]
          },
          "metadata": {},
          "execution_count": 18
        }
      ]
    },
    {
      "cell_type": "code",
      "source": [
        "ind = data_analyst_df[data_analyst_df.company == \"\"].company.index"
      ],
      "metadata": {
        "id": "5Zs5EbX6z86o"
      },
      "execution_count": 19,
      "outputs": []
    },
    {
      "cell_type": "code",
      "source": [
        "#This time getting the company from the footer\n",
        "actual = data_analyst_df.iloc[ind].company_alt\n",
        "fake = data_analyst_df.iloc[ind].company\n",
        "data_analyst_df.company.replace(fake.values, actual.values, inplace=True)"
      ],
      "metadata": {
        "id": "2wwL2rpC0rAF"
      },
      "execution_count": 20,
      "outputs": []
    },
    {
      "cell_type": "code",
      "source": [
        "data_analyst_df.drop(columns='company_alt', inplace=True) #dropping company_alt after extracting actual date and company values"
      ],
      "metadata": {
        "id": "IT3oZo8N0c8g"
      },
      "execution_count": 21,
      "outputs": []
    },
    {
      "cell_type": "code",
      "source": [
        "data_analyst_df.company.value_counts()"
      ],
      "metadata": {
        "id": "9I12mkV-1D7D",
        "colab": {
          "base_uri": "https://localhost:8080/"
        },
        "outputId": "70e5f6e9-3dda-4e66-d420-897144b95e4e"
      },
      "execution_count": 22,
      "outputs": [
        {
          "output_type": "execute_result",
          "data": {
            "text/plain": [
              "Delivery Hero                  11\n",
              "Zalando                         7\n",
              "Deutsche Bank                   5\n",
              "Aurora Energy Research GmbH     4\n",
              "Lieferando                      4\n",
              "                               ..\n",
              "HelloFresh                      1\n",
              "Yelp                            1\n",
              "Point Nine                      1\n",
              "Mambu                           1\n",
              "HERE Technologies               1\n",
              "Name: company, Length: 100, dtype: int64"
            ]
          },
          "metadata": {},
          "execution_count": 22
        }
      ]
    },
    {
      "cell_type": "code",
      "source": [
        "data_analyst_df.head()"
      ],
      "metadata": {
        "colab": {
          "base_uri": "https://localhost:8080/",
          "height": 337
        },
        "id": "f4bZCvgKgj8u",
        "outputId": "b459b140-ac87-475e-95a5-747acd0a6937"
      },
      "execution_count": 23,
      "outputs": [
        {
          "output_type": "execute_result",
          "data": {
            "text/plain": [
              "          date job_location                                  job_title  \\\n",
              "0  vor 8 Tagen       Berlin    Business Data Analyst – Level 1 (m/f/d)   \n",
              "1  vor 8 Tagen       Berlin               Product Data Analyst (m/f/d)   \n",
              "2  vor 8 Tagen       Berlin        Claims & Risk Analyst, EMEA (m/w/d)   \n",
              "3  vor 8 Tagen       Berlin                Senior Data Analyst (m/f/x)   \n",
              "4  vor 2 Tagen       Berlin  Senior Data Analyst - Global Data (f/m/d)   \n",
              "\n",
              "                                             company  \\\n",
              "0  ICE International Copyright Enterprise Germany...   \n",
              "1                                       COMATCH GmbH   \n",
              "2                                              Tesla   \n",
              "3                                       Getsafe GmbH   \n",
              "4                                      Delivery Hero   \n",
              "\n",
              "                                         requirement  \\\n",
              "0  You’re keen to delve into the world of coding,...   \n",
              "1  You have significant experience (3+ years) in ...   \n",
              "2  4 to 6 years of multi-line insurance/claims ma...   \n",
              "3  You will develop further our BI and reporting ...   \n",
              "4  Want to be a Hero? Join the #1 GLOBAL LEADER i...   \n",
              "\n",
              "                                             add_req  \\\n",
              "0                                                NaN   \n",
              "1  Top Employer Award - awarded several times by ...   \n",
              "2                                                NaN   \n",
              "3  You have 4+ years of experience in Business In...   \n",
              "4  More than 4 years experience as a BI/Data Anal...   \n",
              "\n",
              "                                     job_description  \n",
              "0  What is ICE?ICE is the result of a big vision ...  \n",
              "1  \\nYour missionAs COMATCH and Malt, we are now ...  \n",
              "2  \\n\\n\\n\\n\\nThe Role\\n\\n\\n\\n Tesla’s Global Risk...  \n",
              "3  \\nGetsafe is one of the fastest growing tech c...  \n",
              "4  \\n\\n\\n\\n\\n\\n      Want to be a Hero? Join the ...  "
            ],
            "text/html": [
              "\n",
              "  <div id=\"df-b16991cb-1b2b-4e63-b535-36f78e9c29d7\">\n",
              "    <div class=\"colab-df-container\">\n",
              "      <div>\n",
              "<style scoped>\n",
              "    .dataframe tbody tr th:only-of-type {\n",
              "        vertical-align: middle;\n",
              "    }\n",
              "\n",
              "    .dataframe tbody tr th {\n",
              "        vertical-align: top;\n",
              "    }\n",
              "\n",
              "    .dataframe thead th {\n",
              "        text-align: right;\n",
              "    }\n",
              "</style>\n",
              "<table border=\"1\" class=\"dataframe\">\n",
              "  <thead>\n",
              "    <tr style=\"text-align: right;\">\n",
              "      <th></th>\n",
              "      <th>date</th>\n",
              "      <th>job_location</th>\n",
              "      <th>job_title</th>\n",
              "      <th>company</th>\n",
              "      <th>requirement</th>\n",
              "      <th>add_req</th>\n",
              "      <th>job_description</th>\n",
              "    </tr>\n",
              "  </thead>\n",
              "  <tbody>\n",
              "    <tr>\n",
              "      <th>0</th>\n",
              "      <td>vor 8 Tagen</td>\n",
              "      <td>Berlin</td>\n",
              "      <td>Business Data Analyst – Level 1 (m/f/d)</td>\n",
              "      <td>ICE International Copyright Enterprise Germany...</td>\n",
              "      <td>You’re keen to delve into the world of coding,...</td>\n",
              "      <td>NaN</td>\n",
              "      <td>What is ICE?ICE is the result of a big vision ...</td>\n",
              "    </tr>\n",
              "    <tr>\n",
              "      <th>1</th>\n",
              "      <td>vor 8 Tagen</td>\n",
              "      <td>Berlin</td>\n",
              "      <td>Product Data Analyst (m/f/d)</td>\n",
              "      <td>COMATCH GmbH</td>\n",
              "      <td>You have significant experience (3+ years) in ...</td>\n",
              "      <td>Top Employer Award - awarded several times by ...</td>\n",
              "      <td>\\nYour missionAs COMATCH and Malt, we are now ...</td>\n",
              "    </tr>\n",
              "    <tr>\n",
              "      <th>2</th>\n",
              "      <td>vor 8 Tagen</td>\n",
              "      <td>Berlin</td>\n",
              "      <td>Claims &amp; Risk Analyst, EMEA (m/w/d)</td>\n",
              "      <td>Tesla</td>\n",
              "      <td>4 to 6 years of multi-line insurance/claims ma...</td>\n",
              "      <td>NaN</td>\n",
              "      <td>\\n\\n\\n\\n\\nThe Role\\n\\n\\n\\n Tesla’s Global Risk...</td>\n",
              "    </tr>\n",
              "    <tr>\n",
              "      <th>3</th>\n",
              "      <td>vor 8 Tagen</td>\n",
              "      <td>Berlin</td>\n",
              "      <td>Senior Data Analyst (m/f/x)</td>\n",
              "      <td>Getsafe GmbH</td>\n",
              "      <td>You will develop further our BI and reporting ...</td>\n",
              "      <td>You have 4+ years of experience in Business In...</td>\n",
              "      <td>\\nGetsafe is one of the fastest growing tech c...</td>\n",
              "    </tr>\n",
              "    <tr>\n",
              "      <th>4</th>\n",
              "      <td>vor 2 Tagen</td>\n",
              "      <td>Berlin</td>\n",
              "      <td>Senior Data Analyst - Global Data (f/m/d)</td>\n",
              "      <td>Delivery Hero</td>\n",
              "      <td>Want to be a Hero? Join the #1 GLOBAL LEADER i...</td>\n",
              "      <td>More than 4 years experience as a BI/Data Anal...</td>\n",
              "      <td>\\n\\n\\n\\n\\n\\n      Want to be a Hero? Join the ...</td>\n",
              "    </tr>\n",
              "  </tbody>\n",
              "</table>\n",
              "</div>\n",
              "      <button class=\"colab-df-convert\" onclick=\"convertToInteractive('df-b16991cb-1b2b-4e63-b535-36f78e9c29d7')\"\n",
              "              title=\"Convert this dataframe to an interactive table.\"\n",
              "              style=\"display:none;\">\n",
              "        \n",
              "  <svg xmlns=\"http://www.w3.org/2000/svg\" height=\"24px\"viewBox=\"0 0 24 24\"\n",
              "       width=\"24px\">\n",
              "    <path d=\"M0 0h24v24H0V0z\" fill=\"none\"/>\n",
              "    <path d=\"M18.56 5.44l.94 2.06.94-2.06 2.06-.94-2.06-.94-.94-2.06-.94 2.06-2.06.94zm-11 1L8.5 8.5l.94-2.06 2.06-.94-2.06-.94L8.5 2.5l-.94 2.06-2.06.94zm10 10l.94 2.06.94-2.06 2.06-.94-2.06-.94-.94-2.06-.94 2.06-2.06.94z\"/><path d=\"M17.41 7.96l-1.37-1.37c-.4-.4-.92-.59-1.43-.59-.52 0-1.04.2-1.43.59L10.3 9.45l-7.72 7.72c-.78.78-.78 2.05 0 2.83L4 21.41c.39.39.9.59 1.41.59.51 0 1.02-.2 1.41-.59l7.78-7.78 2.81-2.81c.8-.78.8-2.07 0-2.86zM5.41 20L4 18.59l7.72-7.72 1.47 1.35L5.41 20z\"/>\n",
              "  </svg>\n",
              "      </button>\n",
              "      \n",
              "  <style>\n",
              "    .colab-df-container {\n",
              "      display:flex;\n",
              "      flex-wrap:wrap;\n",
              "      gap: 12px;\n",
              "    }\n",
              "\n",
              "    .colab-df-convert {\n",
              "      background-color: #E8F0FE;\n",
              "      border: none;\n",
              "      border-radius: 50%;\n",
              "      cursor: pointer;\n",
              "      display: none;\n",
              "      fill: #1967D2;\n",
              "      height: 32px;\n",
              "      padding: 0 0 0 0;\n",
              "      width: 32px;\n",
              "    }\n",
              "\n",
              "    .colab-df-convert:hover {\n",
              "      background-color: #E2EBFA;\n",
              "      box-shadow: 0px 1px 2px rgba(60, 64, 67, 0.3), 0px 1px 3px 1px rgba(60, 64, 67, 0.15);\n",
              "      fill: #174EA6;\n",
              "    }\n",
              "\n",
              "    [theme=dark] .colab-df-convert {\n",
              "      background-color: #3B4455;\n",
              "      fill: #D2E3FC;\n",
              "    }\n",
              "\n",
              "    [theme=dark] .colab-df-convert:hover {\n",
              "      background-color: #434B5C;\n",
              "      box-shadow: 0px 1px 3px 1px rgba(0, 0, 0, 0.15);\n",
              "      filter: drop-shadow(0px 1px 2px rgba(0, 0, 0, 0.3));\n",
              "      fill: #FFFFFF;\n",
              "    }\n",
              "  </style>\n",
              "\n",
              "      <script>\n",
              "        const buttonEl =\n",
              "          document.querySelector('#df-b16991cb-1b2b-4e63-b535-36f78e9c29d7 button.colab-df-convert');\n",
              "        buttonEl.style.display =\n",
              "          google.colab.kernel.accessAllowed ? 'block' : 'none';\n",
              "\n",
              "        async function convertToInteractive(key) {\n",
              "          const element = document.querySelector('#df-b16991cb-1b2b-4e63-b535-36f78e9c29d7');\n",
              "          const dataTable =\n",
              "            await google.colab.kernel.invokeFunction('convertToInteractive',\n",
              "                                                     [key], {});\n",
              "          if (!dataTable) return;\n",
              "\n",
              "          const docLinkHtml = 'Like what you see? Visit the ' +\n",
              "            '<a target=\"_blank\" href=https://colab.research.google.com/notebooks/data_table.ipynb>data table notebook</a>'\n",
              "            + ' to learn more about interactive tables.';\n",
              "          element.innerHTML = '';\n",
              "          dataTable['output_type'] = 'display_data';\n",
              "          await google.colab.output.renderOutput(dataTable, element);\n",
              "          const docLink = document.createElement('div');\n",
              "          docLink.innerHTML = docLinkHtml;\n",
              "          element.appendChild(docLink);\n",
              "        }\n",
              "      </script>\n",
              "    </div>\n",
              "  </div>\n",
              "  "
            ]
          },
          "metadata": {},
          "execution_count": 23
        }
      ]
    },
    {
      "cell_type": "code",
      "source": [
        "#date posted to actual date\n",
        "data_analyst_df.date.replace(['Heute', 'Gerade geschaltet'], 0, inplace=True) #replacing date \"Heute\": today and \"Gerade geschaltet\":Just posted, with 0\n",
        "data_analyst_df.date.replace(regex=[r'\\D+'], value=\"\", inplace=True) #remove non digits\n",
        "data_analyst_df.date = data_analyst_df.date.astype(int).apply(lambda x: datetime.now().date()-timedelta(x)) #calculating the actual date"
      ],
      "metadata": {
        "id": "pvQ0XLV31280"
      },
      "execution_count": 24,
      "outputs": []
    },
    {
      "cell_type": "code",
      "source": [
        "data_analyst_df.head()"
      ],
      "metadata": {
        "colab": {
          "base_uri": "https://localhost:8080/",
          "height": 337
        },
        "id": "Gr5VT5ZiTuOO",
        "outputId": "272c7ac2-0720-477c-fdba-e9bdf96cd97c"
      },
      "execution_count": 25,
      "outputs": [
        {
          "output_type": "execute_result",
          "data": {
            "text/plain": [
              "         date job_location                                  job_title  \\\n",
              "0  2022-05-20       Berlin    Business Data Analyst – Level 1 (m/f/d)   \n",
              "1  2022-05-20       Berlin               Product Data Analyst (m/f/d)   \n",
              "2  2022-05-20       Berlin        Claims & Risk Analyst, EMEA (m/w/d)   \n",
              "3  2022-05-20       Berlin                Senior Data Analyst (m/f/x)   \n",
              "4  2022-05-26       Berlin  Senior Data Analyst - Global Data (f/m/d)   \n",
              "\n",
              "                                             company  \\\n",
              "0  ICE International Copyright Enterprise Germany...   \n",
              "1                                       COMATCH GmbH   \n",
              "2                                              Tesla   \n",
              "3                                       Getsafe GmbH   \n",
              "4                                      Delivery Hero   \n",
              "\n",
              "                                         requirement  \\\n",
              "0  You’re keen to delve into the world of coding,...   \n",
              "1  You have significant experience (3+ years) in ...   \n",
              "2  4 to 6 years of multi-line insurance/claims ma...   \n",
              "3  You will develop further our BI and reporting ...   \n",
              "4  Want to be a Hero? Join the #1 GLOBAL LEADER i...   \n",
              "\n",
              "                                             add_req  \\\n",
              "0                                                NaN   \n",
              "1  Top Employer Award - awarded several times by ...   \n",
              "2                                                NaN   \n",
              "3  You have 4+ years of experience in Business In...   \n",
              "4  More than 4 years experience as a BI/Data Anal...   \n",
              "\n",
              "                                     job_description  \n",
              "0  What is ICE?ICE is the result of a big vision ...  \n",
              "1  \\nYour missionAs COMATCH and Malt, we are now ...  \n",
              "2  \\n\\n\\n\\n\\nThe Role\\n\\n\\n\\n Tesla’s Global Risk...  \n",
              "3  \\nGetsafe is one of the fastest growing tech c...  \n",
              "4  \\n\\n\\n\\n\\n\\n      Want to be a Hero? Join the ...  "
            ],
            "text/html": [
              "\n",
              "  <div id=\"df-a6e3bc92-e206-4870-8c70-93f4048add10\">\n",
              "    <div class=\"colab-df-container\">\n",
              "      <div>\n",
              "<style scoped>\n",
              "    .dataframe tbody tr th:only-of-type {\n",
              "        vertical-align: middle;\n",
              "    }\n",
              "\n",
              "    .dataframe tbody tr th {\n",
              "        vertical-align: top;\n",
              "    }\n",
              "\n",
              "    .dataframe thead th {\n",
              "        text-align: right;\n",
              "    }\n",
              "</style>\n",
              "<table border=\"1\" class=\"dataframe\">\n",
              "  <thead>\n",
              "    <tr style=\"text-align: right;\">\n",
              "      <th></th>\n",
              "      <th>date</th>\n",
              "      <th>job_location</th>\n",
              "      <th>job_title</th>\n",
              "      <th>company</th>\n",
              "      <th>requirement</th>\n",
              "      <th>add_req</th>\n",
              "      <th>job_description</th>\n",
              "    </tr>\n",
              "  </thead>\n",
              "  <tbody>\n",
              "    <tr>\n",
              "      <th>0</th>\n",
              "      <td>2022-05-20</td>\n",
              "      <td>Berlin</td>\n",
              "      <td>Business Data Analyst – Level 1 (m/f/d)</td>\n",
              "      <td>ICE International Copyright Enterprise Germany...</td>\n",
              "      <td>You’re keen to delve into the world of coding,...</td>\n",
              "      <td>NaN</td>\n",
              "      <td>What is ICE?ICE is the result of a big vision ...</td>\n",
              "    </tr>\n",
              "    <tr>\n",
              "      <th>1</th>\n",
              "      <td>2022-05-20</td>\n",
              "      <td>Berlin</td>\n",
              "      <td>Product Data Analyst (m/f/d)</td>\n",
              "      <td>COMATCH GmbH</td>\n",
              "      <td>You have significant experience (3+ years) in ...</td>\n",
              "      <td>Top Employer Award - awarded several times by ...</td>\n",
              "      <td>\\nYour missionAs COMATCH and Malt, we are now ...</td>\n",
              "    </tr>\n",
              "    <tr>\n",
              "      <th>2</th>\n",
              "      <td>2022-05-20</td>\n",
              "      <td>Berlin</td>\n",
              "      <td>Claims &amp; Risk Analyst, EMEA (m/w/d)</td>\n",
              "      <td>Tesla</td>\n",
              "      <td>4 to 6 years of multi-line insurance/claims ma...</td>\n",
              "      <td>NaN</td>\n",
              "      <td>\\n\\n\\n\\n\\nThe Role\\n\\n\\n\\n Tesla’s Global Risk...</td>\n",
              "    </tr>\n",
              "    <tr>\n",
              "      <th>3</th>\n",
              "      <td>2022-05-20</td>\n",
              "      <td>Berlin</td>\n",
              "      <td>Senior Data Analyst (m/f/x)</td>\n",
              "      <td>Getsafe GmbH</td>\n",
              "      <td>You will develop further our BI and reporting ...</td>\n",
              "      <td>You have 4+ years of experience in Business In...</td>\n",
              "      <td>\\nGetsafe is one of the fastest growing tech c...</td>\n",
              "    </tr>\n",
              "    <tr>\n",
              "      <th>4</th>\n",
              "      <td>2022-05-26</td>\n",
              "      <td>Berlin</td>\n",
              "      <td>Senior Data Analyst - Global Data (f/m/d)</td>\n",
              "      <td>Delivery Hero</td>\n",
              "      <td>Want to be a Hero? Join the #1 GLOBAL LEADER i...</td>\n",
              "      <td>More than 4 years experience as a BI/Data Anal...</td>\n",
              "      <td>\\n\\n\\n\\n\\n\\n      Want to be a Hero? Join the ...</td>\n",
              "    </tr>\n",
              "  </tbody>\n",
              "</table>\n",
              "</div>\n",
              "      <button class=\"colab-df-convert\" onclick=\"convertToInteractive('df-a6e3bc92-e206-4870-8c70-93f4048add10')\"\n",
              "              title=\"Convert this dataframe to an interactive table.\"\n",
              "              style=\"display:none;\">\n",
              "        \n",
              "  <svg xmlns=\"http://www.w3.org/2000/svg\" height=\"24px\"viewBox=\"0 0 24 24\"\n",
              "       width=\"24px\">\n",
              "    <path d=\"M0 0h24v24H0V0z\" fill=\"none\"/>\n",
              "    <path d=\"M18.56 5.44l.94 2.06.94-2.06 2.06-.94-2.06-.94-.94-2.06-.94 2.06-2.06.94zm-11 1L8.5 8.5l.94-2.06 2.06-.94-2.06-.94L8.5 2.5l-.94 2.06-2.06.94zm10 10l.94 2.06.94-2.06 2.06-.94-2.06-.94-.94-2.06-.94 2.06-2.06.94z\"/><path d=\"M17.41 7.96l-1.37-1.37c-.4-.4-.92-.59-1.43-.59-.52 0-1.04.2-1.43.59L10.3 9.45l-7.72 7.72c-.78.78-.78 2.05 0 2.83L4 21.41c.39.39.9.59 1.41.59.51 0 1.02-.2 1.41-.59l7.78-7.78 2.81-2.81c.8-.78.8-2.07 0-2.86zM5.41 20L4 18.59l7.72-7.72 1.47 1.35L5.41 20z\"/>\n",
              "  </svg>\n",
              "      </button>\n",
              "      \n",
              "  <style>\n",
              "    .colab-df-container {\n",
              "      display:flex;\n",
              "      flex-wrap:wrap;\n",
              "      gap: 12px;\n",
              "    }\n",
              "\n",
              "    .colab-df-convert {\n",
              "      background-color: #E8F0FE;\n",
              "      border: none;\n",
              "      border-radius: 50%;\n",
              "      cursor: pointer;\n",
              "      display: none;\n",
              "      fill: #1967D2;\n",
              "      height: 32px;\n",
              "      padding: 0 0 0 0;\n",
              "      width: 32px;\n",
              "    }\n",
              "\n",
              "    .colab-df-convert:hover {\n",
              "      background-color: #E2EBFA;\n",
              "      box-shadow: 0px 1px 2px rgba(60, 64, 67, 0.3), 0px 1px 3px 1px rgba(60, 64, 67, 0.15);\n",
              "      fill: #174EA6;\n",
              "    }\n",
              "\n",
              "    [theme=dark] .colab-df-convert {\n",
              "      background-color: #3B4455;\n",
              "      fill: #D2E3FC;\n",
              "    }\n",
              "\n",
              "    [theme=dark] .colab-df-convert:hover {\n",
              "      background-color: #434B5C;\n",
              "      box-shadow: 0px 1px 3px 1px rgba(0, 0, 0, 0.15);\n",
              "      filter: drop-shadow(0px 1px 2px rgba(0, 0, 0, 0.3));\n",
              "      fill: #FFFFFF;\n",
              "    }\n",
              "  </style>\n",
              "\n",
              "      <script>\n",
              "        const buttonEl =\n",
              "          document.querySelector('#df-a6e3bc92-e206-4870-8c70-93f4048add10 button.colab-df-convert');\n",
              "        buttonEl.style.display =\n",
              "          google.colab.kernel.accessAllowed ? 'block' : 'none';\n",
              "\n",
              "        async function convertToInteractive(key) {\n",
              "          const element = document.querySelector('#df-a6e3bc92-e206-4870-8c70-93f4048add10');\n",
              "          const dataTable =\n",
              "            await google.colab.kernel.invokeFunction('convertToInteractive',\n",
              "                                                     [key], {});\n",
              "          if (!dataTable) return;\n",
              "\n",
              "          const docLinkHtml = 'Like what you see? Visit the ' +\n",
              "            '<a target=\"_blank\" href=https://colab.research.google.com/notebooks/data_table.ipynb>data table notebook</a>'\n",
              "            + ' to learn more about interactive tables.';\n",
              "          element.innerHTML = '';\n",
              "          dataTable['output_type'] = 'display_data';\n",
              "          await google.colab.output.renderOutput(dataTable, element);\n",
              "          const docLink = document.createElement('div');\n",
              "          docLink.innerHTML = docLinkHtml;\n",
              "          element.appendChild(docLink);\n",
              "        }\n",
              "      </script>\n",
              "    </div>\n",
              "  </div>\n",
              "  "
            ]
          },
          "metadata": {},
          "execution_count": 25
        }
      ]
    },
    {
      "cell_type": "markdown",
      "source": [
        "Getting some css in the date field.\n",
        "Needs a fix! SOLVED ✔"
      ],
      "metadata": {
        "id": "IvQkJFw-lZS9"
      }
    },
    {
      "cell_type": "markdown",
      "source": [
        "Convert date from date posted to actual date SOLVED ✔"
      ],
      "metadata": {
        "id": "RS3WTqMNUlit"
      }
    },
    {
      "cell_type": "markdown",
      "source": [
        "**Refactoring**\n",
        "\n",
        "*   Refactor get_job_df function. Move the sections logic to another function.\n",
        "\n",
        "*   Refactor company and date fixes by using functions\n",
        "\n"
      ],
      "metadata": {
        "id": "V7NqJvm8wlam"
      }
    },
    {
      "cell_type": "markdown",
      "source": [
        "Add feature, company rating from (glassdoor? indeed? kununu?)"
      ],
      "metadata": {
        "id": "5yuFw3hefGxj"
      }
    },
    {
      "cell_type": "markdown",
      "source": [
        "Add experience level feature"
      ],
      "metadata": {
        "id": "559ZXXv2pmi6"
      }
    },
    {
      "cell_type": "markdown",
      "source": [
        "check which companies add years of experience that unmatch the experience level in the job post #HR accountability"
      ],
      "metadata": {
        "id": "s9Gs7I3SpshM"
      }
    },
    {
      "cell_type": "code",
      "source": [
        ""
      ],
      "metadata": {
        "id": "whgQbJ-eMlFA"
      },
      "execution_count": 25,
      "outputs": []
    }
  ]
}